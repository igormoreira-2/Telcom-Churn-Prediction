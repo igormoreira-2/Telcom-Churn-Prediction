{
 "cells": [
  {
   "cell_type": "markdown",
   "metadata": {},
   "source": [
    "Developer: Igor Marques\n",
    "\n",
    "Dataset: https://www.kaggle.com/vhcg77/telcom-churns-dataset\n",
    "\n",
    "### Telecom Customer Churn Prediction"
   ]
  },
  {
   "cell_type": "markdown",
   "metadata": {},
   "source": [
    "Customer churn (also known as customer attrition) is the loss of client or customers over a specific period. Companies such as Netflix, Sky, O2, Insurance Providers, etc., often use customer churn rates as one of their key business metrics as the cost of retaining an existing customer is far less than acquiring a new one.\n",
    "\n",
    "There are two main types of churn: voluntary and involuntary. Voluntary churn occurs due to a decision by the customer to switch to another provider, whereas involuntary churn occurs due to circumstances beyond the customers/provider control (death, relocation, etc.). In most cases, involuntary churn is excluded for the analytical models. Analysts tend to focus on voluntary reasons because it typically occurs due to factors related to the company (customer relation, billing, satisfaction, etc.).\n",
    "\n",
    "Predictive analytics use churn prediction models that predict customer churn by assessing their propensity of risk to churn. Since these models generate a small list of customers likely to churn, customer retention market strategies focusing on these customers can be put in place.\n",
    "\n",
    "Retention Rate is an indication of how good is your product market fit (PMF). If your PMF is not satisfactory, you should see your customers churning very soon. One of the powerful tools to improve Retention Rate (hence the PMF) is Churn Prediction. By using this technique, you can easily find out who is likely to churn in the given period."
   ]
  },
  {
   "cell_type": "markdown",
   "metadata": {},
   "source": [
    "## 1. Initialization"
   ]
  },
  {
   "cell_type": "code",
   "execution_count": 126,
   "metadata": {},
   "outputs": [],
   "source": [
    "# Importing libraries\n",
    "\n",
    "import os\n",
    "import numpy as np\n",
    "import matplotlib.pyplot as plt\n",
    "import pandas as pd\n",
    "import seaborn as sns\n",
    "import statsmodels.api as sm\n",
    "import xgboost as xgb\n",
    "\n",
    "# Data Processing\n",
    "from sklearn.preprocessing import LabelEncoder\n",
    "from sklearn.preprocessing import StandardScaler\n",
    "from sklearn.model_selection import train_test_split\n",
    "from sklearn.model_selection import cross_val_score, cross_validate\n",
    "from sklearn.model_selection import cross_val_predict\n",
    "from sklearn.metrics import confusion_matrix,accuracy_score,classification_report\n",
    "from sklearn.metrics import roc_auc_score,roc_curve\n",
    "from sklearn.metrics import f1_score\n",
    "from sklearn.metrics import precision_score,recall_score\n",
    "from sklearn.base import BaseEstimator, TransformerMixin, RegressorMixin\n",
    "from sklearn.pipeline import Pipeline\n",
    "from sklearn.preprocessing import OneHotEncoder\n",
    "from sklearn.impute import SimpleImputer\n",
    "from sklearn.pipeline import FeatureUnion\n",
    "from sklearn.preprocessing import StandardScaler\n",
    "from sklearn.compose import ColumnTransformer\n",
    "\n",
    "# Models\n",
    "from sklearn.naive_bayes import GaussianNB\n",
    "from sklearn.linear_model import LogisticRegression\n",
    "from sklearn.ensemble import RandomForestClassifier\n",
    "from sklearn.ensemble import AdaBoostClassifier\n",
    "from sklearn.svm import LinearSVC, SVC\n",
    "from sklearn.ensemble import GradientBoostingClassifier\n",
    "from catboost import CatBoostClassifier\n",
    "from catboost import Pool as pool\n",
    "from catboost import cv\n",
    "from catboost.utils import get_roc_curve, get_confusion_matrix\n",
    "from catboost.utils import get_fpr_curve\n",
    "from catboost.utils import get_fnr_curve\n",
    "from catboost.utils import select_threshold\n",
    "from xgboost import XGBClassifier\n",
    "from xgboost import plot_importance\n",
    "\n",
    "\n",
    "# Hyperparameter Optimization\n",
    "from sklearn.model_selection import GridSearchCV\n",
    "from sklearn.model_selection import RandomizedSearchCV\n",
    "\n",
    "# import Hyperopt\n",
    "import hyperopt\n",
    "from hyperopt import hp, fmin, tpe, STATUS_OK, Trials"
   ]
  },
  {
   "cell_type": "markdown",
   "metadata": {},
   "source": [
    "## 2. Getting the Data"
   ]
  },
  {
   "cell_type": "code",
   "execution_count": 2,
   "metadata": {},
   "outputs": [],
   "source": [
    "telcom = pd.read_csv('Telco-Customer-Churn.csv')"
   ]
  },
  {
   "cell_type": "markdown",
   "metadata": {},
   "source": [
    "## 3. Initial Data Manipulation"
   ]
  },
  {
   "cell_type": "code",
   "execution_count": 3,
   "metadata": {},
   "outputs": [
    {
     "data": {
      "text/html": [
       "<div>\n",
       "<style scoped>\n",
       "    .dataframe tbody tr th:only-of-type {\n",
       "        vertical-align: middle;\n",
       "    }\n",
       "\n",
       "    .dataframe tbody tr th {\n",
       "        vertical-align: top;\n",
       "    }\n",
       "\n",
       "    .dataframe thead th {\n",
       "        text-align: right;\n",
       "    }\n",
       "</style>\n",
       "<table border=\"1\" class=\"dataframe\">\n",
       "  <thead>\n",
       "    <tr style=\"text-align: right;\">\n",
       "      <th></th>\n",
       "      <th>customerID</th>\n",
       "      <th>gender</th>\n",
       "      <th>SeniorCitizen</th>\n",
       "      <th>Partner</th>\n",
       "      <th>Dependents</th>\n",
       "      <th>tenure</th>\n",
       "      <th>PhoneService</th>\n",
       "      <th>MultipleLines</th>\n",
       "      <th>InternetService</th>\n",
       "      <th>OnlineSecurity</th>\n",
       "      <th>...</th>\n",
       "      <th>DeviceProtection</th>\n",
       "      <th>TechSupport</th>\n",
       "      <th>StreamingTV</th>\n",
       "      <th>StreamingMovies</th>\n",
       "      <th>Contract</th>\n",
       "      <th>PaperlessBilling</th>\n",
       "      <th>PaymentMethod</th>\n",
       "      <th>MonthlyCharges</th>\n",
       "      <th>TotalCharges</th>\n",
       "      <th>Churn</th>\n",
       "    </tr>\n",
       "  </thead>\n",
       "  <tbody>\n",
       "    <tr>\n",
       "      <th>0</th>\n",
       "      <td>7590-VHVEG</td>\n",
       "      <td>Female</td>\n",
       "      <td>0</td>\n",
       "      <td>Yes</td>\n",
       "      <td>No</td>\n",
       "      <td>1</td>\n",
       "      <td>No</td>\n",
       "      <td>No phone service</td>\n",
       "      <td>DSL</td>\n",
       "      <td>No</td>\n",
       "      <td>...</td>\n",
       "      <td>No</td>\n",
       "      <td>No</td>\n",
       "      <td>No</td>\n",
       "      <td>No</td>\n",
       "      <td>Month-to-month</td>\n",
       "      <td>Yes</td>\n",
       "      <td>Electronic check</td>\n",
       "      <td>29.85</td>\n",
       "      <td>29.85</td>\n",
       "      <td>No</td>\n",
       "    </tr>\n",
       "    <tr>\n",
       "      <th>1</th>\n",
       "      <td>5575-GNVDE</td>\n",
       "      <td>Male</td>\n",
       "      <td>0</td>\n",
       "      <td>No</td>\n",
       "      <td>No</td>\n",
       "      <td>34</td>\n",
       "      <td>Yes</td>\n",
       "      <td>No</td>\n",
       "      <td>DSL</td>\n",
       "      <td>Yes</td>\n",
       "      <td>...</td>\n",
       "      <td>Yes</td>\n",
       "      <td>No</td>\n",
       "      <td>No</td>\n",
       "      <td>No</td>\n",
       "      <td>One year</td>\n",
       "      <td>No</td>\n",
       "      <td>Mailed check</td>\n",
       "      <td>56.95</td>\n",
       "      <td>1889.5</td>\n",
       "      <td>No</td>\n",
       "    </tr>\n",
       "    <tr>\n",
       "      <th>2</th>\n",
       "      <td>3668-QPYBK</td>\n",
       "      <td>Male</td>\n",
       "      <td>0</td>\n",
       "      <td>No</td>\n",
       "      <td>No</td>\n",
       "      <td>2</td>\n",
       "      <td>Yes</td>\n",
       "      <td>No</td>\n",
       "      <td>DSL</td>\n",
       "      <td>Yes</td>\n",
       "      <td>...</td>\n",
       "      <td>No</td>\n",
       "      <td>No</td>\n",
       "      <td>No</td>\n",
       "      <td>No</td>\n",
       "      <td>Month-to-month</td>\n",
       "      <td>Yes</td>\n",
       "      <td>Mailed check</td>\n",
       "      <td>53.85</td>\n",
       "      <td>108.15</td>\n",
       "      <td>Yes</td>\n",
       "    </tr>\n",
       "    <tr>\n",
       "      <th>3</th>\n",
       "      <td>7795-CFOCW</td>\n",
       "      <td>Male</td>\n",
       "      <td>0</td>\n",
       "      <td>No</td>\n",
       "      <td>No</td>\n",
       "      <td>45</td>\n",
       "      <td>No</td>\n",
       "      <td>No phone service</td>\n",
       "      <td>DSL</td>\n",
       "      <td>Yes</td>\n",
       "      <td>...</td>\n",
       "      <td>Yes</td>\n",
       "      <td>Yes</td>\n",
       "      <td>No</td>\n",
       "      <td>No</td>\n",
       "      <td>One year</td>\n",
       "      <td>No</td>\n",
       "      <td>Bank transfer (automatic)</td>\n",
       "      <td>42.30</td>\n",
       "      <td>1840.75</td>\n",
       "      <td>No</td>\n",
       "    </tr>\n",
       "    <tr>\n",
       "      <th>4</th>\n",
       "      <td>9237-HQITU</td>\n",
       "      <td>Female</td>\n",
       "      <td>0</td>\n",
       "      <td>No</td>\n",
       "      <td>No</td>\n",
       "      <td>2</td>\n",
       "      <td>Yes</td>\n",
       "      <td>No</td>\n",
       "      <td>Fiber optic</td>\n",
       "      <td>No</td>\n",
       "      <td>...</td>\n",
       "      <td>No</td>\n",
       "      <td>No</td>\n",
       "      <td>No</td>\n",
       "      <td>No</td>\n",
       "      <td>Month-to-month</td>\n",
       "      <td>Yes</td>\n",
       "      <td>Electronic check</td>\n",
       "      <td>70.70</td>\n",
       "      <td>151.65</td>\n",
       "      <td>Yes</td>\n",
       "    </tr>\n",
       "  </tbody>\n",
       "</table>\n",
       "<p>5 rows × 21 columns</p>\n",
       "</div>"
      ],
      "text/plain": [
       "   customerID  gender  SeniorCitizen Partner Dependents  tenure PhoneService  \\\n",
       "0  7590-VHVEG  Female              0     Yes         No       1           No   \n",
       "1  5575-GNVDE    Male              0      No         No      34          Yes   \n",
       "2  3668-QPYBK    Male              0      No         No       2          Yes   \n",
       "3  7795-CFOCW    Male              0      No         No      45           No   \n",
       "4  9237-HQITU  Female              0      No         No       2          Yes   \n",
       "\n",
       "      MultipleLines InternetService OnlineSecurity  ... DeviceProtection  \\\n",
       "0  No phone service             DSL             No  ...               No   \n",
       "1                No             DSL            Yes  ...              Yes   \n",
       "2                No             DSL            Yes  ...               No   \n",
       "3  No phone service             DSL            Yes  ...              Yes   \n",
       "4                No     Fiber optic             No  ...               No   \n",
       "\n",
       "  TechSupport StreamingTV StreamingMovies        Contract PaperlessBilling  \\\n",
       "0          No          No              No  Month-to-month              Yes   \n",
       "1          No          No              No        One year               No   \n",
       "2          No          No              No  Month-to-month              Yes   \n",
       "3         Yes          No              No        One year               No   \n",
       "4          No          No              No  Month-to-month              Yes   \n",
       "\n",
       "               PaymentMethod MonthlyCharges  TotalCharges Churn  \n",
       "0           Electronic check          29.85         29.85    No  \n",
       "1               Mailed check          56.95        1889.5    No  \n",
       "2               Mailed check          53.85        108.15   Yes  \n",
       "3  Bank transfer (automatic)          42.30       1840.75    No  \n",
       "4           Electronic check          70.70        151.65   Yes  \n",
       "\n",
       "[5 rows x 21 columns]"
      ]
     },
     "execution_count": 3,
     "metadata": {},
     "output_type": "execute_result"
    }
   ],
   "source": [
    "telcom.head()"
   ]
  },
  {
   "cell_type": "code",
   "execution_count": 4,
   "metadata": {},
   "outputs": [
    {
     "name": "stdout",
     "output_type": "stream",
     "text": [
      "<class 'pandas.core.frame.DataFrame'>\n",
      "RangeIndex: 7043 entries, 0 to 7042\n",
      "Data columns (total 21 columns):\n",
      " #   Column            Non-Null Count  Dtype  \n",
      "---  ------            --------------  -----  \n",
      " 0   customerID        7043 non-null   object \n",
      " 1   gender            7043 non-null   object \n",
      " 2   SeniorCitizen     7043 non-null   int64  \n",
      " 3   Partner           7043 non-null   object \n",
      " 4   Dependents        7043 non-null   object \n",
      " 5   tenure            7043 non-null   int64  \n",
      " 6   PhoneService      7043 non-null   object \n",
      " 7   MultipleLines     7043 non-null   object \n",
      " 8   InternetService   7043 non-null   object \n",
      " 9   OnlineSecurity    7043 non-null   object \n",
      " 10  OnlineBackup      7043 non-null   object \n",
      " 11  DeviceProtection  7043 non-null   object \n",
      " 12  TechSupport       7043 non-null   object \n",
      " 13  StreamingTV       7043 non-null   object \n",
      " 14  StreamingMovies   7043 non-null   object \n",
      " 15  Contract          7043 non-null   object \n",
      " 16  PaperlessBilling  7043 non-null   object \n",
      " 17  PaymentMethod     7043 non-null   object \n",
      " 18  MonthlyCharges    7043 non-null   float64\n",
      " 19  TotalCharges      7043 non-null   object \n",
      " 20  Churn             7043 non-null   object \n",
      "dtypes: float64(1), int64(2), object(18)\n",
      "memory usage: 1.1+ MB\n"
     ]
    }
   ],
   "source": [
    "telcom.info()"
   ]
  },
  {
   "cell_type": "markdown",
   "metadata": {},
   "source": [
    "Let's confirm whether there are any missing values:"
   ]
  },
  {
   "cell_type": "code",
   "execution_count": 5,
   "metadata": {},
   "outputs": [
    {
     "data": {
      "text/plain": [
       "customerID          0\n",
       "gender              0\n",
       "SeniorCitizen       0\n",
       "Partner             0\n",
       "Dependents          0\n",
       "tenure              0\n",
       "PhoneService        0\n",
       "MultipleLines       0\n",
       "InternetService     0\n",
       "OnlineSecurity      0\n",
       "OnlineBackup        0\n",
       "DeviceProtection    0\n",
       "TechSupport         0\n",
       "StreamingTV         0\n",
       "StreamingMovies     0\n",
       "Contract            0\n",
       "PaperlessBilling    0\n",
       "PaymentMethod       0\n",
       "MonthlyCharges      0\n",
       "TotalCharges        0\n",
       "Churn               0\n",
       "dtype: int64"
      ]
     },
     "execution_count": 5,
     "metadata": {},
     "output_type": "execute_result"
    }
   ],
   "source": [
    "telcom.isnull().sum()"
   ]
  },
  {
   "cell_type": "markdown",
   "metadata": {},
   "source": [
    "Let's create lists for the attributes:"
   ]
  },
  {
   "cell_type": "code",
   "execution_count": 6,
   "metadata": {},
   "outputs": [
    {
     "name": "stdout",
     "output_type": "stream",
     "text": [
      "Numerical Attributes:\n",
      " ['SeniorCitizen', 'tenure', 'MonthlyCharges']\n",
      "Categorical Attributes:\n",
      " ['customerID', 'gender', 'Partner', 'Dependents', 'PhoneService', 'MultipleLines', 'InternetService', 'OnlineSecurity', 'OnlineBackup', 'DeviceProtection', 'TechSupport', 'StreamingTV', 'StreamingMovies', 'Contract', 'PaperlessBilling', 'PaymentMethod', 'TotalCharges', 'Churn']\n"
     ]
    }
   ],
   "source": [
    "all_att = list(telcom.columns)\n",
    "num_att = list(telcom._get_numeric_data().columns)\n",
    "cat_att = list(telcom.select_dtypes(include=['object']).columns)\n",
    "print('Numerical Attributes:' + '\\n {}'.format(num_att))\n",
    "print('Categorical Attributes:' + '\\n {}'.format(cat_att))"
   ]
  },
  {
   "cell_type": "markdown",
   "metadata": {},
   "source": [
    "Let's verify the unique values for each categorical attribute:"
   ]
  },
  {
   "cell_type": "code",
   "execution_count": 7,
   "metadata": {},
   "outputs": [
    {
     "name": "stdout",
     "output_type": "stream",
     "text": [
      "customerID: \n",
      "Unique values: 7043\n",
      "7813-TKCVO    1\n",
      "1619-YWUBB    1\n",
      "1104-FEJAM    1\n",
      "6848-HJTXY    1\n",
      "8652-YHIYU    1\n",
      "             ..\n",
      "3635-JBPSG    1\n",
      "8455-HIRAQ    1\n",
      "9835-ZIITK    1\n",
      "5207-PLSTK    1\n",
      "4021-RQSNY    1\n",
      "Name: customerID, Length: 7043, dtype: int64\n",
      "\n",
      "\n",
      "gender: \n",
      "Unique values: 2\n",
      "Male      3555\n",
      "Female    3488\n",
      "Name: gender, dtype: int64\n",
      "\n",
      "\n",
      "Partner: \n",
      "Unique values: 2\n",
      "No     3641\n",
      "Yes    3402\n",
      "Name: Partner, dtype: int64\n",
      "\n",
      "\n",
      "Dependents: \n",
      "Unique values: 2\n",
      "No     4933\n",
      "Yes    2110\n",
      "Name: Dependents, dtype: int64\n",
      "\n",
      "\n",
      "PhoneService: \n",
      "Unique values: 2\n",
      "Yes    6361\n",
      "No      682\n",
      "Name: PhoneService, dtype: int64\n",
      "\n",
      "\n",
      "MultipleLines: \n",
      "Unique values: 3\n",
      "No                  3390\n",
      "Yes                 2971\n",
      "No phone service     682\n",
      "Name: MultipleLines, dtype: int64\n",
      "\n",
      "\n",
      "InternetService: \n",
      "Unique values: 3\n",
      "Fiber optic    3096\n",
      "DSL            2421\n",
      "No             1526\n",
      "Name: InternetService, dtype: int64\n",
      "\n",
      "\n",
      "OnlineSecurity: \n",
      "Unique values: 3\n",
      "No                     3498\n",
      "Yes                    2019\n",
      "No internet service    1526\n",
      "Name: OnlineSecurity, dtype: int64\n",
      "\n",
      "\n",
      "OnlineBackup: \n",
      "Unique values: 3\n",
      "No                     3088\n",
      "Yes                    2429\n",
      "No internet service    1526\n",
      "Name: OnlineBackup, dtype: int64\n",
      "\n",
      "\n",
      "DeviceProtection: \n",
      "Unique values: 3\n",
      "No                     3095\n",
      "Yes                    2422\n",
      "No internet service    1526\n",
      "Name: DeviceProtection, dtype: int64\n",
      "\n",
      "\n",
      "TechSupport: \n",
      "Unique values: 3\n",
      "No                     3473\n",
      "Yes                    2044\n",
      "No internet service    1526\n",
      "Name: TechSupport, dtype: int64\n",
      "\n",
      "\n",
      "StreamingTV: \n",
      "Unique values: 3\n",
      "No                     2810\n",
      "Yes                    2707\n",
      "No internet service    1526\n",
      "Name: StreamingTV, dtype: int64\n",
      "\n",
      "\n",
      "StreamingMovies: \n",
      "Unique values: 3\n",
      "No                     2785\n",
      "Yes                    2732\n",
      "No internet service    1526\n",
      "Name: StreamingMovies, dtype: int64\n",
      "\n",
      "\n",
      "Contract: \n",
      "Unique values: 3\n",
      "Month-to-month    3875\n",
      "Two year          1695\n",
      "One year          1473\n",
      "Name: Contract, dtype: int64\n",
      "\n",
      "\n",
      "PaperlessBilling: \n",
      "Unique values: 2\n",
      "Yes    4171\n",
      "No     2872\n",
      "Name: PaperlessBilling, dtype: int64\n",
      "\n",
      "\n",
      "PaymentMethod: \n",
      "Unique values: 4\n",
      "Electronic check             2365\n",
      "Mailed check                 1612\n",
      "Bank transfer (automatic)    1544\n",
      "Credit card (automatic)      1522\n",
      "Name: PaymentMethod, dtype: int64\n",
      "\n",
      "\n",
      "TotalCharges: \n",
      "Unique values: 6531\n",
      "           11\n",
      "20.2       11\n",
      "19.75       9\n",
      "20.05       8\n",
      "19.9        8\n",
      "           ..\n",
      "2031.95     1\n",
      "762.25      1\n",
      "393.15      1\n",
      "368.1       1\n",
      "1046.2      1\n",
      "Name: TotalCharges, Length: 6531, dtype: int64\n",
      "\n",
      "\n",
      "Churn: \n",
      "Unique values: 2\n",
      "No     5174\n",
      "Yes    1869\n",
      "Name: Churn, dtype: int64\n",
      "\n",
      "\n"
     ]
    }
   ],
   "source": [
    "for col in cat_att:\n",
    "    print(col + ': ')\n",
    "    print('Unique values: {}'.format(telcom[col].nunique()))\n",
    "    print(telcom[col].value_counts())\n",
    "    print('\\n')"
   ]
  },
  {
   "cell_type": "markdown",
   "metadata": {},
   "source": [
    "We can notice from the cell above that the columns \"TotalCharges\" should be a numerical one. Let's investigate why it has been picked up as an object rather than number. Let's first get an overview of the numerical attributes:"
   ]
  },
  {
   "cell_type": "code",
   "execution_count": 8,
   "metadata": {},
   "outputs": [
    {
     "data": {
      "text/html": [
       "<div>\n",
       "<style scoped>\n",
       "    .dataframe tbody tr th:only-of-type {\n",
       "        vertical-align: middle;\n",
       "    }\n",
       "\n",
       "    .dataframe tbody tr th {\n",
       "        vertical-align: top;\n",
       "    }\n",
       "\n",
       "    .dataframe thead th {\n",
       "        text-align: right;\n",
       "    }\n",
       "</style>\n",
       "<table border=\"1\" class=\"dataframe\">\n",
       "  <thead>\n",
       "    <tr style=\"text-align: right;\">\n",
       "      <th></th>\n",
       "      <th>SeniorCitizen</th>\n",
       "      <th>tenure</th>\n",
       "      <th>MonthlyCharges</th>\n",
       "    </tr>\n",
       "  </thead>\n",
       "  <tbody>\n",
       "    <tr>\n",
       "      <th>count</th>\n",
       "      <td>7043.000000</td>\n",
       "      <td>7043.000000</td>\n",
       "      <td>7043.000000</td>\n",
       "    </tr>\n",
       "    <tr>\n",
       "      <th>mean</th>\n",
       "      <td>0.162147</td>\n",
       "      <td>32.371149</td>\n",
       "      <td>64.761692</td>\n",
       "    </tr>\n",
       "    <tr>\n",
       "      <th>std</th>\n",
       "      <td>0.368612</td>\n",
       "      <td>24.559481</td>\n",
       "      <td>30.090047</td>\n",
       "    </tr>\n",
       "    <tr>\n",
       "      <th>min</th>\n",
       "      <td>0.000000</td>\n",
       "      <td>0.000000</td>\n",
       "      <td>18.250000</td>\n",
       "    </tr>\n",
       "    <tr>\n",
       "      <th>25%</th>\n",
       "      <td>0.000000</td>\n",
       "      <td>9.000000</td>\n",
       "      <td>35.500000</td>\n",
       "    </tr>\n",
       "    <tr>\n",
       "      <th>50%</th>\n",
       "      <td>0.000000</td>\n",
       "      <td>29.000000</td>\n",
       "      <td>70.350000</td>\n",
       "    </tr>\n",
       "    <tr>\n",
       "      <th>75%</th>\n",
       "      <td>0.000000</td>\n",
       "      <td>55.000000</td>\n",
       "      <td>89.850000</td>\n",
       "    </tr>\n",
       "    <tr>\n",
       "      <th>max</th>\n",
       "      <td>1.000000</td>\n",
       "      <td>72.000000</td>\n",
       "      <td>118.750000</td>\n",
       "    </tr>\n",
       "  </tbody>\n",
       "</table>\n",
       "</div>"
      ],
      "text/plain": [
       "       SeniorCitizen       tenure  MonthlyCharges\n",
       "count    7043.000000  7043.000000     7043.000000\n",
       "mean        0.162147    32.371149       64.761692\n",
       "std         0.368612    24.559481       30.090047\n",
       "min         0.000000     0.000000       18.250000\n",
       "25%         0.000000     9.000000       35.500000\n",
       "50%         0.000000    29.000000       70.350000\n",
       "75%         0.000000    55.000000       89.850000\n",
       "max         1.000000    72.000000      118.750000"
      ]
     },
     "execution_count": 8,
     "metadata": {},
     "output_type": "execute_result"
    }
   ],
   "source": [
    "telcom.describe()"
   ]
  },
  {
   "cell_type": "markdown",
   "metadata": {},
   "source": [
    "Let's verify if there are hidden empty values in the 'TotalCharges' column:"
   ]
  },
  {
   "cell_type": "code",
   "execution_count": 9,
   "metadata": {},
   "outputs": [
    {
     "data": {
      "text/plain": [
       "     11\n",
       "Name: TotalCharges, dtype: int64"
      ]
     },
     "execution_count": 9,
     "metadata": {},
     "output_type": "execute_result"
    }
   ],
   "source": [
    "telcom[telcom['TotalCharges']==\" \"]['TotalCharges'].value_counts()"
   ]
  },
  {
   "cell_type": "markdown",
   "metadata": {},
   "source": [
    "Indeed, there are. There are 11 observations that are empty and were masked with a space in its cell, reason why pandas did not pick it up as nan. Let's replace it by a real **nan**."
   ]
  },
  {
   "cell_type": "code",
   "execution_count": 10,
   "metadata": {},
   "outputs": [],
   "source": [
    "telcom['TotalCharges'] = telcom['TotalCharges'].replace(\" \", np.nan)"
   ]
  },
  {
   "cell_type": "markdown",
   "metadata": {},
   "source": [
    "Let's confirm that we have now true null values:"
   ]
  },
  {
   "cell_type": "code",
   "execution_count": 11,
   "metadata": {},
   "outputs": [
    {
     "data": {
      "text/plain": [
       "11"
      ]
     },
     "execution_count": 11,
     "metadata": {},
     "output_type": "execute_result"
    }
   ],
   "source": [
    "telcom['TotalCharges'].isna().sum()"
   ]
  },
  {
   "cell_type": "markdown",
   "metadata": {},
   "source": [
    "Since we have only 11 empty observations in the 'TotalCharges' column (a very small number of missing data), we will be deleting these rows from our dataset rather them imputing them."
   ]
  },
  {
   "cell_type": "code",
   "execution_count": 12,
   "metadata": {},
   "outputs": [],
   "source": [
    "telcom_1 = telcom.copy()\n",
    "telcom_1 = telcom_1[telcom_1['TotalCharges'].notnull()]"
   ]
  },
  {
   "cell_type": "code",
   "execution_count": 13,
   "metadata": {},
   "outputs": [
    {
     "data": {
      "text/html": [
       "<div>\n",
       "<style scoped>\n",
       "    .dataframe tbody tr th:only-of-type {\n",
       "        vertical-align: middle;\n",
       "    }\n",
       "\n",
       "    .dataframe tbody tr th {\n",
       "        vertical-align: top;\n",
       "    }\n",
       "\n",
       "    .dataframe thead th {\n",
       "        text-align: right;\n",
       "    }\n",
       "</style>\n",
       "<table border=\"1\" class=\"dataframe\">\n",
       "  <thead>\n",
       "    <tr style=\"text-align: right;\">\n",
       "      <th></th>\n",
       "      <th>customerID</th>\n",
       "      <th>gender</th>\n",
       "      <th>SeniorCitizen</th>\n",
       "      <th>Partner</th>\n",
       "      <th>Dependents</th>\n",
       "      <th>tenure</th>\n",
       "      <th>PhoneService</th>\n",
       "      <th>MultipleLines</th>\n",
       "      <th>InternetService</th>\n",
       "      <th>OnlineSecurity</th>\n",
       "      <th>...</th>\n",
       "      <th>DeviceProtection</th>\n",
       "      <th>TechSupport</th>\n",
       "      <th>StreamingTV</th>\n",
       "      <th>StreamingMovies</th>\n",
       "      <th>Contract</th>\n",
       "      <th>PaperlessBilling</th>\n",
       "      <th>PaymentMethod</th>\n",
       "      <th>MonthlyCharges</th>\n",
       "      <th>TotalCharges</th>\n",
       "      <th>Churn</th>\n",
       "    </tr>\n",
       "  </thead>\n",
       "  <tbody>\n",
       "    <tr>\n",
       "      <th>0</th>\n",
       "      <td>7590-VHVEG</td>\n",
       "      <td>Female</td>\n",
       "      <td>0</td>\n",
       "      <td>Yes</td>\n",
       "      <td>No</td>\n",
       "      <td>1</td>\n",
       "      <td>No</td>\n",
       "      <td>No phone service</td>\n",
       "      <td>DSL</td>\n",
       "      <td>No</td>\n",
       "      <td>...</td>\n",
       "      <td>No</td>\n",
       "      <td>No</td>\n",
       "      <td>No</td>\n",
       "      <td>No</td>\n",
       "      <td>Month-to-month</td>\n",
       "      <td>Yes</td>\n",
       "      <td>Electronic check</td>\n",
       "      <td>29.85</td>\n",
       "      <td>29.85</td>\n",
       "      <td>No</td>\n",
       "    </tr>\n",
       "    <tr>\n",
       "      <th>1</th>\n",
       "      <td>5575-GNVDE</td>\n",
       "      <td>Male</td>\n",
       "      <td>0</td>\n",
       "      <td>No</td>\n",
       "      <td>No</td>\n",
       "      <td>34</td>\n",
       "      <td>Yes</td>\n",
       "      <td>No</td>\n",
       "      <td>DSL</td>\n",
       "      <td>Yes</td>\n",
       "      <td>...</td>\n",
       "      <td>Yes</td>\n",
       "      <td>No</td>\n",
       "      <td>No</td>\n",
       "      <td>No</td>\n",
       "      <td>One year</td>\n",
       "      <td>No</td>\n",
       "      <td>Mailed check</td>\n",
       "      <td>56.95</td>\n",
       "      <td>1889.5</td>\n",
       "      <td>No</td>\n",
       "    </tr>\n",
       "    <tr>\n",
       "      <th>2</th>\n",
       "      <td>3668-QPYBK</td>\n",
       "      <td>Male</td>\n",
       "      <td>0</td>\n",
       "      <td>No</td>\n",
       "      <td>No</td>\n",
       "      <td>2</td>\n",
       "      <td>Yes</td>\n",
       "      <td>No</td>\n",
       "      <td>DSL</td>\n",
       "      <td>Yes</td>\n",
       "      <td>...</td>\n",
       "      <td>No</td>\n",
       "      <td>No</td>\n",
       "      <td>No</td>\n",
       "      <td>No</td>\n",
       "      <td>Month-to-month</td>\n",
       "      <td>Yes</td>\n",
       "      <td>Mailed check</td>\n",
       "      <td>53.85</td>\n",
       "      <td>108.15</td>\n",
       "      <td>Yes</td>\n",
       "    </tr>\n",
       "    <tr>\n",
       "      <th>3</th>\n",
       "      <td>7795-CFOCW</td>\n",
       "      <td>Male</td>\n",
       "      <td>0</td>\n",
       "      <td>No</td>\n",
       "      <td>No</td>\n",
       "      <td>45</td>\n",
       "      <td>No</td>\n",
       "      <td>No phone service</td>\n",
       "      <td>DSL</td>\n",
       "      <td>Yes</td>\n",
       "      <td>...</td>\n",
       "      <td>Yes</td>\n",
       "      <td>Yes</td>\n",
       "      <td>No</td>\n",
       "      <td>No</td>\n",
       "      <td>One year</td>\n",
       "      <td>No</td>\n",
       "      <td>Bank transfer (automatic)</td>\n",
       "      <td>42.30</td>\n",
       "      <td>1840.75</td>\n",
       "      <td>No</td>\n",
       "    </tr>\n",
       "    <tr>\n",
       "      <th>4</th>\n",
       "      <td>9237-HQITU</td>\n",
       "      <td>Female</td>\n",
       "      <td>0</td>\n",
       "      <td>No</td>\n",
       "      <td>No</td>\n",
       "      <td>2</td>\n",
       "      <td>Yes</td>\n",
       "      <td>No</td>\n",
       "      <td>Fiber optic</td>\n",
       "      <td>No</td>\n",
       "      <td>...</td>\n",
       "      <td>No</td>\n",
       "      <td>No</td>\n",
       "      <td>No</td>\n",
       "      <td>No</td>\n",
       "      <td>Month-to-month</td>\n",
       "      <td>Yes</td>\n",
       "      <td>Electronic check</td>\n",
       "      <td>70.70</td>\n",
       "      <td>151.65</td>\n",
       "      <td>Yes</td>\n",
       "    </tr>\n",
       "    <tr>\n",
       "      <th>...</th>\n",
       "      <td>...</td>\n",
       "      <td>...</td>\n",
       "      <td>...</td>\n",
       "      <td>...</td>\n",
       "      <td>...</td>\n",
       "      <td>...</td>\n",
       "      <td>...</td>\n",
       "      <td>...</td>\n",
       "      <td>...</td>\n",
       "      <td>...</td>\n",
       "      <td>...</td>\n",
       "      <td>...</td>\n",
       "      <td>...</td>\n",
       "      <td>...</td>\n",
       "      <td>...</td>\n",
       "      <td>...</td>\n",
       "      <td>...</td>\n",
       "      <td>...</td>\n",
       "      <td>...</td>\n",
       "      <td>...</td>\n",
       "      <td>...</td>\n",
       "    </tr>\n",
       "    <tr>\n",
       "      <th>7027</th>\n",
       "      <td>6840-RESVB</td>\n",
       "      <td>Male</td>\n",
       "      <td>0</td>\n",
       "      <td>Yes</td>\n",
       "      <td>Yes</td>\n",
       "      <td>24</td>\n",
       "      <td>Yes</td>\n",
       "      <td>Yes</td>\n",
       "      <td>DSL</td>\n",
       "      <td>Yes</td>\n",
       "      <td>...</td>\n",
       "      <td>Yes</td>\n",
       "      <td>Yes</td>\n",
       "      <td>Yes</td>\n",
       "      <td>Yes</td>\n",
       "      <td>One year</td>\n",
       "      <td>Yes</td>\n",
       "      <td>Mailed check</td>\n",
       "      <td>84.80</td>\n",
       "      <td>1990.5</td>\n",
       "      <td>No</td>\n",
       "    </tr>\n",
       "    <tr>\n",
       "      <th>7028</th>\n",
       "      <td>2234-XADUH</td>\n",
       "      <td>Female</td>\n",
       "      <td>0</td>\n",
       "      <td>Yes</td>\n",
       "      <td>Yes</td>\n",
       "      <td>72</td>\n",
       "      <td>Yes</td>\n",
       "      <td>Yes</td>\n",
       "      <td>Fiber optic</td>\n",
       "      <td>No</td>\n",
       "      <td>...</td>\n",
       "      <td>Yes</td>\n",
       "      <td>No</td>\n",
       "      <td>Yes</td>\n",
       "      <td>Yes</td>\n",
       "      <td>One year</td>\n",
       "      <td>Yes</td>\n",
       "      <td>Credit card (automatic)</td>\n",
       "      <td>103.20</td>\n",
       "      <td>7362.9</td>\n",
       "      <td>No</td>\n",
       "    </tr>\n",
       "    <tr>\n",
       "      <th>7029</th>\n",
       "      <td>4801-JZAZL</td>\n",
       "      <td>Female</td>\n",
       "      <td>0</td>\n",
       "      <td>Yes</td>\n",
       "      <td>Yes</td>\n",
       "      <td>11</td>\n",
       "      <td>No</td>\n",
       "      <td>No phone service</td>\n",
       "      <td>DSL</td>\n",
       "      <td>Yes</td>\n",
       "      <td>...</td>\n",
       "      <td>No</td>\n",
       "      <td>No</td>\n",
       "      <td>No</td>\n",
       "      <td>No</td>\n",
       "      <td>Month-to-month</td>\n",
       "      <td>Yes</td>\n",
       "      <td>Electronic check</td>\n",
       "      <td>29.60</td>\n",
       "      <td>346.45</td>\n",
       "      <td>No</td>\n",
       "    </tr>\n",
       "    <tr>\n",
       "      <th>7030</th>\n",
       "      <td>8361-LTMKD</td>\n",
       "      <td>Male</td>\n",
       "      <td>1</td>\n",
       "      <td>Yes</td>\n",
       "      <td>No</td>\n",
       "      <td>4</td>\n",
       "      <td>Yes</td>\n",
       "      <td>Yes</td>\n",
       "      <td>Fiber optic</td>\n",
       "      <td>No</td>\n",
       "      <td>...</td>\n",
       "      <td>No</td>\n",
       "      <td>No</td>\n",
       "      <td>No</td>\n",
       "      <td>No</td>\n",
       "      <td>Month-to-month</td>\n",
       "      <td>Yes</td>\n",
       "      <td>Mailed check</td>\n",
       "      <td>74.40</td>\n",
       "      <td>306.6</td>\n",
       "      <td>Yes</td>\n",
       "    </tr>\n",
       "    <tr>\n",
       "      <th>7031</th>\n",
       "      <td>3186-AJIEK</td>\n",
       "      <td>Male</td>\n",
       "      <td>0</td>\n",
       "      <td>No</td>\n",
       "      <td>No</td>\n",
       "      <td>66</td>\n",
       "      <td>Yes</td>\n",
       "      <td>No</td>\n",
       "      <td>Fiber optic</td>\n",
       "      <td>Yes</td>\n",
       "      <td>...</td>\n",
       "      <td>Yes</td>\n",
       "      <td>Yes</td>\n",
       "      <td>Yes</td>\n",
       "      <td>Yes</td>\n",
       "      <td>Two year</td>\n",
       "      <td>Yes</td>\n",
       "      <td>Bank transfer (automatic)</td>\n",
       "      <td>105.65</td>\n",
       "      <td>6844.5</td>\n",
       "      <td>No</td>\n",
       "    </tr>\n",
       "  </tbody>\n",
       "</table>\n",
       "<p>7032 rows × 21 columns</p>\n",
       "</div>"
      ],
      "text/plain": [
       "      customerID  gender  SeniorCitizen Partner Dependents  tenure  \\\n",
       "0     7590-VHVEG  Female              0     Yes         No       1   \n",
       "1     5575-GNVDE    Male              0      No         No      34   \n",
       "2     3668-QPYBK    Male              0      No         No       2   \n",
       "3     7795-CFOCW    Male              0      No         No      45   \n",
       "4     9237-HQITU  Female              0      No         No       2   \n",
       "...          ...     ...            ...     ...        ...     ...   \n",
       "7027  6840-RESVB    Male              0     Yes        Yes      24   \n",
       "7028  2234-XADUH  Female              0     Yes        Yes      72   \n",
       "7029  4801-JZAZL  Female              0     Yes        Yes      11   \n",
       "7030  8361-LTMKD    Male              1     Yes         No       4   \n",
       "7031  3186-AJIEK    Male              0      No         No      66   \n",
       "\n",
       "     PhoneService     MultipleLines InternetService OnlineSecurity  ...  \\\n",
       "0              No  No phone service             DSL             No  ...   \n",
       "1             Yes                No             DSL            Yes  ...   \n",
       "2             Yes                No             DSL            Yes  ...   \n",
       "3              No  No phone service             DSL            Yes  ...   \n",
       "4             Yes                No     Fiber optic             No  ...   \n",
       "...           ...               ...             ...            ...  ...   \n",
       "7027          Yes               Yes             DSL            Yes  ...   \n",
       "7028          Yes               Yes     Fiber optic             No  ...   \n",
       "7029           No  No phone service             DSL            Yes  ...   \n",
       "7030          Yes               Yes     Fiber optic             No  ...   \n",
       "7031          Yes                No     Fiber optic            Yes  ...   \n",
       "\n",
       "     DeviceProtection TechSupport StreamingTV StreamingMovies        Contract  \\\n",
       "0                  No          No          No              No  Month-to-month   \n",
       "1                 Yes          No          No              No        One year   \n",
       "2                  No          No          No              No  Month-to-month   \n",
       "3                 Yes         Yes          No              No        One year   \n",
       "4                  No          No          No              No  Month-to-month   \n",
       "...               ...         ...         ...             ...             ...   \n",
       "7027              Yes         Yes         Yes             Yes        One year   \n",
       "7028              Yes          No         Yes             Yes        One year   \n",
       "7029               No          No          No              No  Month-to-month   \n",
       "7030               No          No          No              No  Month-to-month   \n",
       "7031              Yes         Yes         Yes             Yes        Two year   \n",
       "\n",
       "     PaperlessBilling              PaymentMethod MonthlyCharges  TotalCharges  \\\n",
       "0                 Yes           Electronic check          29.85         29.85   \n",
       "1                  No               Mailed check          56.95        1889.5   \n",
       "2                 Yes               Mailed check          53.85        108.15   \n",
       "3                  No  Bank transfer (automatic)          42.30       1840.75   \n",
       "4                 Yes           Electronic check          70.70        151.65   \n",
       "...               ...                        ...            ...           ...   \n",
       "7027              Yes               Mailed check          84.80        1990.5   \n",
       "7028              Yes    Credit card (automatic)         103.20        7362.9   \n",
       "7029              Yes           Electronic check          29.60        346.45   \n",
       "7030              Yes               Mailed check          74.40         306.6   \n",
       "7031              Yes  Bank transfer (automatic)         105.65        6844.5   \n",
       "\n",
       "     Churn  \n",
       "0       No  \n",
       "1       No  \n",
       "2      Yes  \n",
       "3       No  \n",
       "4      Yes  \n",
       "...    ...  \n",
       "7027    No  \n",
       "7028    No  \n",
       "7029    No  \n",
       "7030   Yes  \n",
       "7031    No  \n",
       "\n",
       "[7032 rows x 21 columns]"
      ]
     },
     "execution_count": 13,
     "metadata": {},
     "output_type": "execute_result"
    }
   ],
   "source": [
    "telcom_1 = telcom_1.reset_index()[telcom_1.columns]\n",
    "telcom_1"
   ]
  },
  {
   "cell_type": "markdown",
   "metadata": {},
   "source": [
    "Now let's convert 'TotalCharges' to float:"
   ]
  },
  {
   "cell_type": "code",
   "execution_count": 14,
   "metadata": {},
   "outputs": [
    {
     "data": {
      "text/html": [
       "<div>\n",
       "<style scoped>\n",
       "    .dataframe tbody tr th:only-of-type {\n",
       "        vertical-align: middle;\n",
       "    }\n",
       "\n",
       "    .dataframe tbody tr th {\n",
       "        vertical-align: top;\n",
       "    }\n",
       "\n",
       "    .dataframe thead th {\n",
       "        text-align: right;\n",
       "    }\n",
       "</style>\n",
       "<table border=\"1\" class=\"dataframe\">\n",
       "  <thead>\n",
       "    <tr style=\"text-align: right;\">\n",
       "      <th></th>\n",
       "      <th>SeniorCitizen</th>\n",
       "      <th>tenure</th>\n",
       "      <th>MonthlyCharges</th>\n",
       "      <th>TotalCharges</th>\n",
       "    </tr>\n",
       "  </thead>\n",
       "  <tbody>\n",
       "    <tr>\n",
       "      <th>count</th>\n",
       "      <td>7032.000000</td>\n",
       "      <td>7032.000000</td>\n",
       "      <td>7032.000000</td>\n",
       "      <td>7032.000000</td>\n",
       "    </tr>\n",
       "    <tr>\n",
       "      <th>mean</th>\n",
       "      <td>0.162400</td>\n",
       "      <td>32.421786</td>\n",
       "      <td>64.798208</td>\n",
       "      <td>2283.300441</td>\n",
       "    </tr>\n",
       "    <tr>\n",
       "      <th>std</th>\n",
       "      <td>0.368844</td>\n",
       "      <td>24.545260</td>\n",
       "      <td>30.085974</td>\n",
       "      <td>2266.771362</td>\n",
       "    </tr>\n",
       "    <tr>\n",
       "      <th>min</th>\n",
       "      <td>0.000000</td>\n",
       "      <td>1.000000</td>\n",
       "      <td>18.250000</td>\n",
       "      <td>18.800000</td>\n",
       "    </tr>\n",
       "    <tr>\n",
       "      <th>25%</th>\n",
       "      <td>0.000000</td>\n",
       "      <td>9.000000</td>\n",
       "      <td>35.587500</td>\n",
       "      <td>401.450000</td>\n",
       "    </tr>\n",
       "    <tr>\n",
       "      <th>50%</th>\n",
       "      <td>0.000000</td>\n",
       "      <td>29.000000</td>\n",
       "      <td>70.350000</td>\n",
       "      <td>1397.475000</td>\n",
       "    </tr>\n",
       "    <tr>\n",
       "      <th>75%</th>\n",
       "      <td>0.000000</td>\n",
       "      <td>55.000000</td>\n",
       "      <td>89.862500</td>\n",
       "      <td>3794.737500</td>\n",
       "    </tr>\n",
       "    <tr>\n",
       "      <th>max</th>\n",
       "      <td>1.000000</td>\n",
       "      <td>72.000000</td>\n",
       "      <td>118.750000</td>\n",
       "      <td>8684.800000</td>\n",
       "    </tr>\n",
       "  </tbody>\n",
       "</table>\n",
       "</div>"
      ],
      "text/plain": [
       "       SeniorCitizen       tenure  MonthlyCharges  TotalCharges\n",
       "count    7032.000000  7032.000000     7032.000000   7032.000000\n",
       "mean        0.162400    32.421786       64.798208   2283.300441\n",
       "std         0.368844    24.545260       30.085974   2266.771362\n",
       "min         0.000000     1.000000       18.250000     18.800000\n",
       "25%         0.000000     9.000000       35.587500    401.450000\n",
       "50%         0.000000    29.000000       70.350000   1397.475000\n",
       "75%         0.000000    55.000000       89.862500   3794.737500\n",
       "max         1.000000    72.000000      118.750000   8684.800000"
      ]
     },
     "execution_count": 14,
     "metadata": {},
     "output_type": "execute_result"
    }
   ],
   "source": [
    "telcom_1['TotalCharges'] = telcom_1['TotalCharges'].astype(float)\n",
    "telcom_1.describe()"
   ]
  },
  {
   "cell_type": "markdown",
   "metadata": {},
   "source": [
    "The column 'SeniorCitizen' seems to be an object masked as a numerical variable. Let's deal with that:"
   ]
  },
  {
   "cell_type": "code",
   "execution_count": 15,
   "metadata": {},
   "outputs": [
    {
     "data": {
      "text/plain": [
       "0        No\n",
       "1        No\n",
       "2        No\n",
       "3        No\n",
       "4        No\n",
       "       ... \n",
       "7027     No\n",
       "7028     No\n",
       "7029    Yes\n",
       "7030     No\n",
       "7031    Yes\n",
       "Name: SeniorCitizen, Length: 7032, dtype: object"
      ]
     },
     "execution_count": 15,
     "metadata": {},
     "output_type": "execute_result"
    }
   ],
   "source": [
    "telcom_1['SeniorCitizen'] = telcom['SeniorCitizen'].replace({1:\"Yes\", 0:\"No\"})\n",
    "telcom_1['SeniorCitizen']"
   ]
  },
  {
   "cell_type": "markdown",
   "metadata": {},
   "source": [
    "Let's update our attributes lists:"
   ]
  },
  {
   "cell_type": "code",
   "execution_count": 16,
   "metadata": {},
   "outputs": [
    {
     "name": "stdout",
     "output_type": "stream",
     "text": [
      "Numerical Attributes:\n",
      " ['tenure', 'MonthlyCharges', 'TotalCharges']\n",
      "Categorical Attributes:\n",
      " ['customerID', 'gender', 'SeniorCitizen', 'Partner', 'Dependents', 'PhoneService', 'MultipleLines', 'InternetService', 'OnlineSecurity', 'OnlineBackup', 'DeviceProtection', 'TechSupport', 'StreamingTV', 'StreamingMovies', 'Contract', 'PaperlessBilling', 'PaymentMethod', 'Churn']\n"
     ]
    }
   ],
   "source": [
    "all_att = list(telcom_1.columns)\n",
    "num_att = list(telcom_1._get_numeric_data().columns)\n",
    "cat_att = list(telcom_1.select_dtypes(include=['object']).columns)\n",
    "print('Numerical Attributes:' + '\\n {}'.format(num_att))\n",
    "print('Categorical Attributes:' + '\\n {}'.format(cat_att))"
   ]
  },
  {
   "cell_type": "code",
   "execution_count": 17,
   "metadata": {},
   "outputs": [
    {
     "name": "stdout",
     "output_type": "stream",
     "text": [
      "<class 'pandas.core.frame.DataFrame'>\n",
      "RangeIndex: 7032 entries, 0 to 7031\n",
      "Data columns (total 21 columns):\n",
      " #   Column            Non-Null Count  Dtype  \n",
      "---  ------            --------------  -----  \n",
      " 0   customerID        7032 non-null   object \n",
      " 1   gender            7032 non-null   object \n",
      " 2   SeniorCitizen     7032 non-null   object \n",
      " 3   Partner           7032 non-null   object \n",
      " 4   Dependents        7032 non-null   object \n",
      " 5   tenure            7032 non-null   int64  \n",
      " 6   PhoneService      7032 non-null   object \n",
      " 7   MultipleLines     7032 non-null   object \n",
      " 8   InternetService   7032 non-null   object \n",
      " 9   OnlineSecurity    7032 non-null   object \n",
      " 10  OnlineBackup      7032 non-null   object \n",
      " 11  DeviceProtection  7032 non-null   object \n",
      " 12  TechSupport       7032 non-null   object \n",
      " 13  StreamingTV       7032 non-null   object \n",
      " 14  StreamingMovies   7032 non-null   object \n",
      " 15  Contract          7032 non-null   object \n",
      " 16  PaperlessBilling  7032 non-null   object \n",
      " 17  PaymentMethod     7032 non-null   object \n",
      " 18  MonthlyCharges    7032 non-null   float64\n",
      " 19  TotalCharges      7032 non-null   float64\n",
      " 20  Churn             7032 non-null   object \n",
      "dtypes: float64(2), int64(1), object(18)\n",
      "memory usage: 1.1+ MB\n"
     ]
    }
   ],
   "source": [
    "telcom_1.info()"
   ]
  },
  {
   "cell_type": "markdown",
   "metadata": {},
   "source": [
    "For the columns 'OnlineSecurity', 'OnlineBackup', 'DeviceProtection', 'TechSupport', 'StreamingTV', 'StreamingMovies' let's replace the 'No internet service' to 'No' as they mean, in practice, the same thing:"
   ]
  },
  {
   "cell_type": "code",
   "execution_count": 18,
   "metadata": {},
   "outputs": [],
   "source": [
    "temp_list = ['OnlineSecurity', 'OnlineBackup', 'DeviceProtection', 'TechSupport', 'StreamingTV', 'StreamingMovies']\n",
    "for col in temp_list:\n",
    "    telcom_1[col] = telcom_1[col].replace({\"No internet service\":\"No\"})"
   ]
  },
  {
   "cell_type": "markdown",
   "metadata": {},
   "source": [
    "Let's verify it the values are correct:"
   ]
  },
  {
   "cell_type": "code",
   "execution_count": 19,
   "metadata": {},
   "outputs": [
    {
     "name": "stdout",
     "output_type": "stream",
     "text": [
      "customerID:\n",
      "7813-TKCVO    1\n",
      "1619-YWUBB    1\n",
      "2379-GYFLQ    1\n",
      "1104-FEJAM    1\n",
      "6848-HJTXY    1\n",
      "             ..\n",
      "9835-ZIITK    1\n",
      "5207-PLSTK    1\n",
      "7156-MHUGY    1\n",
      "1855-CFULU    1\n",
      "4021-RQSNY    1\n",
      "Name: customerID, Length: 7032, dtype: int64\n",
      "\n",
      "\n",
      "gender:\n",
      "Male      3549\n",
      "Female    3483\n",
      "Name: gender, dtype: int64\n",
      "\n",
      "\n",
      "SeniorCitizen:\n",
      "No     5892\n",
      "Yes    1140\n",
      "Name: SeniorCitizen, dtype: int64\n",
      "\n",
      "\n",
      "Partner:\n",
      "No     3639\n",
      "Yes    3393\n",
      "Name: Partner, dtype: int64\n",
      "\n",
      "\n",
      "Dependents:\n",
      "No     4933\n",
      "Yes    2099\n",
      "Name: Dependents, dtype: int64\n",
      "\n",
      "\n",
      "PhoneService:\n",
      "Yes    6352\n",
      "No      680\n",
      "Name: PhoneService, dtype: int64\n",
      "\n",
      "\n",
      "MultipleLines:\n",
      "No                  3385\n",
      "Yes                 2967\n",
      "No phone service     680\n",
      "Name: MultipleLines, dtype: int64\n",
      "\n",
      "\n",
      "InternetService:\n",
      "Fiber optic    3096\n",
      "DSL            2416\n",
      "No             1520\n",
      "Name: InternetService, dtype: int64\n",
      "\n",
      "\n",
      "OnlineSecurity:\n",
      "No     5017\n",
      "Yes    2015\n",
      "Name: OnlineSecurity, dtype: int64\n",
      "\n",
      "\n",
      "OnlineBackup:\n",
      "No     4607\n",
      "Yes    2425\n",
      "Name: OnlineBackup, dtype: int64\n",
      "\n",
      "\n",
      "DeviceProtection:\n",
      "No     4614\n",
      "Yes    2418\n",
      "Name: DeviceProtection, dtype: int64\n",
      "\n",
      "\n",
      "TechSupport:\n",
      "No     4992\n",
      "Yes    2040\n",
      "Name: TechSupport, dtype: int64\n",
      "\n",
      "\n",
      "StreamingTV:\n",
      "No     4329\n",
      "Yes    2703\n",
      "Name: StreamingTV, dtype: int64\n",
      "\n",
      "\n",
      "StreamingMovies:\n",
      "No     4301\n",
      "Yes    2731\n",
      "Name: StreamingMovies, dtype: int64\n",
      "\n",
      "\n",
      "Contract:\n",
      "Month-to-month    3875\n",
      "Two year          1685\n",
      "One year          1472\n",
      "Name: Contract, dtype: int64\n",
      "\n",
      "\n",
      "PaperlessBilling:\n",
      "Yes    4168\n",
      "No     2864\n",
      "Name: PaperlessBilling, dtype: int64\n",
      "\n",
      "\n",
      "PaymentMethod:\n",
      "Electronic check             2365\n",
      "Mailed check                 1604\n",
      "Bank transfer (automatic)    1542\n",
      "Credit card (automatic)      1521\n",
      "Name: PaymentMethod, dtype: int64\n",
      "\n",
      "\n",
      "Churn:\n",
      "No     5163\n",
      "Yes    1869\n",
      "Name: Churn, dtype: int64\n",
      "\n",
      "\n"
     ]
    }
   ],
   "source": [
    "for col in cat_att:\n",
    "    print(col + \":\")\n",
    "    print(telcom_1[col].value_counts())\n",
    "    print('\\n')"
   ]
  },
  {
   "cell_type": "markdown",
   "metadata": {},
   "source": [
    "The 'tenure' column could be better represented in tenure bands. So let's create these bands and create a new categorical attribute:"
   ]
  },
  {
   "cell_type": "code",
   "execution_count": 20,
   "metadata": {},
   "outputs": [],
   "source": [
    "def tenure_bands(df):\n",
    "    if df['tenure'] <= 12:\n",
    "        return \"Tenure_0-12\"\n",
    "    elif (df['tenure'] > 12) & (df['tenure'] <= 24):\n",
    "        return \"Tenure_13-24\"\n",
    "    elif (df['tenure'] > 24) & (df['tenure'] <= 48):\n",
    "        return \"Tenure_25-48\"\n",
    "    elif (df['tenure'] > 48) & (df['tenure'] <= 60):\n",
    "        return \"Tenure_49-60\"\n",
    "    elif df['tenure'] > 60:\n",
    "        return \"Tenure_gt_60\""
   ]
  },
  {
   "cell_type": "code",
   "execution_count": 21,
   "metadata": {},
   "outputs": [
    {
     "data": {
      "text/plain": [
       "0        Tenure_0-12\n",
       "1       Tenure_25-48\n",
       "2        Tenure_0-12\n",
       "3       Tenure_25-48\n",
       "4        Tenure_0-12\n",
       "            ...     \n",
       "7027    Tenure_13-24\n",
       "7028    Tenure_gt_60\n",
       "7029     Tenure_0-12\n",
       "7030     Tenure_0-12\n",
       "7031    Tenure_gt_60\n",
       "Name: tenure_group, Length: 7032, dtype: object"
      ]
     },
     "execution_count": 21,
     "metadata": {},
     "output_type": "execute_result"
    }
   ],
   "source": [
    "telcom_2 = telcom_1.copy()\n",
    "telcom_2['tenure_group'] = telcom_2.apply(lambda telcom_2:tenure_bands(telcom_2), axis=1)\n",
    "telcom_2['tenure_group']"
   ]
  },
  {
   "cell_type": "code",
   "execution_count": 22,
   "metadata": {},
   "outputs": [
    {
     "name": "stdout",
     "output_type": "stream",
     "text": [
      "<class 'pandas.core.frame.DataFrame'>\n",
      "RangeIndex: 7032 entries, 0 to 7031\n",
      "Data columns (total 22 columns):\n",
      " #   Column            Non-Null Count  Dtype  \n",
      "---  ------            --------------  -----  \n",
      " 0   customerID        7032 non-null   object \n",
      " 1   gender            7032 non-null   object \n",
      " 2   SeniorCitizen     7032 non-null   object \n",
      " 3   Partner           7032 non-null   object \n",
      " 4   Dependents        7032 non-null   object \n",
      " 5   tenure            7032 non-null   int64  \n",
      " 6   PhoneService      7032 non-null   object \n",
      " 7   MultipleLines     7032 non-null   object \n",
      " 8   InternetService   7032 non-null   object \n",
      " 9   OnlineSecurity    7032 non-null   object \n",
      " 10  OnlineBackup      7032 non-null   object \n",
      " 11  DeviceProtection  7032 non-null   object \n",
      " 12  TechSupport       7032 non-null   object \n",
      " 13  StreamingTV       7032 non-null   object \n",
      " 14  StreamingMovies   7032 non-null   object \n",
      " 15  Contract          7032 non-null   object \n",
      " 16  PaperlessBilling  7032 non-null   object \n",
      " 17  PaymentMethod     7032 non-null   object \n",
      " 18  MonthlyCharges    7032 non-null   float64\n",
      " 19  TotalCharges      7032 non-null   float64\n",
      " 20  Churn             7032 non-null   object \n",
      " 21  tenure_group      7032 non-null   object \n",
      "dtypes: float64(2), int64(1), object(19)\n",
      "memory usage: 1.2+ MB\n"
     ]
    }
   ],
   "source": [
    "telcom_2.info()"
   ]
  },
  {
   "cell_type": "markdown",
   "metadata": {},
   "source": [
    "Let's update our list once again. We will also remove 'customerID' and 'Churn' from our lists."
   ]
  },
  {
   "cell_type": "code",
   "execution_count": 23,
   "metadata": {},
   "outputs": [
    {
     "name": "stdout",
     "output_type": "stream",
     "text": [
      "Numerical Attributes:\n",
      " ['tenure', 'MonthlyCharges', 'TotalCharges']\n",
      "Categorical Attributes:\n",
      " ['gender', 'SeniorCitizen', 'Partner', 'Dependents', 'PhoneService', 'MultipleLines', 'InternetService', 'OnlineSecurity', 'OnlineBackup', 'DeviceProtection', 'TechSupport', 'StreamingTV', 'StreamingMovies', 'Contract', 'PaperlessBilling', 'PaymentMethod', 'tenure_group']\n"
     ]
    }
   ],
   "source": [
    "all_att = list(telcom_2.columns)\n",
    "num_att = list(telcom_2._get_numeric_data().columns)\n",
    "cat_att = list(telcom_2.select_dtypes(include=['object']).columns)\n",
    "\n",
    "id_col = ['customerID']\n",
    "target = ['Churn']\n",
    "cat_att = [x for x in cat_att if x not in id_col + target]\n",
    "\n",
    "print('Numerical Attributes:' + '\\n {}'.format(num_att))\n",
    "print('Categorical Attributes:' + '\\n {}'.format(cat_att))"
   ]
  },
  {
   "cell_type": "markdown",
   "metadata": {},
   "source": [
    "## 4. Exploratory Data Analysis"
   ]
  },
  {
   "cell_type": "markdown",
   "metadata": {},
   "source": [
    "### Customer Churn Overview"
   ]
  },
  {
   "cell_type": "code",
   "execution_count": 24,
   "metadata": {},
   "outputs": [],
   "source": [
    "labels = telcom_2['Churn'].value_counts().keys().tolist()\n",
    "values = telcom_2['Churn'].value_counts().values.tolist()"
   ]
  },
  {
   "cell_type": "code",
   "execution_count": 25,
   "metadata": {},
   "outputs": [
    {
     "data": {
      "image/png": "[encoded data removed]",
      "text/plain": [
       "<Figure size 504x504 with 1 Axes>"
      ]
     },
     "metadata": {},
     "output_type": "display_data"
    }
   ],
   "source": [
    "fig1, ax1 = plt.subplots(figsize=(7,7))\n",
    "ax1.pie(values, \n",
    "        labels=labels, \n",
    "        explode=(0,0.1), \n",
    "        autopct='%1.1f%%',\n",
    "        colors=['lightgreen', 'red'])\n",
    "plt.legend()\n",
    "plt.title('Customer Churn Overview')\n",
    "plt.show()"
   ]
  },
  {
   "cell_type": "markdown",
   "metadata": {},
   "source": [
    "The actual Churn Rate in this dataset is 26.6% which reflects as 73.4% for model performance. In other words, this should be the baseline value for performance.\n",
    "\n",
    "From the graph above, we can clearly see that our dataset is imbalanced as there are a disproportionate rate of observations between the 'Yes' and 'No' classes. We will deal with this issue in the data preparation step."
   ]
  },
  {
   "cell_type": "markdown",
   "metadata": {},
   "source": [
    "### Variables Distribution by Churn Rate"
   ]
  },
  {
   "cell_type": "markdown",
   "metadata": {},
   "source": [
    "**Churn Distribution by Gender**"
   ]
  },
  {
   "cell_type": "code",
   "execution_count": 26,
   "metadata": {},
   "outputs": [
    {
     "data": {
      "image/png": "[encoded data removed]",
      "text/plain": [
       "<Figure size 504x504 with 1 Axes>"
      ]
     },
     "metadata": {
      "needs_background": "light"
     },
     "output_type": "display_data"
    }
   ],
   "source": [
    "no_churn = ((telcom_2[telcom_2['Churn']=='No']['gender'].value_counts())\n",
    "            /(telcom_2[telcom_2['Churn']=='No']['gender'].value_counts().sum()))\n",
    "yes_churn = ((telcom_2[telcom_2['Churn']=='Yes']['gender'].value_counts())\n",
    "            /(telcom_2[telcom_2['Churn']=='Yes']['gender'].value_counts().sum()))\n",
    "\n",
    "# Getting values from the group and categories\n",
    "x_labels = telcom_2['Churn'].value_counts().keys().tolist()\n",
    "male = [no_churn['Male'], yes_churn['Male']]\n",
    "female = [no_churn['Female'], yes_churn['Female']]\n",
    "\n",
    "# Plotting bars\n",
    "barWidth = 0.8\n",
    "plt.figure(figsize=(7,7))\n",
    "ax1 = plt.bar(x_labels, male, color='#00BFFF', label='Male', \n",
    "              edgecolor='white', width=barWidth)\n",
    "ax2 = plt.bar(x_labels, female, bottom=male, color='#FF9999', label='Female', \n",
    "              edgecolor='white', width=barWidth)\n",
    "plt.legend()\n",
    "plt.title('Churn Distribution by Gender')\n",
    "\n",
    "for r1, r2 in zip(ax1, ax2):\n",
    "    h1 = r1.get_height()\n",
    "    h2 = r2.get_height()\n",
    "    plt.text(r1.get_x() + r1.get_width() / 2., h1 / 2., '{:.2%}'.format(h1),\n",
    "            ha='center', va='center', color='black', fontweight='bold')\n",
    "    plt.text(r2.get_x() + r2.get_width() / 2., h1 + h2 / 2., '{:.2%}'.format(h2),\n",
    "            ha='center', va='center', color='black', fontweight='bold')\n",
    "    \n",
    "plt.show()"
   ]
  },
  {
   "cell_type": "code",
   "execution_count": 27,
   "metadata": {},
   "outputs": [
    {
     "data": {
      "image/png": "[encoded data removed]",
      "text/plain": [
       "<Figure size 720x720 with 2 Axes>"
      ]
     },
     "metadata": {},
     "output_type": "display_data"
    },
    {
     "data": {
      "image/png": "[encoded data removed]",
      "text/plain": [
       "<Figure size 720x720 with 2 Axes>"
      ]
     },
     "metadata": {},
     "output_type": "display_data"
    }
   ],
   "source": [
    "labels = telcom_2['gender'].value_counts().keys().tolist()\n",
    "values = telcom_2['gender'].value_counts().values.tolist()\n",
    "\n",
    "plt.subplots(figsize=(10,10))\n",
    "\n",
    "plt.subplot(221)\n",
    "plt.pie(values,\n",
    "       labels=labels,\n",
    "       explode=(0,0.1), \n",
    "       autopct='%1.1f%%',\n",
    "       colors=['lightgreen', '#FF9999'])\n",
    "\n",
    "plt.legend()\n",
    "plt.title('Gender Distribution')\n",
    "\n",
    "labels = telcom_2['SeniorCitizen'].value_counts().keys().tolist()\n",
    "values = telcom_2['SeniorCitizen'].value_counts().values.tolist()\n",
    "\n",
    "plt.subplot(222)\n",
    "plt.pie(values,\n",
    "       labels=labels,\n",
    "       explode=(0,0.1), \n",
    "       autopct='%1.1f%%',\n",
    "       colors=['lightgreen', '#FF9999'])\n",
    "\n",
    "plt.legend()\n",
    "plt.title('SeniorCitizen Distribution')\n",
    "plt.show()\n",
    "\n",
    "labels = telcom_2['Partner'].value_counts().keys().tolist()\n",
    "values = telcom_2['Partner'].value_counts().values.tolist()\n",
    "\n",
    "plt.subplots(figsize=(10,10))\n",
    "plt.subplot(223)\n",
    "plt.pie(values,\n",
    "       labels=labels,\n",
    "       explode=(0,0.1), \n",
    "       autopct='%1.1f%%',\n",
    "       colors=['lightgreen', '#FF9999'])\n",
    "\n",
    "plt.legend()\n",
    "plt.title('Partner Distribution')\n",
    "\n",
    "\n",
    "labels = telcom_2['Dependents'].value_counts().keys().tolist()\n",
    "values = telcom_2['Dependents'].value_counts().values.tolist()\n",
    "\n",
    "plt.subplot(224)\n",
    "plt.pie(values,\n",
    "       labels=labels,\n",
    "       explode=(0,0.1), \n",
    "       autopct='%1.1f%%',\n",
    "       colors=['lightgreen', '#FF9999'])\n",
    "\n",
    "plt.legend()\n",
    "plt.title('Dependents Distribution')\n",
    "plt.show()"
   ]
  },
  {
   "cell_type": "markdown",
   "metadata": {},
   "source": [
    "Female customer are more likely to churn, however, the difference is mininmal. Not much can be inferred form Gender."
   ]
  },
  {
   "cell_type": "markdown",
   "metadata": {},
   "source": [
    "**Function for Variables with 'Yes' or 'No' values:**"
   ]
  },
  {
   "cell_type": "code",
   "execution_count": 28,
   "metadata": {},
   "outputs": [],
   "source": [
    "def y_n_churn_var_distribution(col_name):\n",
    "    \n",
    "    no_churn = ((telcom_2[telcom_2['Churn']=='No'][col_name].value_counts())\n",
    "                /(telcom_2[telcom_2['Churn']=='No'][col_name].value_counts().sum()))\n",
    "    yes_churn = ((telcom_2[telcom_2['Churn']=='Yes'][col_name].value_counts())\n",
    "                /(telcom_2[telcom_2['Churn']=='Yes'][col_name].value_counts().sum()))\n",
    "\n",
    "    # Getting values from the group and categories\n",
    "    x_labels = telcom_2['Churn'].value_counts().keys().tolist()\n",
    "    n_var = [no_churn['No'], yes_churn['No']]\n",
    "    y_var = [no_churn['Yes'], yes_churn['Yes']]\n",
    "\n",
    "    # Plotting bars\n",
    "    barWidth = 0.8\n",
    "    plt.figure(figsize=(7,7))\n",
    "    ax1 = plt.bar(x_labels, n_var, color='#00BFFF', \n",
    "                  label=('No ' + col_name), edgecolor='white', width=barWidth)\n",
    "    ax2 = plt.bar(x_labels, y_var, bottom=n_var, color='lightgreen',\n",
    "                  label=('Yes ' + col_name), edgecolor='white', width=barWidth)\n",
    "    plt.legend()\n",
    "    plt.title('Churn Distribution by ' + col_name)\n",
    "\n",
    "    for r1, r2 in zip(ax1, ax2):\n",
    "        h1 = r1.get_height()\n",
    "        h2 = r2.get_height()\n",
    "        plt.text(r1.get_x() + r1.get_width() / 2., h1 / 2., '{:.2%}'.format(h1),\n",
    "                ha='center', va='center', color='black', fontweight='bold')\n",
    "        plt.text(r2.get_x() + r2.get_width() / 2., h1 + h2 / 2., '{:.2%}'.format(h2),\n",
    "                ha='center', va='center', color='black', fontweight='bold')\n",
    "\n",
    "    plt.show()\n"
   ]
  },
  {
   "cell_type": "markdown",
   "metadata": {},
   "source": [
    "**Churn Distribution by Senior Citizen**"
   ]
  },
  {
   "cell_type": "code",
   "execution_count": 29,
   "metadata": {},
   "outputs": [
    {
     "data": {
      "image/png": "[encoded data removed]",
      "text/plain": [
       "<Figure size 504x504 with 1 Axes>"
      ]
     },
     "metadata": {
      "needs_background": "light"
     },
     "output_type": "display_data"
    }
   ],
   "source": [
    "y_n_churn_var_distribution('SeniorCitizen')"
   ]
  },
  {
   "cell_type": "markdown",
   "metadata": {},
   "source": [
    "**Churn Distribution by Partner**"
   ]
  },
  {
   "cell_type": "code",
   "execution_count": 30,
   "metadata": {},
   "outputs": [
    {
     "data": {
      "image/png": "[encoded data removed]",
      "text/plain": [
       "<Figure size 504x504 with 1 Axes>"
      ]
     },
     "metadata": {
      "needs_background": "light"
     },
     "output_type": "display_data"
    }
   ],
   "source": [
    "y_n_churn_var_distribution('Partner')"
   ]
  },
  {
   "cell_type": "markdown",
   "metadata": {},
   "source": [
    "From the graph above, we can say that customers that have no partner are more likely to churn."
   ]
  },
  {
   "cell_type": "markdown",
   "metadata": {},
   "source": [
    "**Churn Distribution by Dependents**"
   ]
  },
  {
   "cell_type": "code",
   "execution_count": 31,
   "metadata": {},
   "outputs": [
    {
     "data": {
      "image/png": "[encoded data removed]",
      "text/plain": [
       "<Figure size 504x504 with 1 Axes>"
      ]
     },
     "metadata": {
      "needs_background": "light"
     },
     "output_type": "display_data"
    }
   ],
   "source": [
    "y_n_churn_var_distribution('Dependents')"
   ]
  },
  {
   "cell_type": "markdown",
   "metadata": {},
   "source": [
    "**Churn Distribution by Phone Service**"
   ]
  },
  {
   "cell_type": "code",
   "execution_count": 32,
   "metadata": {},
   "outputs": [
    {
     "data": {
      "image/png": "[encoded data removed]",
      "text/plain": [
       "<Figure size 504x504 with 1 Axes>"
      ]
     },
     "metadata": {
      "needs_background": "light"
     },
     "output_type": "display_data"
    }
   ],
   "source": [
    "y_n_churn_var_distribution('PhoneService')"
   ]
  },
  {
   "cell_type": "markdown",
   "metadata": {},
   "source": [
    "**Churn Distribution by Online Security**"
   ]
  },
  {
   "cell_type": "code",
   "execution_count": 33,
   "metadata": {},
   "outputs": [
    {
     "data": {
      "image/png": "[encoded data removed]",
      "text/plain": [
       "<Figure size 504x504 with 1 Axes>"
      ]
     },
     "metadata": {
      "needs_background": "light"
     },
     "output_type": "display_data"
    }
   ],
   "source": [
    "y_n_churn_var_distribution('OnlineSecurity')"
   ]
  },
  {
   "cell_type": "markdown",
   "metadata": {},
   "source": [
    "**Churn Distribution by Online Backup**"
   ]
  },
  {
   "cell_type": "code",
   "execution_count": 34,
   "metadata": {},
   "outputs": [
    {
     "data": {
      "image/png": "[encoded data removed]",
      "text/plain": [
       "<Figure size 504x504 with 1 Axes>"
      ]
     },
     "metadata": {
      "needs_background": "light"
     },
     "output_type": "display_data"
    }
   ],
   "source": [
    "y_n_churn_var_distribution('OnlineBackup')"
   ]
  },
  {
   "cell_type": "markdown",
   "metadata": {},
   "source": [
    "**Churn Distribution by Device Protection**"
   ]
  },
  {
   "cell_type": "code",
   "execution_count": 35,
   "metadata": {},
   "outputs": [
    {
     "data": {
      "image/png": "[encoded data removed]",
      "text/plain": [
       "<Figure size 504x504 with 1 Axes>"
      ]
     },
     "metadata": {
      "needs_background": "light"
     },
     "output_type": "display_data"
    }
   ],
   "source": [
    "y_n_churn_var_distribution('DeviceProtection')"
   ]
  },
  {
   "cell_type": "markdown",
   "metadata": {},
   "source": [
    "**Churn Distribution by Tech Support**"
   ]
  },
  {
   "cell_type": "code",
   "execution_count": 36,
   "metadata": {},
   "outputs": [
    {
     "data": {
      "image/png": "[encoded data removed]",
      "text/plain": [
       "<Figure size 504x504 with 1 Axes>"
      ]
     },
     "metadata": {
      "needs_background": "light"
     },
     "output_type": "display_data"
    }
   ],
   "source": [
    "y_n_churn_var_distribution('TechSupport')"
   ]
  },
  {
   "cell_type": "markdown",
   "metadata": {},
   "source": [
    "**Churn Distribution by Streaming TV**"
   ]
  },
  {
   "cell_type": "code",
   "execution_count": 37,
   "metadata": {},
   "outputs": [
    {
     "data": {
      "image/png": "[encoded data removed]",
      "text/plain": [
       "<Figure size 504x504 with 1 Axes>"
      ]
     },
     "metadata": {
      "needs_background": "light"
     },
     "output_type": "display_data"
    }
   ],
   "source": [
    "y_n_churn_var_distribution('StreamingTV')"
   ]
  },
  {
   "cell_type": "markdown",
   "metadata": {},
   "source": [
    "**Churn Distribution by Streaming Movies**"
   ]
  },
  {
   "cell_type": "code",
   "execution_count": 38,
   "metadata": {},
   "outputs": [
    {
     "data": {
      "image/png": "[encoded data removed]",
      "text/plain": [
       "<Figure size 504x504 with 1 Axes>"
      ]
     },
     "metadata": {
      "needs_background": "light"
     },
     "output_type": "display_data"
    }
   ],
   "source": [
    "y_n_churn_var_distribution('StreamingMovies')"
   ]
  },
  {
   "cell_type": "markdown",
   "metadata": {},
   "source": [
    "**Churn Distribution by Paperless Billing**"
   ]
  },
  {
   "cell_type": "code",
   "execution_count": 39,
   "metadata": {},
   "outputs": [
    {
     "data": {
      "image/png": "[encoded data removed]",
      "text/plain": [
       "<Figure size 504x504 with 1 Axes>"
      ]
     },
     "metadata": {
      "needs_background": "light"
     },
     "output_type": "display_data"
    }
   ],
   "source": [
    "y_n_churn_var_distribution('PaperlessBilling')"
   ]
  },
  {
   "cell_type": "markdown",
   "metadata": {},
   "source": [
    "**Variables with multivariate classes**"
   ]
  },
  {
   "cell_type": "markdown",
   "metadata": {},
   "source": [
    "**Churn Distribution by Tenure Group**"
   ]
  },
  {
   "cell_type": "code",
   "execution_count": 40,
   "metadata": {
    "scrolled": false
   },
   "outputs": [
    {
     "data": {
      "image/png": "[encoded data removed]",
      "text/plain": [
       "<Figure size 504x504 with 1 Axes>"
      ]
     },
     "metadata": {
      "needs_background": "light"
     },
     "output_type": "display_data"
    }
   ],
   "source": [
    "no_churn = ((telcom_2[telcom_2['Churn']=='No']['tenure_group'].value_counts())\n",
    "            /(telcom_2[telcom_2['Churn']=='No']['tenure_group'].value_counts().sum()))\n",
    "yes_churn = ((telcom_2[telcom_2['Churn']=='Yes']['tenure_group'].value_counts())\n",
    "            /(telcom_2[telcom_2['Churn']=='Yes']['tenure_group'].value_counts().sum()))\n",
    "\n",
    "# Getting values from the group and categories\n",
    "x_labels = telcom_2['Churn'].value_counts().keys().tolist()\n",
    "t_0_12 = [no_churn['Tenure_0-12'], yes_churn['Tenure_0-12']]\n",
    "t_13_24 = [no_churn['Tenure_13-24'], yes_churn['Tenure_13-24']]\n",
    "t_25_48 = [no_churn['Tenure_25-48'], yes_churn['Tenure_25-48']]\n",
    "t_49_60 = [no_churn['Tenure_49-60'], yes_churn['Tenure_49-60']]\n",
    "t_gt_60 = [no_churn['Tenure_gt_60'], yes_churn['Tenure_gt_60']]\n",
    "\n",
    "\n",
    "# Plotting bars\n",
    "barWidth = 0.8\n",
    "plt.figure(figsize=(7,7))\n",
    "ax1 = plt.bar(x_labels, t_0_12, color='#00BFFF', \n",
    "              label=('Tenure_0-12'), edgecolor='white', width=barWidth)\n",
    "ax2 = plt.bar(x_labels, t_13_24, bottom=t_0_12, color='lightgreen', \n",
    "              label=('Tenure_13-24'), edgecolor='white', width=barWidth)\n",
    "ax3 = plt.bar(x_labels, t_25_48, bottom=np.array(t_0_12) + np.array(t_13_24), color='#FF9999', \n",
    "              label=('Tenure_25-48'), edgecolor='white', width=barWidth)\n",
    "ax4 = plt.bar(x_labels, t_49_60, bottom=np.array(t_0_12) + np.array(t_13_24) + np.array(t_25_48), color='#FFA07A', \n",
    "              label=('Tenure_49_60'), edgecolor='white', width=barWidth)\n",
    "ax5 = plt.bar(x_labels, t_gt_60, bottom=np.array(t_0_12) + np.array(t_13_24) + np.array(t_25_48) + np.array(t_49_60), color='#F0E68C', \n",
    "              label=('Tenure_Greater_60'), edgecolor='white', width=barWidth)\n",
    "\n",
    "plt.legend(loc='lower left', bbox_to_anchor=(1,0))\n",
    "plt.title('Churn Distribution by Tenure Group')\n",
    "\n",
    "for r1, r2, r3, r4, r5 in zip(ax1, ax2, ax3, ax4, ax5):\n",
    "    h1 = r1.get_height()\n",
    "    h2 = r2.get_height()\n",
    "    h3 = r3.get_height()\n",
    "    h4 = r4.get_height()\n",
    "    h5 = r5.get_height()\n",
    "    plt.text(r1.get_x() + r1.get_width() / 2., h1 / 2., '{:.2%}'.format(h1),\n",
    "            ha='center', va='center', color='black', fontweight='bold')\n",
    "    plt.text(r2.get_x() + r2.get_width() / 2., h1 + h2 / 2., '{:.2%}'.format(h2),\n",
    "            ha='center', va='center', color='black', fontweight='bold')\n",
    "    plt.text(r3.get_x() + r3.get_width() / 2., h1 + h2 + h3 / 2., '{:.2%}'.format(h3),\n",
    "            ha='center', va='center', color='black', fontweight='bold')\n",
    "    plt.text(r4.get_x() + r4.get_width() / 2., h1 + h2 + h3 + h4 / 2., '{:.2%}'.format(h4),\n",
    "            ha='center', va='center', color='black', fontweight='bold')\n",
    "    plt.text(r5.get_x() + r5.get_width() / 2., h1 + h2 + h3 + h4 + h5 / 2., '{:.2%}'.format(h5),\n",
    "            ha='center', va='center', color='black', fontweight='bold')\n",
    "\n",
    "\n",
    "\n",
    "plt.show()"
   ]
  },
  {
   "cell_type": "code",
   "execution_count": 41,
   "metadata": {},
   "outputs": [
    {
     "data": {
      "image/png": "[encoded data removed]",
      "text/plain": [
       "<Figure size 720x504 with 1 Axes>"
      ]
     },
     "metadata": {
      "needs_background": "light"
     },
     "output_type": "display_data"
    }
   ],
   "source": [
    "plt.figure(figsize=(10,7))\n",
    "plt.style.use('seaborn-deep')\n",
    "plt.hist([telcom_2[telcom_2['Churn']=='No']['tenure'], telcom_2[telcom_2['Churn']=='Yes']['tenure']],\n",
    "         bins=20,\n",
    "         label=['No', 'Yes'])\n",
    "plt.legend(loc='upper right')\n",
    "plt.title('Histogram: Churn Distribution by Tenure Months')\n",
    "plt.show()"
   ]
  },
  {
   "cell_type": "markdown",
   "metadata": {},
   "source": [
    "We can see from the graph below that the higher the tenure, the lower the Churn Rate."
   ]
  },
  {
   "cell_type": "code",
   "execution_count": 42,
   "metadata": {},
   "outputs": [
    {
     "data": {
      "image/png": "[encoded data removed]",
      "text/plain": [
       "<Figure size 720x504 with 1 Axes>"
      ]
     },
     "metadata": {
      "needs_background": "light"
     },
     "output_type": "display_data"
    }
   ],
   "source": [
    "telcom_2_tenure_plot = telcom_2.copy()\n",
    "telcom_2_tenure_plot.loc[telcom_2_tenure_plot['Churn']=='No', 'Churn'] = 0\n",
    "telcom_2_tenure_plot.loc[telcom_2_tenure_plot['Churn']=='Yes', 'Churn'] = 1\n",
    "telcom_2_tenure_plot['Churn'] = telcom_2_tenure_plot['Churn'].astype(int)\n",
    "\n",
    "scatter_plot = telcom_2_tenure_plot.groupby('tenure').mean().Churn.reset_index()\n",
    "\n",
    "\n",
    "plt.figure(figsize=(10,7))\n",
    "plt.scatter(scatter_plot['tenure'], scatter_plot['Churn'])\n",
    "plt.title('Scatter Plot - Churn Rate by Tenure (Months)')\n",
    "plt.xlabel('Months')\n",
    "plt.ylabel('Churn Rate')\n",
    "plt.show()"
   ]
  },
  {
   "cell_type": "markdown",
   "metadata": {},
   "source": [
    "Another clear trend, the higher the tenure the lower the Churn likelihood."
   ]
  },
  {
   "cell_type": "markdown",
   "metadata": {},
   "source": [
    "**Churn Distribution by Payment Method**"
   ]
  },
  {
   "cell_type": "code",
   "execution_count": 43,
   "metadata": {},
   "outputs": [
    {
     "data": {
      "image/png": "[encoded data removed]",
      "text/plain": [
       "<Figure size 504x504 with 1 Axes>"
      ]
     },
     "metadata": {
      "needs_background": "light"
     },
     "output_type": "display_data"
    }
   ],
   "source": [
    "no_churn = ((telcom_2[telcom_2['Churn']=='No']['PaymentMethod'].value_counts())\n",
    "            /(telcom_2[telcom_2['Churn']=='No']['PaymentMethod'].value_counts().sum()))\n",
    "yes_churn = ((telcom_2[telcom_2['Churn']=='Yes']['PaymentMethod'].value_counts())\n",
    "            /(telcom_2[telcom_2['Churn']=='Yes']['PaymentMethod'].value_counts().sum()))\n",
    "\n",
    "# Getting values from the group and categories\n",
    "x_labels = telcom_2['Churn'].value_counts().keys().tolist()\n",
    "elec_check = [no_churn['Electronic check'], yes_churn['Electronic check']]\n",
    "mail_check = [no_churn['Mailed check'], yes_churn['Mailed check']]\n",
    "bank_tr = [no_churn['Bank transfer (automatic)'], yes_churn['Bank transfer (automatic)']]\n",
    "credit_c = [no_churn['Credit card (automatic)'], yes_churn['Credit card (automatic)']]\n",
    "\n",
    "\n",
    "# Plotting bars\n",
    "barWidth = 0.8\n",
    "plt.figure(figsize=(7,7))\n",
    "ax1 = plt.bar(x_labels, elec_check, color='#00BFFF', \n",
    "              label=('Electronic check'), edgecolor='white', width=barWidth)\n",
    "ax2 = plt.bar(x_labels, mail_check, bottom=elec_check, color='lightgreen', \n",
    "              label=('Mailed check'), edgecolor='white', width=barWidth)\n",
    "ax3 = plt.bar(x_labels, bank_tr, bottom=np.array(elec_check) + np.array(mail_check), color='#FF9999', \n",
    "              label=('Bank transfer (automatic)'), edgecolor='white', width=barWidth)\n",
    "ax4 = plt.bar(x_labels, credit_c, bottom=np.array(elec_check) + np.array(mail_check) + np.array(bank_tr), color='#FFA07A', \n",
    "              label=('Credit card (automatic)'), edgecolor='white', width=barWidth)\n",
    "\n",
    "plt.legend(loc='lower left', bbox_to_anchor=(1,0))\n",
    "plt.title('Churn Distribution by Payment Method')\n",
    "\n",
    "for r1, r2, r3, r4 in zip(ax1, ax2, ax3, ax4):\n",
    "    h1 = r1.get_height()\n",
    "    h2 = r2.get_height()\n",
    "    h3 = r3.get_height()\n",
    "    h4 = r4.get_height()\n",
    "    plt.text(r1.get_x() + r1.get_width() / 2., h1 / 2., '{:.2%}'.format(h1),\n",
    "            ha='center', va='center', color='black', fontweight='bold')\n",
    "    plt.text(r2.get_x() + r2.get_width() / 2., h1 + h2 / 2., '{:.2%}'.format(h2),\n",
    "            ha='center', va='center', color='black', fontweight='bold')\n",
    "    plt.text(r3.get_x() + r3.get_width() / 2., h1 + h2 + h3 / 2., '{:.2%}'.format(h3),\n",
    "            ha='center', va='center', color='black', fontweight='bold')\n",
    "    plt.text(r4.get_x() + r4.get_width() / 2., h1 + h2 + h3 + h4 / 2., '{:.2%}'.format(h4),\n",
    "            ha='center', va='center', color='black', fontweight='bold')\n",
    "plt.show()\n"
   ]
  },
  {
   "cell_type": "markdown",
   "metadata": {},
   "source": [
    "We can see here that the categories with the lower churn rates come from the automatic payments type. Thus, customers using conventional payment methods (such as mailed or electronic check), are more likely to churn."
   ]
  },
  {
   "cell_type": "markdown",
   "metadata": {},
   "source": [
    "**Churn Distribution by Internet Service**"
   ]
  },
  {
   "cell_type": "code",
   "execution_count": 44,
   "metadata": {},
   "outputs": [
    {
     "data": {
      "image/png": "[encoded data removed]",
      "text/plain": [
       "<Figure size 504x504 with 1 Axes>"
      ]
     },
     "metadata": {
      "needs_background": "light"
     },
     "output_type": "display_data"
    }
   ],
   "source": [
    "no_churn = ((telcom_2[telcom_2['Churn']=='No']['InternetService'].value_counts())\n",
    "            /(telcom_2[telcom_2['Churn']=='No']['InternetService'].value_counts().sum()))\n",
    "yes_churn = ((telcom_2[telcom_2['Churn']=='Yes']['InternetService'].value_counts())\n",
    "            /(telcom_2[telcom_2['Churn']=='Yes']['InternetService'].value_counts().sum()))\n",
    "\n",
    "# Getting values from the group and categories\n",
    "x_labels = telcom_2['Churn'].value_counts().keys().tolist()\n",
    "fiber_op = [no_churn['Fiber optic'], yes_churn['Fiber optic']]\n",
    "dsl = [no_churn['DSL'], yes_churn['DSL']]\n",
    "no_int = [no_churn['No'], yes_churn['No']]\n",
    "\n",
    "\n",
    "# Plotting bars\n",
    "barWidth = 0.8\n",
    "plt.figure(figsize=(7,7))\n",
    "ax1 = plt.bar(x_labels, fiber_op, color='#00BFFF', \n",
    "              label=('Fiber optic'), edgecolor='white', width=barWidth)\n",
    "ax2 = plt.bar(x_labels, dsl, bottom=fiber_op, color='lightgreen', \n",
    "              label=('DSL'), edgecolor='white', width=barWidth)\n",
    "ax3 = plt.bar(x_labels, no_int, bottom=np.array(fiber_op) + np.array(dsl), color='#FF9999', \n",
    "              label=('No Internet'), edgecolor='white', width=barWidth)\n",
    "\n",
    "plt.legend(loc='lower left', bbox_to_anchor=(1,0))\n",
    "plt.title('Churn Distribution by Internet Service')\n",
    "\n",
    "for r1, r2, r3, r4 in zip(ax1, ax2, ax3, ax4):\n",
    "    h1 = r1.get_height()\n",
    "    h2 = r2.get_height()\n",
    "    h3 = r3.get_height()\n",
    "    plt.text(r1.get_x() + r1.get_width() / 2., h1 / 2., '{:.2%}'.format(h1),\n",
    "            ha='center', va='center', color='black', fontweight='bold')\n",
    "    plt.text(r2.get_x() + r2.get_width() / 2., h1 + h2 / 2., '{:.2%}'.format(h2),\n",
    "            ha='center', va='center', color='black', fontweight='bold')\n",
    "    plt.text(r3.get_x() + r3.get_width() / 2., h1 + h2 + h3 / 2., '{:.2%}'.format(h3),\n",
    "            ha='center', va='center', color='black', fontweight='bold')\n",
    "\n",
    "plt.show()"
   ]
  },
  {
   "cell_type": "markdown",
   "metadata": {},
   "source": [
    "We can notice from the data that customers with Fiber optic as Internet Service are more likely to churn. Usually, one would expect that customers using Fiber optic services would churn less due to the fact they have better services. But that could change given other factors such as high prices, competition, customer service, etc."
   ]
  },
  {
   "cell_type": "markdown",
   "metadata": {},
   "source": [
    "**Churn Distribution by Contract Type**"
   ]
  },
  {
   "cell_type": "code",
   "execution_count": 45,
   "metadata": {},
   "outputs": [
    {
     "data": {
      "image/png": "[encoded data removed]",
      "text/plain": [
       "<Figure size 504x504 with 1 Axes>"
      ]
     },
     "metadata": {
      "needs_background": "light"
     },
     "output_type": "display_data"
    }
   ],
   "source": [
    "no_churn = ((telcom_2[telcom_2['Churn']=='No']['Contract'].value_counts())\n",
    "            /(telcom_2[telcom_2['Churn']=='No']['Contract'].value_counts().sum()))\n",
    "yes_churn = ((telcom_2[telcom_2['Churn']=='Yes']['Contract'].value_counts())\n",
    "            /(telcom_2[telcom_2['Churn']=='Yes']['Contract'].value_counts().sum()))\n",
    "\n",
    "# Getting values from the group and categories\n",
    "x_labels = telcom_2['Churn'].value_counts().keys().tolist()\n",
    "m_t_m = [no_churn['Month-to-month'], yes_churn['Month-to-month']]\n",
    "one_y = [no_churn['One year'], yes_churn['One year']]\n",
    "two_y = [no_churn['Two year'], yes_churn['Two year']]\n",
    "\n",
    "\n",
    "# Plotting bars\n",
    "barWidth = 0.8\n",
    "plt.figure(figsize=(7,7))\n",
    "ax1 = plt.bar(x_labels, m_t_m, color='#00BFFF', \n",
    "              label=('Month-to-month'), edgecolor='white', width=barWidth)\n",
    "ax2 = plt.bar(x_labels, one_y, bottom=m_t_m, color='lightgreen', \n",
    "              label=('One year'), edgecolor='white', width=barWidth)\n",
    "ax3 = plt.bar(x_labels, two_y, bottom=np.array(m_t_m) + np.array(one_y), color='#FF9999', \n",
    "              label=('Two years'), edgecolor='white', width=barWidth)\n",
    "\n",
    "plt.legend(loc='lower left', bbox_to_anchor=(1,0))\n",
    "plt.title('Churn Distribution by Contract Type')\n",
    "\n",
    "for r1, r2, r3 in zip(ax1, ax2, ax3):\n",
    "    h1 = r1.get_height()\n",
    "    h2 = r2.get_height()\n",
    "    h3 = r3.get_height()\n",
    "    plt.text(r1.get_x() + r1.get_width() / 2., h1 / 2., '{:.2%}'.format(h1),\n",
    "            ha='center', va='center', color='black', fontweight='bold')\n",
    "    plt.text(r2.get_x() + r2.get_width() / 2., h1 + h2 / 2., '{:.2%}'.format(h2),\n",
    "            ha='center', va='center', color='black', fontweight='bold')\n",
    "    plt.text(r3.get_x() + r3.get_width() / 2., h1 + h2 + h3 / 2., '{:.2%}'.format(h3),\n",
    "            ha='center', va='center', color='black', fontweight='bold')\n",
    "\n",
    "plt.show()"
   ]
  },
  {
   "cell_type": "markdown",
   "metadata": {},
   "source": [
    "Here we have a very clear trend: the shorther the contract the higher the churn rate, which makes sense."
   ]
  },
  {
   "cell_type": "markdown",
   "metadata": {},
   "source": [
    "**Average Monthly and Total Charges by Tenure Groups**"
   ]
  },
  {
   "cell_type": "code",
   "execution_count": 46,
   "metadata": {},
   "outputs": [
    {
     "data": {
      "image/png": "[encoded data removed]",
      "text/plain": [
       "<Figure size 792x792 with 2 Axes>"
      ]
     },
     "metadata": {
      "needs_background": "light"
     },
     "output_type": "display_data"
    }
   ],
   "source": [
    "groups = telcom_2['tenure_group'].value_counts().keys().tolist()\n",
    "groups.sort()\n",
    "mean_yes_m_charges = {}\n",
    "mean_no_m_charges = {}\n",
    "mean_yes_t_charges = {}\n",
    "mean_no_t_charges = {}\n",
    "for group in groups:  \n",
    "    mean_yes_m_charges[group] = np.mean(telcom_2[(telcom_2['tenure_group']==group) & (telcom_2['Churn']=='Yes')]['MonthlyCharges'])\n",
    "    mean_no_m_charges[group] = np.mean(telcom_2[(telcom_2['tenure_group']==group) & (telcom_2['Churn']=='No')]['MonthlyCharges'])\n",
    "    mean_yes_t_charges[group] = np.mean(telcom_2[(telcom_2['tenure_group']==group) & (telcom_2['Churn']=='Yes')]['TotalCharges'])\n",
    "    mean_no_t_charges[group] = np.mean(telcom_2[(telcom_2['tenure_group']==group) & (telcom_2['Churn']=='No')]['TotalCharges'])\n",
    "\n",
    "plt.subplots(figsize=(11,11))\n",
    "plt.subplot(211)\n",
    "barWidth = 0.4\n",
    "ax1 = plt.bar(np.arange(len(groups)), \n",
    "              list(mean_yes_m_charges.values()), \n",
    "              barWidth, \n",
    "              color='#FF9999', \n",
    "              edgecolor='white')\n",
    "ax2 = plt.bar(np.arange(len(groups))+barWidth, \n",
    "              list(mean_no_m_charges.values()), \n",
    "              barWidth, \n",
    "              color='#00BFFF', \n",
    "              edgecolor='white')\n",
    "plt.xticks(np.arange(len(groups))+barWidth/2, groups)\n",
    "plt.legend(['Yes', 'No'])\n",
    "plt.title('Average Monthly Charges by Tenure Group')\n",
    "\n",
    "for r1, r2 in zip(ax1, ax2):\n",
    "    h1 = r1.get_height()\n",
    "    h2 = r2.get_height()\n",
    "    plt.text(r1.get_x() + r1.get_width() / 2., h1 / 2., '{:.2f}'.format(h1),\n",
    "            ha='center', va='center', color='black', fontweight='bold')\n",
    "    plt.text(r2.get_x() + r2.get_width() / 2., h2 / 2., '{:.2f}'.format(h2),\n",
    "            ha='center', va='center', color='black', fontweight='bold')\n",
    "\n",
    "plt.subplot(212)\n",
    "ax1 = plt.bar(np.arange(len(groups)), \n",
    "              list(mean_yes_t_charges.values()), \n",
    "              barWidth, \n",
    "              color='#FF9999', \n",
    "              edgecolor='white')\n",
    "ax2 = plt.bar(np.arange(len(groups))+barWidth, \n",
    "              list(mean_no_t_charges.values()), \n",
    "              barWidth,\n",
    "              color='#00BFFF',\n",
    "              edgecolor='white')\n",
    "plt.xticks(np.arange(len(groups))+barWidth/2, groups)\n",
    "plt.legend(['Yes', 'No'])\n",
    "plt.title('Average Total Charges by Tenure Group')\n",
    "\n",
    "for r1, r2 in zip(ax1, ax2):\n",
    "    h1 = r1.get_height()\n",
    "    h2 = r2.get_height()\n",
    "    plt.text(r1.get_x() + r1.get_width() / 2., h1 / 2., '{:.1f}'.format(h1),\n",
    "            ha='center', va='center', color='black', fontweight='bold')\n",
    "    plt.text(r2.get_x() + r2.get_width() / 2., h2 / 2., '{:.1f}'.format(h2),\n",
    "            ha='center', va='center', color='black', fontweight='bold')\n",
    "\n",
    "plt.show()"
   ]
  },
  {
   "cell_type": "markdown",
   "metadata": {},
   "source": [
    "**Correlation Matrix**"
   ]
  },
  {
   "cell_type": "markdown",
   "metadata": {},
   "source": [
    "Let's first enconde our target variable 'Churn' using the Label Enconder:"
   ]
  },
  {
   "cell_type": "code",
   "execution_count": 47,
   "metadata": {},
   "outputs": [],
   "source": [
    "le = LabelEncoder()\n",
    "telcom_2['Churn'] = le.fit_transform(telcom_2['Churn'])"
   ]
  },
  {
   "cell_type": "markdown",
   "metadata": {},
   "source": [
    "Let's now get the dummies for the categorical variables, excluding the 'customerID' (which is irrelevant for our analysis):"
   ]
  },
  {
   "cell_type": "code",
   "execution_count": 48,
   "metadata": {},
   "outputs": [
    {
     "data": {
      "text/html": [
       "<div>\n",
       "<style scoped>\n",
       "    .dataframe tbody tr th:only-of-type {\n",
       "        vertical-align: middle;\n",
       "    }\n",
       "\n",
       "    .dataframe tbody tr th {\n",
       "        vertical-align: top;\n",
       "    }\n",
       "\n",
       "    .dataframe thead th {\n",
       "        text-align: right;\n",
       "    }\n",
       "</style>\n",
       "<table border=\"1\" class=\"dataframe\">\n",
       "  <thead>\n",
       "    <tr style=\"text-align: right;\">\n",
       "      <th></th>\n",
       "      <th>tenure</th>\n",
       "      <th>MonthlyCharges</th>\n",
       "      <th>TotalCharges</th>\n",
       "      <th>Churn</th>\n",
       "      <th>gender_Female</th>\n",
       "      <th>gender_Male</th>\n",
       "      <th>SeniorCitizen_No</th>\n",
       "      <th>SeniorCitizen_Yes</th>\n",
       "      <th>Partner_No</th>\n",
       "      <th>Partner_Yes</th>\n",
       "      <th>...</th>\n",
       "      <th>PaperlessBilling_Yes</th>\n",
       "      <th>PaymentMethod_Bank transfer (automatic)</th>\n",
       "      <th>PaymentMethod_Credit card (automatic)</th>\n",
       "      <th>PaymentMethod_Electronic check</th>\n",
       "      <th>PaymentMethod_Mailed check</th>\n",
       "      <th>tenure_group_Tenure_0-12</th>\n",
       "      <th>tenure_group_Tenure_13-24</th>\n",
       "      <th>tenure_group_Tenure_25-48</th>\n",
       "      <th>tenure_group_Tenure_49-60</th>\n",
       "      <th>tenure_group_Tenure_gt_60</th>\n",
       "    </tr>\n",
       "  </thead>\n",
       "  <tbody>\n",
       "    <tr>\n",
       "      <th>0</th>\n",
       "      <td>1</td>\n",
       "      <td>29.85</td>\n",
       "      <td>29.85</td>\n",
       "      <td>0</td>\n",
       "      <td>1</td>\n",
       "      <td>0</td>\n",
       "      <td>1</td>\n",
       "      <td>0</td>\n",
       "      <td>0</td>\n",
       "      <td>1</td>\n",
       "      <td>...</td>\n",
       "      <td>1</td>\n",
       "      <td>0</td>\n",
       "      <td>0</td>\n",
       "      <td>1</td>\n",
       "      <td>0</td>\n",
       "      <td>1</td>\n",
       "      <td>0</td>\n",
       "      <td>0</td>\n",
       "      <td>0</td>\n",
       "      <td>0</td>\n",
       "    </tr>\n",
       "    <tr>\n",
       "      <th>1</th>\n",
       "      <td>34</td>\n",
       "      <td>56.95</td>\n",
       "      <td>1889.50</td>\n",
       "      <td>0</td>\n",
       "      <td>0</td>\n",
       "      <td>1</td>\n",
       "      <td>1</td>\n",
       "      <td>0</td>\n",
       "      <td>1</td>\n",
       "      <td>0</td>\n",
       "      <td>...</td>\n",
       "      <td>0</td>\n",
       "      <td>0</td>\n",
       "      <td>0</td>\n",
       "      <td>0</td>\n",
       "      <td>1</td>\n",
       "      <td>0</td>\n",
       "      <td>0</td>\n",
       "      <td>1</td>\n",
       "      <td>0</td>\n",
       "      <td>0</td>\n",
       "    </tr>\n",
       "    <tr>\n",
       "      <th>2</th>\n",
       "      <td>2</td>\n",
       "      <td>53.85</td>\n",
       "      <td>108.15</td>\n",
       "      <td>1</td>\n",
       "      <td>0</td>\n",
       "      <td>1</td>\n",
       "      <td>1</td>\n",
       "      <td>0</td>\n",
       "      <td>1</td>\n",
       "      <td>0</td>\n",
       "      <td>...</td>\n",
       "      <td>1</td>\n",
       "      <td>0</td>\n",
       "      <td>0</td>\n",
       "      <td>0</td>\n",
       "      <td>1</td>\n",
       "      <td>1</td>\n",
       "      <td>0</td>\n",
       "      <td>0</td>\n",
       "      <td>0</td>\n",
       "      <td>0</td>\n",
       "    </tr>\n",
       "    <tr>\n",
       "      <th>3</th>\n",
       "      <td>45</td>\n",
       "      <td>42.30</td>\n",
       "      <td>1840.75</td>\n",
       "      <td>0</td>\n",
       "      <td>0</td>\n",
       "      <td>1</td>\n",
       "      <td>1</td>\n",
       "      <td>0</td>\n",
       "      <td>1</td>\n",
       "      <td>0</td>\n",
       "      <td>...</td>\n",
       "      <td>0</td>\n",
       "      <td>1</td>\n",
       "      <td>0</td>\n",
       "      <td>0</td>\n",
       "      <td>0</td>\n",
       "      <td>0</td>\n",
       "      <td>0</td>\n",
       "      <td>1</td>\n",
       "      <td>0</td>\n",
       "      <td>0</td>\n",
       "    </tr>\n",
       "    <tr>\n",
       "      <th>4</th>\n",
       "      <td>2</td>\n",
       "      <td>70.70</td>\n",
       "      <td>151.65</td>\n",
       "      <td>1</td>\n",
       "      <td>1</td>\n",
       "      <td>0</td>\n",
       "      <td>1</td>\n",
       "      <td>0</td>\n",
       "      <td>1</td>\n",
       "      <td>0</td>\n",
       "      <td>...</td>\n",
       "      <td>1</td>\n",
       "      <td>0</td>\n",
       "      <td>0</td>\n",
       "      <td>1</td>\n",
       "      <td>0</td>\n",
       "      <td>1</td>\n",
       "      <td>0</td>\n",
       "      <td>0</td>\n",
       "      <td>0</td>\n",
       "      <td>0</td>\n",
       "    </tr>\n",
       "  </tbody>\n",
       "</table>\n",
       "<p>5 rows × 46 columns</p>\n",
       "</div>"
      ],
      "text/plain": [
       "   tenure  MonthlyCharges  TotalCharges  Churn  gender_Female  gender_Male  \\\n",
       "0       1           29.85         29.85      0              1            0   \n",
       "1      34           56.95       1889.50      0              0            1   \n",
       "2       2           53.85        108.15      1              0            1   \n",
       "3      45           42.30       1840.75      0              0            1   \n",
       "4       2           70.70        151.65      1              1            0   \n",
       "\n",
       "   SeniorCitizen_No  SeniorCitizen_Yes  Partner_No  Partner_Yes  ...  \\\n",
       "0                 1                  0           0            1  ...   \n",
       "1                 1                  0           1            0  ...   \n",
       "2                 1                  0           1            0  ...   \n",
       "3                 1                  0           1            0  ...   \n",
       "4                 1                  0           1            0  ...   \n",
       "\n",
       "   PaperlessBilling_Yes  PaymentMethod_Bank transfer (automatic)  \\\n",
       "0                     1                                        0   \n",
       "1                     0                                        0   \n",
       "2                     1                                        0   \n",
       "3                     0                                        1   \n",
       "4                     1                                        0   \n",
       "\n",
       "   PaymentMethod_Credit card (automatic)  PaymentMethod_Electronic check  \\\n",
       "0                                      0                               1   \n",
       "1                                      0                               0   \n",
       "2                                      0                               0   \n",
       "3                                      0                               0   \n",
       "4                                      0                               1   \n",
       "\n",
       "   PaymentMethod_Mailed check  tenure_group_Tenure_0-12  \\\n",
       "0                           0                         1   \n",
       "1                           1                         0   \n",
       "2                           1                         1   \n",
       "3                           0                         0   \n",
       "4                           0                         1   \n",
       "\n",
       "   tenure_group_Tenure_13-24  tenure_group_Tenure_25-48  \\\n",
       "0                          0                          0   \n",
       "1                          0                          1   \n",
       "2                          0                          0   \n",
       "3                          0                          1   \n",
       "4                          0                          0   \n",
       "\n",
       "   tenure_group_Tenure_49-60  tenure_group_Tenure_gt_60  \n",
       "0                          0                          0  \n",
       "1                          0                          0  \n",
       "2                          0                          0  \n",
       "3                          0                          0  \n",
       "4                          0                          0  \n",
       "\n",
       "[5 rows x 46 columns]"
      ]
     },
     "execution_count": 48,
     "metadata": {},
     "output_type": "execute_result"
    }
   ],
   "source": [
    "telcom_2_dummies = pd.get_dummies(telcom_2[num_att + cat_att + target])\n",
    "telcom_2_dummies.head()"
   ]
  },
  {
   "cell_type": "markdown",
   "metadata": {},
   "source": [
    "Now, let's plot our correlation matrix:"
   ]
  },
  {
   "cell_type": "code",
   "execution_count": 49,
   "metadata": {},
   "outputs": [
    {
     "data": {
      "text/plain": [
       "<matplotlib.axes._subplots.AxesSubplot at 0x28a399d0ac8>"
      ]
     },
     "execution_count": 49,
     "metadata": {},
     "output_type": "execute_result"
    },
    {
     "data": {
      "image/png": "[encoded data removed]",
      "text/plain": [
       "<Figure size 1080x1080 with 2 Axes>"
      ]
     },
     "metadata": {
      "needs_background": "light"
     },
     "output_type": "display_data"
    }
   ],
   "source": [
    "corr_matrix = telcom_2_dummies.corr()\n",
    "\n",
    "# Generate a mask for the upper triangle\n",
    "mask = np.triu(np.ones_like(corr_matrix, dtype=np.bool))\n",
    "\n",
    "# Generate a custom diverging colormap\n",
    "cmap = sns.diverging_palette(220, 10, as_cmap=True)\n",
    "\n",
    "# Draw the heatmap with the mask and correct aspect ratio\n",
    "plt.figure(figsize=(15,15))\n",
    "sns.heatmap(corr_matrix, mask=mask, cmap=cmap, vmax=.6, center=0,\n",
    "            xticklabels=(telcom_2_dummies.nunique().keys().tolist()),\n",
    "            yticklabels=(telcom_2_dummies.nunique().keys().tolist()),\n",
    "            square=True, linewidths=.5, cbar_kws={\"shrink\": .5})"
   ]
  },
  {
   "cell_type": "code",
   "execution_count": 50,
   "metadata": {},
   "outputs": [
    {
     "data": {
      "text/plain": [
       "Churn                                      1.000000\n",
       "Contract_Month-to-month                    0.404565\n",
       "tenure_group_Tenure_0-12                   0.319628\n",
       "InternetService_Fiber optic                0.307463\n",
       "PaymentMethod_Electronic check             0.301455\n",
       "MonthlyCharges                             0.192858\n",
       "PaperlessBilling_Yes                       0.191454\n",
       "OnlineSecurity_No                          0.171270\n",
       "TechSupport_No                             0.164716\n",
       "Dependents_No                              0.163128\n",
       "Partner_No                                 0.149982\n",
       "OnlineBackup_No                            0.082307\n",
       "DeviceProtection_No                        0.066193\n",
       "StreamingTV_Yes                            0.063254\n",
       "StreamingMovies_Yes                        0.060860\n",
       "MultipleLines_Yes                          0.040033\n",
       "tenure_group_Tenure_13-24                  0.019929\n",
       "PhoneService_Yes                           0.011691\n",
       "gender_Female                              0.008545\n",
       "SeniorCitizen_No                           0.006983\n",
       "SeniorCitizen_Yes                         -0.006983\n",
       "gender_Male                               -0.008545\n",
       "MultipleLines_No phone service            -0.011691\n",
       "PhoneService_No                           -0.011691\n",
       "MultipleLines_No                          -0.032654\n",
       "StreamingMovies_No                        -0.060860\n",
       "StreamingTV_No                            -0.063254\n",
       "DeviceProtection_Yes                      -0.066193\n",
       "tenure_group_Tenure_25-48                 -0.075859\n",
       "OnlineBackup_Yes                          -0.082307\n",
       "PaymentMethod_Mailed check                -0.090773\n",
       "tenure_group_Tenure_49-60                 -0.100800\n",
       "PaymentMethod_Bank transfer (automatic)   -0.118136\n",
       "InternetService_DSL                       -0.124141\n",
       "PaymentMethod_Credit card (automatic)     -0.134687\n",
       "Partner_Yes                               -0.149982\n",
       "Dependents_Yes                            -0.163128\n",
       "TechSupport_Yes                           -0.164716\n",
       "OnlineSecurity_Yes                        -0.171270\n",
       "Contract_One year                         -0.178225\n",
       "PaperlessBilling_No                       -0.191454\n",
       "TotalCharges                              -0.199484\n",
       "tenure_group_Tenure_gt_60                 -0.226078\n",
       "InternetService_No                        -0.227578\n",
       "Contract_Two year                         -0.301552\n",
       "tenure                                    -0.354049\n",
       "Name: Churn, dtype: float64"
      ]
     },
     "execution_count": 50,
     "metadata": {},
     "output_type": "execute_result"
    }
   ],
   "source": [
    "corr_matrix['Churn'].sort_values(ascending=False)"
   ]
  },
  {
   "cell_type": "markdown",
   "metadata": {},
   "source": [
    "## 5. Data Preparation"
   ]
  },
  {
   "cell_type": "markdown",
   "metadata": {},
   "source": [
    "Before we apply any transformation to our data, let's split our dataset to avoid data leakage:"
   ]
  },
  {
   "cell_type": "code",
   "execution_count": 51,
   "metadata": {},
   "outputs": [],
   "source": [
    "y = telcom_2['Churn'].copy()\n",
    "X = telcom_2.drop(['Churn', 'customerID'], axis=1)\n",
    "X_train, X_test, y_train, y_test = train_test_split(X, y, test_size=0.25, random_state=24)"
   ]
  },
  {
   "cell_type": "code",
   "execution_count": 52,
   "metadata": {},
   "outputs": [
    {
     "name": "stdout",
     "output_type": "stream",
     "text": [
      "(5274, 20)\n",
      "(5274,)\n",
      "(1758, 20)\n",
      "(1758,)\n"
     ]
    }
   ],
   "source": [
    "print(X_train.shape)\n",
    "print(y_train.shape)\n",
    "print(X_test.shape)\n",
    "print(y_test.shape)"
   ]
  },
  {
   "cell_type": "markdown",
   "metadata": {},
   "source": [
    "Next, we create a class to select numerical or categorical columns since Scikit-Learn doesn't handle DataFrames."
   ]
  },
  {
   "cell_type": "code",
   "execution_count": 53,
   "metadata": {},
   "outputs": [],
   "source": [
    "class DataFrameSelector(BaseEstimator, TransformerMixin):\n",
    "    def __init__(self, feature_names):\n",
    "        self.attribute_names = feature_names\n",
    "    def fit(self, X, y=None):\n",
    "        return self\n",
    "    def transform(self, X):\n",
    "        return X[self.attribute_names].values"
   ]
  },
  {
   "cell_type": "markdown",
   "metadata": {},
   "source": [
    "Let's now create our numerical and categorical imputers:"
   ]
  },
  {
   "cell_type": "code",
   "execution_count": 54,
   "metadata": {},
   "outputs": [],
   "source": [
    "num_pipeline = Pipeline([\n",
    "    ('selector', DataFrameSelector(num_att)),\n",
    "    ('imputer', SimpleImputer(strategy='median')),\n",
    "    ('std_scaler', StandardScaler())\n",
    "])\n",
    "\n",
    "cat_pipeline = Pipeline([\n",
    "    ('selector', DataFrameSelector(cat_att)),\n",
    "    ('cat_encoder', OneHotEncoder(sparse=False))\n",
    "])\n",
    "\n",
    "full_pipeline = FeatureUnion(transformer_list=[\n",
    "    ('num_pipeline', num_pipeline),\n",
    "    ('cat_pipeline', cat_pipeline)\n",
    "])"
   ]
  },
  {
   "cell_type": "code",
   "execution_count": 55,
   "metadata": {},
   "outputs": [
    {
     "name": "stdout",
     "output_type": "stream",
     "text": [
      "<class 'numpy.ndarray'>\n",
      "<class 'numpy.ndarray'>\n"
     ]
    }
   ],
   "source": [
    "X_train_prepared = full_pipeline.fit_transform(X_train)\n",
    "y_train_prepared = y_train.to_numpy()\n",
    "print(type(X_train_prepared))\n",
    "print(type(y_train_prepared))"
   ]
  },
  {
   "cell_type": "code",
   "execution_count": 56,
   "metadata": {},
   "outputs": [
    {
     "name": "stdout",
     "output_type": "stream",
     "text": [
      "<class 'numpy.ndarray'>\n",
      "<class 'numpy.ndarray'>\n"
     ]
    }
   ],
   "source": [
    "X_test_prepared = full_pipeline.fit_transform(X_test)\n",
    "y_test_prepared = y_test.to_numpy()\n",
    "print(type(X_test_prepared))\n",
    "print(type(y_test_prepared))"
   ]
  },
  {
   "cell_type": "markdown",
   "metadata": {},
   "source": [
    "## 6. Modelling"
   ]
  },
  {
   "cell_type": "markdown",
   "metadata": {},
   "source": [
    "### 6.1 Scikit-Learn"
   ]
  },
  {
   "cell_type": "code",
   "execution_count": 57,
   "metadata": {},
   "outputs": [],
   "source": [
    "def model_scores(model, X_train, y_train):\n",
    "    pred = model.predict(X_train)\n",
    "    accuracy = accuracy_score(y_train, pred)\n",
    "    auc = roc_auc_score(y_train, pred)\n",
    "    recall = recall_score(y_train, pred)\n",
    "    precision = precision_score(y_train, pred)\n",
    "    f1 = f1_score(y_train, pred)\n",
    "    print(' Accuracy: {:.3f}'.format(accuracy))\n",
    "    print('      AUC: {:.3f}'.format(auc))\n",
    "    print('   Recall: {:.3f}'.format(recall))\n",
    "    print('Precision: {:.3f}'.format(precision))\n",
    "    print(' F1-Score: {:.3f}'.format(f1))\n",
    "    print('\\n', 'Confusion Matrix:\\n', confusion_matrix(y_train, pred))\n",
    "    return accuracy, auc, recall, precision, f1"
   ]
  },
  {
   "cell_type": "code",
   "execution_count": 58,
   "metadata": {},
   "outputs": [],
   "source": [
    "def cv_model_scores(model, X_train, y_train):\n",
    "    \n",
    "    cv_scores = cross_validate(model,\n",
    "                               X_train,\n",
    "                               y_train,\n",
    "                               scoring=('roc_auc', 'accuracy', 'precision', 'recall'),\n",
    "                               cv=5,\n",
    "                               return_train_score=True)\n",
    "    \n",
    "    mean_tr_auc = np.mean(cv_scores['train_roc_auc'])\n",
    "    mean_val_auc = np.mean(cv_scores['test_roc_auc'])\n",
    "    mean_tr_acc = np.mean(cv_scores['train_accuracy'])\n",
    "    mean_val_acc = np.mean(cv_scores['test_accuracy'])\n",
    "    mean_tr_pre = np.mean(cv_scores['train_precision'])\n",
    "    mean_val_pre = np.mean(cv_scores['test_precision'])\n",
    "    mean_tr_rec = np.mean(cv_scores['train_recall'])\n",
    "    mean_val_rec = np.mean(cv_scores['test_recall'])\n",
    "    \n",
    "    print('      Avg CV AUC: %.3f' % mean_val_auc)\n",
    "    print('      Avg CV Acc: %.3f' % mean_val_acc)\n",
    "    print('Avg CV Precision: %.3f' % mean_val_pre)\n",
    "    print('   Avg CV Recall: %.3f' % mean_val_rec)\n",
    "    \n",
    "    return mean_val_auc, mean_val_acc, mean_val_pre, mean_val_rec"
   ]
  },
  {
   "cell_type": "markdown",
   "metadata": {},
   "source": [
    "**Baseline Model: Naive Bayes**"
   ]
  },
  {
   "cell_type": "code",
   "execution_count": 59,
   "metadata": {},
   "outputs": [
    {
     "data": {
      "text/plain": [
       "GaussianNB(priors=None, var_smoothing=1e-09)"
      ]
     },
     "execution_count": 59,
     "metadata": {},
     "output_type": "execute_result"
    }
   ],
   "source": [
    "nbm = GaussianNB()\n",
    "nbm.fit(X_train_prepared, y_train_prepared)"
   ]
  },
  {
   "cell_type": "code",
   "execution_count": 60,
   "metadata": {},
   "outputs": [
    {
     "name": "stdout",
     "output_type": "stream",
     "text": [
      "      Avg CV AUC: 0.831\n",
      "      Avg CV Acc: 0.747\n",
      "Avg CV Precision: 0.517\n",
      "   Avg CV Recall: 0.780\n"
     ]
    }
   ],
   "source": [
    "nbm_tr_auc, nbm_tr_acc, nbm_tr_pre, nbm_tr_rec = cv_model_scores(nbm, \n",
    "                                                                 X_train_prepared, \n",
    "                                                                 y_train_prepared)"
   ]
  },
  {
   "cell_type": "code",
   "execution_count": 61,
   "metadata": {},
   "outputs": [
    {
     "name": "stdout",
     "output_type": "stream",
     "text": [
      "      Avg CV AUC: 0.824\n",
      "      Avg CV Acc: 0.743\n",
      "Avg CV Precision: 0.510\n",
      "   Avg CV Recall: 0.789\n"
     ]
    }
   ],
   "source": [
    "nbm_te_auc, nbm_te_acc, nbm_te_pre, nbm_te_rec = cv_model_scores(nbm, \n",
    "                                                                 X_test_prepared, \n",
    "                                                                 y_test_prepared)"
   ]
  },
  {
   "cell_type": "markdown",
   "metadata": {},
   "source": [
    "**Logistic Regression**"
   ]
  },
  {
   "cell_type": "code",
   "execution_count": 62,
   "metadata": {},
   "outputs": [
    {
     "data": {
      "text/plain": [
       "LogisticRegression(C=1.0, class_weight=None, dual=False, fit_intercept=True,\n",
       "                   intercept_scaling=1, l1_ratio=None, max_iter=1000,\n",
       "                   multi_class='auto', n_jobs=None, penalty='l2',\n",
       "                   random_state=None, solver='lbfgs', tol=0.0001, verbose=0,\n",
       "                   warm_start=False)"
      ]
     },
     "execution_count": 62,
     "metadata": {},
     "output_type": "execute_result"
    }
   ],
   "source": [
    "lgm = LogisticRegression(max_iter=1000)\n",
    "lgm.fit(X_train_prepared, y_train_prepared)"
   ]
  },
  {
   "cell_type": "code",
   "execution_count": 63,
   "metadata": {},
   "outputs": [
    {
     "name": "stdout",
     "output_type": "stream",
     "text": [
      "      Avg CV AUC: 0.846\n",
      "      Avg CV Acc: 0.804\n",
      "Avg CV Precision: 0.668\n",
      "   Avg CV Recall: 0.527\n"
     ]
    }
   ],
   "source": [
    "lgm_tr_auc, lgm_tr_acc, lgm_tr_pre, lgm_tr_rec = cv_model_scores(lgm, X_train_prepared, y_train_prepared)"
   ]
  },
  {
   "cell_type": "code",
   "execution_count": 64,
   "metadata": {},
   "outputs": [
    {
     "name": "stdout",
     "output_type": "stream",
     "text": [
      "      Avg CV AUC: 0.836\n",
      "      Avg CV Acc: 0.796\n",
      "Avg CV Precision: 0.654\n",
      "   Avg CV Recall: 0.515\n"
     ]
    }
   ],
   "source": [
    "lgm_te_auc, lgm_te_acc, lgm_te_pre, lgm_te_rec = cv_model_scores(lgm, X_test_prepared, y_test_prepared)"
   ]
  },
  {
   "cell_type": "markdown",
   "metadata": {},
   "source": [
    "**Support Vector Machine**\n",
    "\n",
    "Support Vector Machine algorithms are very well suited for classification of complex small or medium sized datasets, which is our case. So, we will give it a go."
   ]
  },
  {
   "cell_type": "code",
   "execution_count": 69,
   "metadata": {},
   "outputs": [
    {
     "data": {
      "text/plain": [
       "SVC(C=1, break_ties=False, cache_size=200, class_weight=None, coef0=0.0,\n",
       "    decision_function_shape='ovr', degree=3, gamma='scale', kernel='linear',\n",
       "    max_iter=-1, probability=False, random_state=None, shrinking=True,\n",
       "    tol=0.001, verbose=False)"
      ]
     },
     "execution_count": 69,
     "metadata": {},
     "output_type": "execute_result"
    }
   ],
   "source": [
    "svm = SVC(kernel='linear',\n",
    "          C=1)\n",
    "svm.fit(X_train_prepared, y_train_prepared)"
   ]
  },
  {
   "cell_type": "code",
   "execution_count": 70,
   "metadata": {},
   "outputs": [
    {
     "name": "stdout",
     "output_type": "stream",
     "text": [
      "      Avg CV AUC: 0.830\n",
      "      Avg CV Acc: 0.795\n",
      "Avg CV Precision: 0.660\n",
      "   Avg CV Recall: 0.482\n"
     ]
    }
   ],
   "source": [
    "svm_tr_auc, svm_tr_acc, svm_tr_pre, svm_tr_rec = cv_model_scores(svm, X_train_prepared, y_train_prepared)"
   ]
  },
  {
   "cell_type": "code",
   "execution_count": 71,
   "metadata": {},
   "outputs": [
    {
     "name": "stdout",
     "output_type": "stream",
     "text": [
      "      Avg CV AUC: 0.817\n",
      "      Avg CV Acc: 0.795\n",
      "Avg CV Precision: 0.666\n",
      "   Avg CV Recall: 0.459\n"
     ]
    }
   ],
   "source": [
    "svm_te_auc, svm_te_acc, svm_te_pre, svm_te_rec = cv_model_scores(svm, X_test_prepared, y_test_prepared)"
   ]
  },
  {
   "cell_type": "markdown",
   "metadata": {},
   "source": [
    "**Random Forest Classifier**"
   ]
  },
  {
   "cell_type": "markdown",
   "metadata": {},
   "source": [
    "We will train our Random Forest Classifier directly with a Random Grid Search aiming at improving results in the first run. So let's first create the search space:"
   ]
  },
  {
   "cell_type": "code",
   "execution_count": 65,
   "metadata": {},
   "outputs": [
    {
     "data": {
      "text/plain": [
       "RandomizedSearchCV(cv=5, error_score=nan,\n",
       "                   estimator=RandomForestClassifier(bootstrap=True,\n",
       "                                                    ccp_alpha=0.0,\n",
       "                                                    class_weight=None,\n",
       "                                                    criterion='gini',\n",
       "                                                    max_depth=None,\n",
       "                                                    max_features='auto',\n",
       "                                                    max_leaf_nodes=None,\n",
       "                                                    max_samples=None,\n",
       "                                                    min_impurity_decrease=0.0,\n",
       "                                                    min_impurity_split=None,\n",
       "                                                    min_samples_leaf=1,\n",
       "                                                    min_samples_split=2,\n",
       "                                                    min_weight_fraction_leaf=0.0,\n",
       "                                                    n_estimators=100,\n",
       "                                                    n_jobs=None,\n",
       "                                                    oob_score=False,\n",
       "                                                    random_state=None,\n",
       "                                                    verbose=0,\n",
       "                                                    warm_start=False),\n",
       "                   iid='deprecated', n_iter=40, n_jobs=-1,\n",
       "                   param_distributions={'bootstrap': [True, False],\n",
       "                                        'max_features': ['auto', 'log2'],\n",
       "                                        'n_estimators': [100, 200, 300, 400,\n",
       "                                                         500, 600, 700, 800,\n",
       "                                                         900, 1000]},\n",
       "                   pre_dispatch='2*n_jobs', random_state=24, refit=True,\n",
       "                   return_train_score=False, scoring='accuracy', verbose=0)"
      ]
     },
     "execution_count": 65,
     "metadata": {},
     "output_type": "execute_result"
    }
   ],
   "source": [
    "n_estimators = [int (x) for x in np.linspace(start=100, stop=1000, num=10)]\n",
    "max_features = ['auto', 'log2']\n",
    "bootstrap = [True, False]\n",
    "\n",
    "# Creating the random grid\n",
    "random_grid = {'n_estimators': n_estimators,\n",
    "               'max_features': max_features,\n",
    "               'bootstrap': bootstrap}\n",
    "\n",
    "# Random Grid Search\n",
    "rfm = RandomForestClassifier()\n",
    "rf_rgs = RandomizedSearchCV(estimator=rfm,\n",
    "                            param_distributions=random_grid,\n",
    "                            n_iter = 10*2*2, #total param combinations\n",
    "                            cv = 5,\n",
    "                            random_state=24,\n",
    "                            scoring='accuracy',\n",
    "                            n_jobs=-1)\n",
    "\n",
    "rf_rgs.fit(X_train_prepared, y_train_prepared)"
   ]
  },
  {
   "cell_type": "code",
   "execution_count": 66,
   "metadata": {},
   "outputs": [
    {
     "data": {
      "text/plain": [
       "{'n_estimators': 400, 'max_features': 'auto', 'bootstrap': True}"
      ]
     },
     "execution_count": 66,
     "metadata": {},
     "output_type": "execute_result"
    }
   ],
   "source": [
    "rf_rgs.best_params_"
   ]
  },
  {
   "cell_type": "code",
   "execution_count": 67,
   "metadata": {},
   "outputs": [
    {
     "name": "stdout",
     "output_type": "stream",
     "text": [
      "      Avg CV AUC: 0.821\n",
      "      Avg CV Acc: 0.781\n",
      "Avg CV Precision: 0.617\n",
      "   Avg CV Recall: 0.469\n"
     ]
    }
   ],
   "source": [
    "best_rfm = rf_rgs.best_estimator_\n",
    "rfm_tr_auc, rfm_tr_acc, rfm_tr_pre, rfm_tr_rec = cv_model_scores(best_rfm, X_train_prepared, y_train_prepared)"
   ]
  },
  {
   "cell_type": "code",
   "execution_count": 68,
   "metadata": {},
   "outputs": [
    {
     "name": "stdout",
     "output_type": "stream",
     "text": [
      "      Avg CV AUC: 0.822\n",
      "      Avg CV Acc: 0.796\n",
      "Avg CV Precision: 0.652\n",
      "   Avg CV Recall: 0.506\n"
     ]
    }
   ],
   "source": [
    "rfm_te_auc, rfm_te_acc, rfm_te_pre, rfm_te_rec = cv_model_scores(best_rfm, X_test_prepared, y_test_prepared)"
   ]
  },
  {
   "cell_type": "markdown",
   "metadata": {},
   "source": [
    "### 6.2 CatBoost"
   ]
  },
  {
   "cell_type": "code",
   "execution_count": 72,
   "metadata": {},
   "outputs": [],
   "source": [
    "cbm = CatBoostClassifier(iterations=500,\n",
    "                         depth=10,\n",
    "                         learning_rate=0.01,\n",
    "                         loss_function='Logloss',\n",
    "                         eval_metric='Accuracy',\n",
    "                         custom_metric=['Logloss', 'AUC:hints=skip_train~false'],\n",
    "                         random_seed=24,\n",
    "                         verbose=True)"
   ]
  },
  {
   "cell_type": "code",
   "execution_count": 73,
   "metadata": {},
   "outputs": [
    {
     "name": "stdout",
     "output_type": "stream",
     "text": [
      "0:\tlearn: 0.7883959\ttest: 0.7855518\tbest: 0.7855518 (0)\ttotal: 138ms\tremaining: 1m 8s\n",
      "1:\tlearn: 0.7861206\ttest: 0.7889647\tbest: 0.7889647 (1)\ttotal: 161ms\tremaining: 40.1s\n",
      "2:\tlearn: 0.7914297\ttest: 0.7997725\tbest: 0.7997725 (2)\ttotal: 176ms\tremaining: 29.1s\n",
      "3:\tlearn: 0.7956011\ttest: 0.8031854\tbest: 0.8031854 (3)\ttotal: 248ms\tremaining: 30.7s\n",
      "4:\tlearn: 0.7944634\ttest: 0.8003413\tbest: 0.8031854 (3)\ttotal: 257ms\tremaining: 25.4s\n",
      "5:\tlearn: 0.7944634\ttest: 0.8003413\tbest: 0.8031854 (3)\ttotal: 294ms\tremaining: 24.2s\n",
      "6:\tlearn: 0.7923777\ttest: 0.7997725\tbest: 0.8031854 (3)\ttotal: 304ms\tremaining: 21.4s\n",
      "7:\tlearn: 0.7916193\ttest: 0.8003413\tbest: 0.8031854 (3)\ttotal: 329ms\tremaining: 20.2s\n",
      "8:\tlearn: 0.7952218\ttest: 0.8043231\tbest: 0.8043231 (8)\ttotal: 382ms\tremaining: 20.8s\n",
      "9:\tlearn: 0.7925673\ttest: 0.8026166\tbest: 0.8043231 (8)\ttotal: 405ms\tremaining: 19.8s\n",
      "10:\tlearn: 0.7984452\ttest: 0.7997725\tbest: 0.8043231 (8)\ttotal: 469ms\tremaining: 20.8s\n",
      "11:\tlearn: 0.7965491\ttest: 0.7997725\tbest: 0.8043231 (8)\ttotal: 479ms\tremaining: 19.5s\n",
      "12:\tlearn: 0.7974972\ttest: 0.8009101\tbest: 0.8043231 (8)\ttotal: 515ms\tremaining: 19.3s\n",
      "13:\tlearn: 0.7948426\ttest: 0.8014790\tbest: 0.8043231 (8)\ttotal: 519ms\tremaining: 18s\n",
      "14:\tlearn: 0.7942738\ttest: 0.8043231\tbest: 0.8043231 (8)\ttotal: 537ms\tremaining: 17.4s\n",
      "15:\tlearn: 0.7942738\ttest: 0.8020478\tbest: 0.8043231 (8)\ttotal: 565ms\tremaining: 17.1s\n",
      "16:\tlearn: 0.7937050\ttest: 0.8009101\tbest: 0.8043231 (8)\ttotal: 608ms\tremaining: 17.3s\n",
      "17:\tlearn: 0.7940842\ttest: 0.8020478\tbest: 0.8043231 (8)\ttotal: 633ms\tremaining: 16.9s\n",
      "18:\tlearn: 0.7935154\ttest: 0.8014790\tbest: 0.8043231 (8)\ttotal: 644ms\tremaining: 16.3s\n",
      "19:\tlearn: 0.7938946\ttest: 0.8026166\tbest: 0.8043231 (8)\ttotal: 687ms\tremaining: 16.5s\n",
      "20:\tlearn: 0.7931361\ttest: 0.8043231\tbest: 0.8043231 (8)\ttotal: 698ms\tremaining: 15.9s\n",
      "21:\tlearn: 0.7944634\ttest: 0.8020478\tbest: 0.8043231 (8)\ttotal: 739ms\tremaining: 16.1s\n",
      "22:\tlearn: 0.7938946\ttest: 0.8026166\tbest: 0.8043231 (8)\ttotal: 753ms\tremaining: 15.6s\n",
      "23:\tlearn: 0.7954115\ttest: 0.8026166\tbest: 0.8043231 (8)\ttotal: 818ms\tremaining: 16.2s\n",
      "24:\tlearn: 0.7952218\ttest: 0.8037543\tbest: 0.8043231 (8)\ttotal: 855ms\tremaining: 16.2s\n",
      "25:\tlearn: 0.7973075\ttest: 0.8031854\tbest: 0.8043231 (8)\ttotal: 926ms\tremaining: 16.9s\n",
      "26:\tlearn: 0.7971179\ttest: 0.8026166\tbest: 0.8043231 (8)\ttotal: 946ms\tremaining: 16.6s\n",
      "27:\tlearn: 0.7961699\ttest: 0.8037543\tbest: 0.8043231 (8)\ttotal: 952ms\tremaining: 16s\n",
      "28:\tlearn: 0.7954115\ttest: 0.8037543\tbest: 0.8043231 (8)\ttotal: 979ms\tremaining: 15.9s\n",
      "29:\tlearn: 0.7969283\ttest: 0.8026166\tbest: 0.8043231 (8)\ttotal: 1.03s\tremaining: 16.1s\n",
      "30:\tlearn: 0.7965491\ttest: 0.8037543\tbest: 0.8043231 (8)\ttotal: 1.07s\tremaining: 16.3s\n",
      "31:\tlearn: 0.7952218\ttest: 0.8031854\tbest: 0.8043231 (8)\ttotal: 1.11s\tremaining: 16.2s\n",
      "32:\tlearn: 0.7963595\ttest: 0.8026166\tbest: 0.8043231 (8)\ttotal: 1.17s\tremaining: 16.6s\n",
      "33:\tlearn: 0.7954115\ttest: 0.8037543\tbest: 0.8043231 (8)\ttotal: 1.18s\tremaining: 16.2s\n",
      "34:\tlearn: 0.7959803\ttest: 0.8037543\tbest: 0.8043231 (8)\ttotal: 1.26s\tremaining: 16.7s\n",
      "35:\tlearn: 0.7969283\ttest: 0.8026166\tbest: 0.8043231 (8)\ttotal: 1.32s\tremaining: 17s\n",
      "36:\tlearn: 0.7957907\ttest: 0.8031854\tbest: 0.8043231 (8)\ttotal: 1.33s\tremaining: 16.6s\n",
      "37:\tlearn: 0.7969283\ttest: 0.8020478\tbest: 0.8043231 (8)\ttotal: 1.41s\tremaining: 17.1s\n",
      "38:\tlearn: 0.7973075\ttest: 0.8043231\tbest: 0.8043231 (8)\ttotal: 1.47s\tremaining: 17.3s\n",
      "39:\tlearn: 0.7982556\ttest: 0.8020478\tbest: 0.8043231 (8)\ttotal: 1.53s\tremaining: 17.6s\n",
      "40:\tlearn: 0.7993932\ttest: 0.8031854\tbest: 0.8043231 (8)\ttotal: 1.63s\tremaining: 18.2s\n",
      "41:\tlearn: 0.7993932\ttest: 0.8031854\tbest: 0.8043231 (8)\ttotal: 1.71s\tremaining: 18.7s\n",
      "42:\tlearn: 0.8001517\ttest: 0.8043231\tbest: 0.8043231 (8)\ttotal: 1.79s\tremaining: 19s\n",
      "43:\tlearn: 0.8001517\ttest: 0.8037543\tbest: 0.8043231 (8)\ttotal: 1.82s\tremaining: 18.9s\n",
      "44:\tlearn: 0.8007205\ttest: 0.8037543\tbest: 0.8043231 (8)\ttotal: 1.89s\tremaining: 19.1s\n",
      "45:\tlearn: 0.8007205\ttest: 0.8048919\tbest: 0.8048919 (45)\ttotal: 1.91s\tremaining: 18.9s\n",
      "46:\tlearn: 0.8014790\ttest: 0.8043231\tbest: 0.8048919 (45)\ttotal: 1.98s\tremaining: 19s\n",
      "47:\tlearn: 0.8012893\ttest: 0.8043231\tbest: 0.8048919 (45)\ttotal: 2.02s\tremaining: 19s\n",
      "48:\tlearn: 0.8014790\ttest: 0.8043231\tbest: 0.8048919 (45)\ttotal: 2.06s\tremaining: 19s\n",
      "49:\tlearn: 0.8033750\ttest: 0.8065984\tbest: 0.8065984 (49)\ttotal: 2.13s\tremaining: 19.2s\n",
      "50:\tlearn: 0.8047023\ttest: 0.8060296\tbest: 0.8065984 (49)\ttotal: 2.21s\tremaining: 19.5s\n",
      "51:\tlearn: 0.8050815\ttest: 0.8060296\tbest: 0.8065984 (49)\ttotal: 2.3s\tremaining: 19.8s\n",
      "52:\tlearn: 0.8043231\ttest: 0.8060296\tbest: 0.8065984 (49)\ttotal: 2.36s\tremaining: 19.9s\n",
      "53:\tlearn: 0.8048919\ttest: 0.8037543\tbest: 0.8065984 (49)\ttotal: 2.43s\tremaining: 20.1s\n",
      "54:\tlearn: 0.8050815\ttest: 0.8026166\tbest: 0.8065984 (49)\ttotal: 2.48s\tremaining: 20.1s\n",
      "55:\tlearn: 0.8062192\ttest: 0.8031854\tbest: 0.8065984 (49)\ttotal: 2.57s\tremaining: 20.4s\n",
      "56:\tlearn: 0.8062192\ttest: 0.8026166\tbest: 0.8065984 (49)\ttotal: 2.66s\tremaining: 20.7s\n",
      "57:\tlearn: 0.8069776\ttest: 0.8026166\tbest: 0.8065984 (49)\ttotal: 2.73s\tremaining: 20.8s\n",
      "58:\tlearn: 0.8067880\ttest: 0.8026166\tbest: 0.8065984 (49)\ttotal: 2.74s\tremaining: 20.5s\n",
      "59:\tlearn: 0.8071672\ttest: 0.8026166\tbest: 0.8065984 (49)\ttotal: 2.81s\tremaining: 20.6s\n",
      "60:\tlearn: 0.8073568\ttest: 0.8026166\tbest: 0.8065984 (49)\ttotal: 2.84s\tremaining: 20.5s\n",
      "61:\tlearn: 0.8086841\ttest: 0.8026166\tbest: 0.8065984 (49)\ttotal: 2.85s\tremaining: 20.1s\n",
      "62:\tlearn: 0.8084945\ttest: 0.8026166\tbest: 0.8065984 (49)\ttotal: 2.87s\tremaining: 19.9s\n",
      "63:\tlearn: 0.8077361\ttest: 0.8020478\tbest: 0.8065984 (49)\ttotal: 2.88s\tremaining: 19.7s\n",
      "64:\tlearn: 0.8086841\ttest: 0.8031854\tbest: 0.8065984 (49)\ttotal: 2.95s\tremaining: 19.7s\n",
      "65:\tlearn: 0.8096322\ttest: 0.8037543\tbest: 0.8065984 (49)\ttotal: 3.01s\tremaining: 19.8s\n",
      "66:\tlearn: 0.8100114\ttest: 0.8048919\tbest: 0.8065984 (49)\ttotal: 3.11s\tremaining: 20.1s\n",
      "67:\tlearn: 0.8109594\ttest: 0.8043231\tbest: 0.8065984 (49)\ttotal: 3.18s\tremaining: 20.2s\n",
      "68:\tlearn: 0.8105802\ttest: 0.8054608\tbest: 0.8065984 (49)\ttotal: 3.25s\tremaining: 20.3s\n",
      "69:\tlearn: 0.8105802\ttest: 0.8043231\tbest: 0.8065984 (49)\ttotal: 3.25s\tremaining: 20s\n",
      "70:\tlearn: 0.8113386\ttest: 0.8037543\tbest: 0.8065984 (49)\ttotal: 3.28s\tremaining: 19.8s\n",
      "71:\tlearn: 0.8103906\ttest: 0.8026166\tbest: 0.8065984 (49)\ttotal: 3.3s\tremaining: 19.6s\n",
      "72:\tlearn: 0.8111490\ttest: 0.8037543\tbest: 0.8065984 (49)\ttotal: 3.35s\tremaining: 19.6s\n",
      "73:\tlearn: 0.8107698\ttest: 0.8043231\tbest: 0.8065984 (49)\ttotal: 3.38s\tremaining: 19.4s\n",
      "74:\tlearn: 0.8103906\ttest: 0.8037543\tbest: 0.8065984 (49)\ttotal: 3.43s\tremaining: 19.4s\n",
      "75:\tlearn: 0.8107698\ttest: 0.8043231\tbest: 0.8065984 (49)\ttotal: 3.47s\tremaining: 19.3s\n",
      "76:\tlearn: 0.8105802\ttest: 0.8060296\tbest: 0.8065984 (49)\ttotal: 3.51s\tremaining: 19.3s\n",
      "77:\tlearn: 0.8103906\ttest: 0.8071672\tbest: 0.8071672 (77)\ttotal: 3.56s\tremaining: 19.2s\n",
      "78:\tlearn: 0.8111490\ttest: 0.8077361\tbest: 0.8077361 (78)\ttotal: 3.62s\tremaining: 19.3s\n",
      "79:\tlearn: 0.8117179\ttest: 0.8088737\tbest: 0.8088737 (79)\ttotal: 3.67s\tremaining: 19.3s\n",
      "80:\tlearn: 0.8115283\ttest: 0.8083049\tbest: 0.8088737 (79)\ttotal: 3.73s\tremaining: 19.3s\n",
      "81:\tlearn: 0.8111490\ttest: 0.8083049\tbest: 0.8088737 (79)\ttotal: 3.73s\tremaining: 19s\n",
      "82:\tlearn: 0.8128555\ttest: 0.8077361\tbest: 0.8088737 (79)\ttotal: 3.78s\tremaining: 19s\n",
      "83:\tlearn: 0.8136140\ttest: 0.8065984\tbest: 0.8088737 (79)\ttotal: 3.85s\tremaining: 19.1s\n",
      "84:\tlearn: 0.8139932\ttest: 0.8065984\tbest: 0.8088737 (79)\ttotal: 3.91s\tremaining: 19.1s\n",
      "85:\tlearn: 0.8139932\ttest: 0.8077361\tbest: 0.8088737 (79)\ttotal: 3.98s\tremaining: 19.2s\n",
      "86:\tlearn: 0.8136140\ttest: 0.8071672\tbest: 0.8088737 (79)\ttotal: 4.02s\tremaining: 19.1s\n",
      "87:\tlearn: 0.8138036\ttest: 0.8065984\tbest: 0.8088737 (79)\ttotal: 4.09s\tremaining: 19.1s\n",
      "88:\tlearn: 0.8139932\ttest: 0.8060296\tbest: 0.8088737 (79)\ttotal: 4.13s\tremaining: 19.1s\n",
      "89:\tlearn: 0.8139932\ttest: 0.8065984\tbest: 0.8088737 (79)\ttotal: 4.19s\tremaining: 19.1s\n",
      "90:\tlearn: 0.8134243\ttest: 0.8065984\tbest: 0.8088737 (79)\ttotal: 4.23s\tremaining: 19s\n",
      "91:\tlearn: 0.8128555\ttest: 0.8065984\tbest: 0.8088737 (79)\ttotal: 4.29s\tremaining: 19s\n",
      "92:\tlearn: 0.8128555\ttest: 0.8065984\tbest: 0.8088737 (79)\ttotal: 4.31s\tremaining: 18.9s\n",
      "93:\tlearn: 0.8132347\ttest: 0.8065984\tbest: 0.8088737 (79)\ttotal: 4.33s\tremaining: 18.7s\n",
      "94:\tlearn: 0.8130451\ttest: 0.8065984\tbest: 0.8088737 (79)\ttotal: 4.38s\tremaining: 18.7s\n",
      "95:\tlearn: 0.8124763\ttest: 0.8065984\tbest: 0.8088737 (79)\ttotal: 4.42s\tremaining: 18.6s\n",
      "96:\tlearn: 0.8128555\ttest: 0.8071672\tbest: 0.8088737 (79)\ttotal: 4.43s\tremaining: 18.4s\n",
      "97:\tlearn: 0.8122867\ttest: 0.8065984\tbest: 0.8088737 (79)\ttotal: 4.48s\tremaining: 18.4s\n"
     ]
    },
    {
     "name": "stdout",
     "output_type": "stream",
     "text": [
      "98:\tlearn: 0.8122867\ttest: 0.8083049\tbest: 0.8088737 (79)\ttotal: 4.56s\tremaining: 18.5s\n",
      "99:\tlearn: 0.8122867\ttest: 0.8083049\tbest: 0.8088737 (79)\ttotal: 4.57s\tremaining: 18.3s\n",
      "100:\tlearn: 0.8122867\ttest: 0.8060296\tbest: 0.8088737 (79)\ttotal: 4.62s\tremaining: 18.3s\n",
      "101:\tlearn: 0.8124763\ttest: 0.8065984\tbest: 0.8088737 (79)\ttotal: 4.66s\tremaining: 18.2s\n",
      "102:\tlearn: 0.8130451\ttest: 0.8054608\tbest: 0.8088737 (79)\ttotal: 4.69s\tremaining: 18.1s\n",
      "103:\tlearn: 0.8128555\ttest: 0.8054608\tbest: 0.8088737 (79)\ttotal: 4.69s\tremaining: 17.9s\n",
      "104:\tlearn: 0.8130451\ttest: 0.8060296\tbest: 0.8088737 (79)\ttotal: 4.74s\tremaining: 17.8s\n",
      "105:\tlearn: 0.8126659\ttest: 0.8071672\tbest: 0.8088737 (79)\ttotal: 4.8s\tremaining: 17.8s\n",
      "106:\tlearn: 0.8122867\ttest: 0.8077361\tbest: 0.8088737 (79)\ttotal: 4.86s\tremaining: 17.9s\n",
      "107:\tlearn: 0.8122867\ttest: 0.8071672\tbest: 0.8088737 (79)\ttotal: 4.92s\tremaining: 17.9s\n",
      "108:\tlearn: 0.8122867\ttest: 0.8077361\tbest: 0.8088737 (79)\ttotal: 4.98s\tremaining: 17.9s\n",
      "109:\tlearn: 0.8124763\ttest: 0.8071672\tbest: 0.8088737 (79)\ttotal: 5.01s\tremaining: 17.7s\n",
      "110:\tlearn: 0.8128555\ttest: 0.8071672\tbest: 0.8088737 (79)\ttotal: 5.07s\tremaining: 17.8s\n",
      "111:\tlearn: 0.8130451\ttest: 0.8071672\tbest: 0.8088737 (79)\ttotal: 5.1s\tremaining: 17.7s\n",
      "112:\tlearn: 0.8122867\ttest: 0.8077361\tbest: 0.8088737 (79)\ttotal: 5.16s\tremaining: 17.7s\n",
      "113:\tlearn: 0.8126659\ttest: 0.8071672\tbest: 0.8088737 (79)\ttotal: 5.23s\tremaining: 17.7s\n",
      "114:\tlearn: 0.8128555\ttest: 0.8077361\tbest: 0.8088737 (79)\ttotal: 5.24s\tremaining: 17.6s\n",
      "115:\tlearn: 0.8130451\ttest: 0.8077361\tbest: 0.8088737 (79)\ttotal: 5.25s\tremaining: 17.4s\n",
      "116:\tlearn: 0.8132347\ttest: 0.8077361\tbest: 0.8088737 (79)\ttotal: 5.3s\tremaining: 17.4s\n",
      "117:\tlearn: 0.8134243\ttest: 0.8077361\tbest: 0.8088737 (79)\ttotal: 5.36s\tremaining: 17.4s\n",
      "118:\tlearn: 0.8134243\ttest: 0.8077361\tbest: 0.8088737 (79)\ttotal: 5.4s\tremaining: 17.3s\n",
      "119:\tlearn: 0.8139932\ttest: 0.8083049\tbest: 0.8088737 (79)\ttotal: 5.47s\tremaining: 17.3s\n",
      "120:\tlearn: 0.8141828\ttest: 0.8088737\tbest: 0.8088737 (79)\ttotal: 5.53s\tremaining: 17.3s\n",
      "121:\tlearn: 0.8139932\ttest: 0.8083049\tbest: 0.8088737 (79)\ttotal: 5.58s\tremaining: 17.3s\n",
      "122:\tlearn: 0.8141828\ttest: 0.8083049\tbest: 0.8088737 (79)\ttotal: 5.61s\tremaining: 17.2s\n",
      "123:\tlearn: 0.8143724\ttest: 0.8083049\tbest: 0.8088737 (79)\ttotal: 5.69s\tremaining: 17.3s\n",
      "124:\tlearn: 0.8147516\ttest: 0.8077361\tbest: 0.8088737 (79)\ttotal: 5.73s\tremaining: 17.2s\n",
      "125:\tlearn: 0.8149412\ttest: 0.8083049\tbest: 0.8088737 (79)\ttotal: 5.78s\tremaining: 17.1s\n",
      "126:\tlearn: 0.8158893\ttest: 0.8083049\tbest: 0.8088737 (79)\ttotal: 5.85s\tremaining: 17.2s\n",
      "127:\tlearn: 0.8160789\ttest: 0.8083049\tbest: 0.8088737 (79)\ttotal: 5.92s\tremaining: 17.2s\n",
      "128:\tlearn: 0.8158893\ttest: 0.8083049\tbest: 0.8088737 (79)\ttotal: 5.98s\tremaining: 17.2s\n",
      "129:\tlearn: 0.8160789\ttest: 0.8083049\tbest: 0.8088737 (79)\ttotal: 6.04s\tremaining: 17.2s\n",
      "130:\tlearn: 0.8162685\ttest: 0.8083049\tbest: 0.8088737 (79)\ttotal: 6.08s\tremaining: 17.1s\n",
      "131:\tlearn: 0.8166477\ttest: 0.8083049\tbest: 0.8088737 (79)\ttotal: 6.14s\tremaining: 17.1s\n",
      "132:\tlearn: 0.8166477\ttest: 0.8088737\tbest: 0.8088737 (79)\ttotal: 6.23s\tremaining: 17.2s\n",
      "133:\tlearn: 0.8168373\ttest: 0.8088737\tbest: 0.8088737 (79)\ttotal: 6.3s\tremaining: 17.2s\n",
      "134:\tlearn: 0.8168373\ttest: 0.8083049\tbest: 0.8088737 (79)\ttotal: 6.32s\tremaining: 17.1s\n",
      "135:\tlearn: 0.8166477\ttest: 0.8083049\tbest: 0.8088737 (79)\ttotal: 6.33s\tremaining: 17s\n",
      "136:\tlearn: 0.8164581\ttest: 0.8083049\tbest: 0.8088737 (79)\ttotal: 6.36s\tremaining: 16.9s\n",
      "137:\tlearn: 0.8166477\ttest: 0.8088737\tbest: 0.8088737 (79)\ttotal: 6.47s\tremaining: 17s\n",
      "138:\tlearn: 0.8172165\ttest: 0.8083049\tbest: 0.8088737 (79)\ttotal: 6.54s\tremaining: 17s\n",
      "139:\tlearn: 0.8170269\ttest: 0.8083049\tbest: 0.8088737 (79)\ttotal: 6.61s\tremaining: 17s\n",
      "140:\tlearn: 0.8162685\ttest: 0.8094425\tbest: 0.8094425 (140)\ttotal: 6.7s\tremaining: 17.1s\n",
      "141:\tlearn: 0.8162685\ttest: 0.8094425\tbest: 0.8094425 (140)\ttotal: 6.73s\tremaining: 17s\n",
      "142:\tlearn: 0.8164581\ttest: 0.8094425\tbest: 0.8094425 (140)\ttotal: 6.76s\tremaining: 16.9s\n",
      "143:\tlearn: 0.8170269\ttest: 0.8094425\tbest: 0.8094425 (140)\ttotal: 6.82s\tremaining: 16.9s\n",
      "144:\tlearn: 0.8166477\ttest: 0.8088737\tbest: 0.8094425 (140)\ttotal: 6.93s\tremaining: 17s\n",
      "145:\tlearn: 0.8172165\ttest: 0.8094425\tbest: 0.8094425 (140)\ttotal: 7.02s\tremaining: 17s\n",
      "146:\tlearn: 0.8170269\ttest: 0.8094425\tbest: 0.8094425 (140)\ttotal: 7.12s\tremaining: 17.1s\n",
      "147:\tlearn: 0.8172165\ttest: 0.8088737\tbest: 0.8094425 (140)\ttotal: 7.2s\tremaining: 17.1s\n",
      "148:\tlearn: 0.8170269\ttest: 0.8088737\tbest: 0.8094425 (140)\ttotal: 7.31s\tremaining: 17.2s\n",
      "149:\tlearn: 0.8174061\ttest: 0.8088737\tbest: 0.8094425 (140)\ttotal: 7.38s\tremaining: 17.2s\n",
      "150:\tlearn: 0.8175958\ttest: 0.8088737\tbest: 0.8094425 (140)\ttotal: 7.4s\tremaining: 17.1s\n",
      "151:\tlearn: 0.8175958\ttest: 0.8088737\tbest: 0.8094425 (140)\ttotal: 7.47s\tremaining: 17.1s\n",
      "152:\tlearn: 0.8175958\ttest: 0.8088737\tbest: 0.8094425 (140)\ttotal: 7.53s\tremaining: 17.1s\n",
      "153:\tlearn: 0.8174061\ttest: 0.8088737\tbest: 0.8094425 (140)\ttotal: 7.61s\tremaining: 17.1s\n",
      "154:\tlearn: 0.8175958\ttest: 0.8088737\tbest: 0.8094425 (140)\ttotal: 7.62s\tremaining: 17s\n",
      "155:\tlearn: 0.8174061\ttest: 0.8088737\tbest: 0.8094425 (140)\ttotal: 7.68s\tremaining: 16.9s\n",
      "156:\tlearn: 0.8177854\ttest: 0.8083049\tbest: 0.8094425 (140)\ttotal: 7.75s\tremaining: 16.9s\n",
      "157:\tlearn: 0.8175958\ttest: 0.8083049\tbest: 0.8094425 (140)\ttotal: 7.82s\tremaining: 16.9s\n",
      "158:\tlearn: 0.8181646\ttest: 0.8083049\tbest: 0.8094425 (140)\ttotal: 7.89s\tremaining: 16.9s\n",
      "159:\tlearn: 0.8181646\ttest: 0.8077361\tbest: 0.8094425 (140)\ttotal: 7.98s\tremaining: 17s\n",
      "160:\tlearn: 0.8183542\ttest: 0.8077361\tbest: 0.8094425 (140)\ttotal: 8.05s\tremaining: 17s\n",
      "161:\tlearn: 0.8181646\ttest: 0.8077361\tbest: 0.8094425 (140)\ttotal: 8.08s\tremaining: 16.9s\n",
      "162:\tlearn: 0.8193022\ttest: 0.8077361\tbest: 0.8094425 (140)\ttotal: 8.16s\tremaining: 16.9s\n",
      "163:\tlearn: 0.8191126\ttest: 0.8083049\tbest: 0.8094425 (140)\ttotal: 8.17s\tremaining: 16.7s\n",
      "164:\tlearn: 0.8193022\ttest: 0.8083049\tbest: 0.8094425 (140)\ttotal: 8.22s\tremaining: 16.7s\n",
      "165:\tlearn: 0.8196815\ttest: 0.8077361\tbest: 0.8094425 (140)\ttotal: 8.28s\tremaining: 16.7s\n",
      "166:\tlearn: 0.8196815\ttest: 0.8077361\tbest: 0.8094425 (140)\ttotal: 8.29s\tremaining: 16.5s\n",
      "167:\tlearn: 0.8210087\ttest: 0.8077361\tbest: 0.8094425 (140)\ttotal: 8.35s\tremaining: 16.5s\n",
      "168:\tlearn: 0.8210087\ttest: 0.8077361\tbest: 0.8094425 (140)\ttotal: 8.4s\tremaining: 16.5s\n",
      "169:\tlearn: 0.8208191\ttest: 0.8077361\tbest: 0.8094425 (140)\ttotal: 8.41s\tremaining: 16.3s\n",
      "170:\tlearn: 0.8206295\ttest: 0.8077361\tbest: 0.8094425 (140)\ttotal: 8.47s\tremaining: 16.3s\n",
      "171:\tlearn: 0.8210087\ttest: 0.8083049\tbest: 0.8094425 (140)\ttotal: 8.52s\tremaining: 16.2s\n",
      "172:\tlearn: 0.8215776\ttest: 0.8083049\tbest: 0.8094425 (140)\ttotal: 8.57s\tremaining: 16.2s\n",
      "173:\tlearn: 0.8217672\ttest: 0.8083049\tbest: 0.8094425 (140)\ttotal: 8.63s\tremaining: 16.2s\n",
      "174:\tlearn: 0.8221464\ttest: 0.8083049\tbest: 0.8094425 (140)\ttotal: 8.69s\tremaining: 16.1s\n",
      "175:\tlearn: 0.8221464\ttest: 0.8088737\tbest: 0.8094425 (140)\ttotal: 8.7s\tremaining: 16s\n",
      "176:\tlearn: 0.8225256\ttest: 0.8083049\tbest: 0.8094425 (140)\ttotal: 8.75s\tremaining: 16s\n",
      "177:\tlearn: 0.8225256\ttest: 0.8083049\tbest: 0.8094425 (140)\ttotal: 8.82s\tremaining: 16s\n",
      "178:\tlearn: 0.8219568\ttest: 0.8088737\tbest: 0.8094425 (140)\ttotal: 8.9s\tremaining: 16s\n",
      "179:\tlearn: 0.8223360\ttest: 0.8083049\tbest: 0.8094425 (140)\ttotal: 8.99s\tremaining: 16s\n",
      "180:\tlearn: 0.8225256\ttest: 0.8088737\tbest: 0.8094425 (140)\ttotal: 9.07s\tremaining: 16s\n",
      "181:\tlearn: 0.8219568\ttest: 0.8088737\tbest: 0.8094425 (140)\ttotal: 9.12s\tremaining: 15.9s\n",
      "182:\tlearn: 0.8221464\ttest: 0.8088737\tbest: 0.8094425 (140)\ttotal: 9.17s\tremaining: 15.9s\n",
      "183:\tlearn: 0.8217672\ttest: 0.8088737\tbest: 0.8094425 (140)\ttotal: 9.22s\tremaining: 15.8s\n",
      "184:\tlearn: 0.8223360\ttest: 0.8088737\tbest: 0.8094425 (140)\ttotal: 9.25s\tremaining: 15.8s\n",
      "185:\tlearn: 0.8227152\ttest: 0.8094425\tbest: 0.8094425 (140)\ttotal: 9.29s\tremaining: 15.7s\n",
      "186:\tlearn: 0.8227152\ttest: 0.8094425\tbest: 0.8094425 (140)\ttotal: 9.34s\tremaining: 15.6s\n",
      "187:\tlearn: 0.8227152\ttest: 0.8094425\tbest: 0.8094425 (140)\ttotal: 9.38s\tremaining: 15.6s\n",
      "188:\tlearn: 0.8234736\ttest: 0.8100114\tbest: 0.8100114 (188)\ttotal: 9.44s\tremaining: 15.5s\n",
      "189:\tlearn: 0.8232840\ttest: 0.8094425\tbest: 0.8100114 (188)\ttotal: 9.5s\tremaining: 15.5s\n",
      "190:\tlearn: 0.8232840\ttest: 0.8094425\tbest: 0.8100114 (188)\ttotal: 9.52s\tremaining: 15.4s\n",
      "191:\tlearn: 0.8229048\ttest: 0.8100114\tbest: 0.8100114 (188)\ttotal: 9.56s\tremaining: 15.3s\n",
      "192:\tlearn: 0.8229048\ttest: 0.8100114\tbest: 0.8100114 (188)\ttotal: 9.57s\tremaining: 15.2s\n",
      "193:\tlearn: 0.8230944\ttest: 0.8100114\tbest: 0.8100114 (188)\ttotal: 9.62s\tremaining: 15.2s\n"
     ]
    },
    {
     "name": "stdout",
     "output_type": "stream",
     "text": [
      "194:\tlearn: 0.8229048\ttest: 0.8094425\tbest: 0.8100114 (188)\ttotal: 9.68s\tremaining: 15.1s\n",
      "195:\tlearn: 0.8229048\ttest: 0.8100114\tbest: 0.8100114 (188)\ttotal: 9.73s\tremaining: 15.1s\n",
      "196:\tlearn: 0.8229048\ttest: 0.8100114\tbest: 0.8100114 (188)\ttotal: 9.75s\tremaining: 15s\n",
      "197:\tlearn: 0.8230944\ttest: 0.8105802\tbest: 0.8105802 (197)\ttotal: 9.79s\tremaining: 14.9s\n",
      "198:\tlearn: 0.8232840\ttest: 0.8100114\tbest: 0.8105802 (197)\ttotal: 9.87s\tremaining: 14.9s\n",
      "199:\tlearn: 0.8234736\ttest: 0.8094425\tbest: 0.8105802 (197)\ttotal: 9.95s\tremaining: 14.9s\n",
      "200:\tlearn: 0.8236633\ttest: 0.8083049\tbest: 0.8105802 (197)\ttotal: 10s\tremaining: 14.9s\n",
      "201:\tlearn: 0.8234736\ttest: 0.8088737\tbest: 0.8105802 (197)\ttotal: 10.1s\tremaining: 14.8s\n",
      "202:\tlearn: 0.8236633\ttest: 0.8088737\tbest: 0.8105802 (197)\ttotal: 10.1s\tremaining: 14.8s\n",
      "203:\tlearn: 0.8238529\ttest: 0.8083049\tbest: 0.8105802 (197)\ttotal: 10.2s\tremaining: 14.7s\n",
      "204:\tlearn: 0.8246113\ttest: 0.8077361\tbest: 0.8105802 (197)\ttotal: 10.2s\tremaining: 14.7s\n",
      "205:\tlearn: 0.8244217\ttest: 0.8077361\tbest: 0.8105802 (197)\ttotal: 10.3s\tremaining: 14.7s\n",
      "206:\tlearn: 0.8244217\ttest: 0.8088737\tbest: 0.8105802 (197)\ttotal: 10.4s\tremaining: 14.7s\n",
      "207:\tlearn: 0.8244217\ttest: 0.8088737\tbest: 0.8105802 (197)\ttotal: 10.4s\tremaining: 14.6s\n",
      "208:\tlearn: 0.8253697\ttest: 0.8083049\tbest: 0.8105802 (197)\ttotal: 10.5s\tremaining: 14.6s\n",
      "209:\tlearn: 0.8255593\ttest: 0.8094425\tbest: 0.8105802 (197)\ttotal: 10.5s\tremaining: 14.5s\n",
      "210:\tlearn: 0.8261282\ttest: 0.8077361\tbest: 0.8105802 (197)\ttotal: 10.6s\tremaining: 14.5s\n",
      "211:\tlearn: 0.8259386\ttest: 0.8083049\tbest: 0.8105802 (197)\ttotal: 10.6s\tremaining: 14.4s\n",
      "212:\tlearn: 0.8270762\ttest: 0.8071672\tbest: 0.8105802 (197)\ttotal: 10.7s\tremaining: 14.4s\n",
      "213:\tlearn: 0.8270762\ttest: 0.8083049\tbest: 0.8105802 (197)\ttotal: 10.7s\tremaining: 14.3s\n",
      "214:\tlearn: 0.8270762\ttest: 0.8083049\tbest: 0.8105802 (197)\ttotal: 10.7s\tremaining: 14.2s\n",
      "215:\tlearn: 0.8266970\ttest: 0.8088737\tbest: 0.8105802 (197)\ttotal: 10.7s\tremaining: 14.1s\n",
      "216:\tlearn: 0.8268866\ttest: 0.8083049\tbest: 0.8105802 (197)\ttotal: 10.8s\tremaining: 14.1s\n",
      "217:\tlearn: 0.8268866\ttest: 0.8083049\tbest: 0.8105802 (197)\ttotal: 10.9s\tremaining: 14.1s\n",
      "218:\tlearn: 0.8268866\ttest: 0.8088737\tbest: 0.8105802 (197)\ttotal: 10.9s\tremaining: 14s\n",
      "219:\tlearn: 0.8268866\ttest: 0.8088737\tbest: 0.8105802 (197)\ttotal: 11s\tremaining: 14s\n",
      "220:\tlearn: 0.8268866\ttest: 0.8088737\tbest: 0.8105802 (197)\ttotal: 11s\tremaining: 13.9s\n",
      "221:\tlearn: 0.8268866\ttest: 0.8088737\tbest: 0.8105802 (197)\ttotal: 11s\tremaining: 13.8s\n",
      "222:\tlearn: 0.8270762\ttest: 0.8088737\tbest: 0.8105802 (197)\ttotal: 11.1s\tremaining: 13.8s\n",
      "223:\tlearn: 0.8268866\ttest: 0.8088737\tbest: 0.8105802 (197)\ttotal: 11.1s\tremaining: 13.7s\n",
      "224:\tlearn: 0.8274554\ttest: 0.8088737\tbest: 0.8105802 (197)\ttotal: 11.2s\tremaining: 13.6s\n",
      "225:\tlearn: 0.8270762\ttest: 0.8088737\tbest: 0.8105802 (197)\ttotal: 11.2s\tremaining: 13.6s\n",
      "226:\tlearn: 0.8268866\ttest: 0.8088737\tbest: 0.8105802 (197)\ttotal: 11.3s\tremaining: 13.6s\n",
      "227:\tlearn: 0.8270762\ttest: 0.8094425\tbest: 0.8105802 (197)\ttotal: 11.4s\tremaining: 13.6s\n",
      "228:\tlearn: 0.8270762\ttest: 0.8083049\tbest: 0.8105802 (197)\ttotal: 11.5s\tremaining: 13.6s\n",
      "229:\tlearn: 0.8270762\ttest: 0.8088737\tbest: 0.8105802 (197)\ttotal: 11.5s\tremaining: 13.5s\n",
      "230:\tlearn: 0.8270762\ttest: 0.8094425\tbest: 0.8105802 (197)\ttotal: 11.6s\tremaining: 13.5s\n",
      "231:\tlearn: 0.8274554\ttest: 0.8088737\tbest: 0.8105802 (197)\ttotal: 11.6s\tremaining: 13.4s\n",
      "232:\tlearn: 0.8270762\ttest: 0.8083049\tbest: 0.8105802 (197)\ttotal: 11.7s\tremaining: 13.4s\n",
      "233:\tlearn: 0.8268866\ttest: 0.8083049\tbest: 0.8105802 (197)\ttotal: 11.8s\tremaining: 13.4s\n",
      "234:\tlearn: 0.8272658\ttest: 0.8088737\tbest: 0.8105802 (197)\ttotal: 11.8s\tremaining: 13.4s\n",
      "235:\tlearn: 0.8274554\ttest: 0.8077361\tbest: 0.8105802 (197)\ttotal: 11.9s\tremaining: 13.3s\n",
      "236:\tlearn: 0.8272658\ttest: 0.8077361\tbest: 0.8105802 (197)\ttotal: 11.9s\tremaining: 13.3s\n",
      "237:\tlearn: 0.8274554\ttest: 0.8077361\tbest: 0.8105802 (197)\ttotal: 12s\tremaining: 13.2s\n",
      "238:\tlearn: 0.8274554\ttest: 0.8077361\tbest: 0.8105802 (197)\ttotal: 12.1s\tremaining: 13.2s\n",
      "239:\tlearn: 0.8278347\ttest: 0.8077361\tbest: 0.8105802 (197)\ttotal: 12.1s\tremaining: 13.2s\n",
      "240:\tlearn: 0.8276451\ttest: 0.8088737\tbest: 0.8105802 (197)\ttotal: 12.2s\tremaining: 13.1s\n",
      "241:\tlearn: 0.8276451\ttest: 0.8088737\tbest: 0.8105802 (197)\ttotal: 12.3s\tremaining: 13.1s\n",
      "242:\tlearn: 0.8276451\ttest: 0.8088737\tbest: 0.8105802 (197)\ttotal: 12.3s\tremaining: 13s\n",
      "243:\tlearn: 0.8278347\ttest: 0.8088737\tbest: 0.8105802 (197)\ttotal: 12.4s\tremaining: 13s\n",
      "244:\tlearn: 0.8280243\ttest: 0.8088737\tbest: 0.8105802 (197)\ttotal: 12.4s\tremaining: 12.9s\n",
      "245:\tlearn: 0.8280243\ttest: 0.8088737\tbest: 0.8105802 (197)\ttotal: 12.5s\tremaining: 12.9s\n",
      "246:\tlearn: 0.8280243\ttest: 0.8088737\tbest: 0.8105802 (197)\ttotal: 12.5s\tremaining: 12.8s\n",
      "247:\tlearn: 0.8280243\ttest: 0.8094425\tbest: 0.8105802 (197)\ttotal: 12.6s\tremaining: 12.8s\n",
      "248:\tlearn: 0.8280243\ttest: 0.8088737\tbest: 0.8105802 (197)\ttotal: 12.6s\tremaining: 12.7s\n",
      "249:\tlearn: 0.8282139\ttest: 0.8088737\tbest: 0.8105802 (197)\ttotal: 12.6s\tremaining: 12.6s\n",
      "250:\tlearn: 0.8285931\ttest: 0.8094425\tbest: 0.8105802 (197)\ttotal: 12.7s\tremaining: 12.6s\n",
      "251:\tlearn: 0.8285931\ttest: 0.8094425\tbest: 0.8105802 (197)\ttotal: 12.7s\tremaining: 12.5s\n",
      "252:\tlearn: 0.8287827\ttest: 0.8094425\tbest: 0.8105802 (197)\ttotal: 12.7s\tremaining: 12.4s\n",
      "253:\tlearn: 0.8284035\ttest: 0.8100114\tbest: 0.8105802 (197)\ttotal: 12.8s\tremaining: 12.4s\n",
      "254:\tlearn: 0.8287827\ttest: 0.8100114\tbest: 0.8105802 (197)\ttotal: 12.9s\tremaining: 12.4s\n",
      "255:\tlearn: 0.8287827\ttest: 0.8100114\tbest: 0.8105802 (197)\ttotal: 12.9s\tremaining: 12.3s\n",
      "256:\tlearn: 0.8287827\ttest: 0.8100114\tbest: 0.8105802 (197)\ttotal: 12.9s\tremaining: 12.2s\n",
      "257:\tlearn: 0.8287827\ttest: 0.8100114\tbest: 0.8105802 (197)\ttotal: 13s\tremaining: 12.2s\n",
      "258:\tlearn: 0.8284035\ttest: 0.8111490\tbest: 0.8111490 (258)\ttotal: 13.1s\tremaining: 12.1s\n",
      "259:\tlearn: 0.8287827\ttest: 0.8111490\tbest: 0.8111490 (258)\ttotal: 13.1s\tremaining: 12.1s\n",
      "260:\tlearn: 0.8291619\ttest: 0.8105802\tbest: 0.8111490 (258)\ttotal: 13.2s\tremaining: 12.1s\n",
      "261:\tlearn: 0.8291619\ttest: 0.8111490\tbest: 0.8111490 (258)\ttotal: 13.2s\tremaining: 12s\n",
      "262:\tlearn: 0.8293515\ttest: 0.8105802\tbest: 0.8111490 (258)\ttotal: 13.3s\tremaining: 11.9s\n",
      "263:\tlearn: 0.8293515\ttest: 0.8105802\tbest: 0.8111490 (258)\ttotal: 13.3s\tremaining: 11.9s\n",
      "264:\tlearn: 0.8295411\ttest: 0.8111490\tbest: 0.8111490 (258)\ttotal: 13.3s\tremaining: 11.8s\n",
      "265:\tlearn: 0.8295411\ttest: 0.8111490\tbest: 0.8111490 (258)\ttotal: 13.3s\tremaining: 11.7s\n",
      "266:\tlearn: 0.8295411\ttest: 0.8111490\tbest: 0.8111490 (258)\ttotal: 13.4s\tremaining: 11.7s\n",
      "267:\tlearn: 0.8295411\ttest: 0.8117179\tbest: 0.8117179 (267)\ttotal: 13.4s\tremaining: 11.6s\n",
      "268:\tlearn: 0.8297308\ttest: 0.8117179\tbest: 0.8117179 (267)\ttotal: 13.4s\tremaining: 11.5s\n",
      "269:\tlearn: 0.8297308\ttest: 0.8111490\tbest: 0.8117179 (267)\ttotal: 13.5s\tremaining: 11.5s\n",
      "270:\tlearn: 0.8297308\ttest: 0.8117179\tbest: 0.8117179 (267)\ttotal: 13.5s\tremaining: 11.4s\n",
      "271:\tlearn: 0.8297308\ttest: 0.8117179\tbest: 0.8117179 (267)\ttotal: 13.5s\tremaining: 11.3s\n",
      "272:\tlearn: 0.8295411\ttest: 0.8117179\tbest: 0.8117179 (267)\ttotal: 13.6s\tremaining: 11.3s\n",
      "273:\tlearn: 0.8297308\ttest: 0.8111490\tbest: 0.8117179 (267)\ttotal: 13.7s\tremaining: 11.3s\n",
      "274:\tlearn: 0.8301100\ttest: 0.8111490\tbest: 0.8117179 (267)\ttotal: 13.7s\tremaining: 11.2s\n",
      "275:\tlearn: 0.8301100\ttest: 0.8111490\tbest: 0.8117179 (267)\ttotal: 13.7s\tremaining: 11.2s\n",
      "276:\tlearn: 0.8299204\ttest: 0.8105802\tbest: 0.8117179 (267)\ttotal: 13.8s\tremaining: 11.1s\n",
      "277:\tlearn: 0.8295411\ttest: 0.8111490\tbest: 0.8117179 (267)\ttotal: 13.9s\tremaining: 11.1s\n",
      "278:\tlearn: 0.8295411\ttest: 0.8105802\tbest: 0.8117179 (267)\ttotal: 13.9s\tremaining: 11s\n",
      "279:\tlearn: 0.8306788\ttest: 0.8100114\tbest: 0.8117179 (267)\ttotal: 14s\tremaining: 11s\n",
      "280:\tlearn: 0.8304892\ttest: 0.8100114\tbest: 0.8117179 (267)\ttotal: 14s\tremaining: 10.9s\n",
      "281:\tlearn: 0.8310580\ttest: 0.8100114\tbest: 0.8117179 (267)\ttotal: 14.1s\tremaining: 10.9s\n",
      "282:\tlearn: 0.8312476\ttest: 0.8100114\tbest: 0.8117179 (267)\ttotal: 14.2s\tremaining: 10.9s\n",
      "283:\tlearn: 0.8314372\ttest: 0.8105802\tbest: 0.8117179 (267)\ttotal: 14.2s\tremaining: 10.8s\n",
      "284:\tlearn: 0.8320061\ttest: 0.8105802\tbest: 0.8117179 (267)\ttotal: 14.3s\tremaining: 10.8s\n",
      "285:\tlearn: 0.8321957\ttest: 0.8111490\tbest: 0.8117179 (267)\ttotal: 14.3s\tremaining: 10.7s\n",
      "286:\tlearn: 0.8321957\ttest: 0.8111490\tbest: 0.8117179 (267)\ttotal: 14.3s\tremaining: 10.6s\n",
      "287:\tlearn: 0.8321957\ttest: 0.8111490\tbest: 0.8117179 (267)\ttotal: 14.4s\tremaining: 10.6s\n",
      "288:\tlearn: 0.8329541\ttest: 0.8105802\tbest: 0.8117179 (267)\ttotal: 14.4s\tremaining: 10.5s\n",
      "289:\tlearn: 0.8325749\ttest: 0.8100114\tbest: 0.8117179 (267)\ttotal: 14.4s\tremaining: 10.5s\n",
      "290:\tlearn: 0.8327645\ttest: 0.8094425\tbest: 0.8117179 (267)\ttotal: 14.5s\tremaining: 10.4s\n"
     ]
    },
    {
     "name": "stdout",
     "output_type": "stream",
     "text": [
      "291:\tlearn: 0.8323853\ttest: 0.8100114\tbest: 0.8117179 (267)\ttotal: 14.6s\tremaining: 10.4s\n",
      "292:\tlearn: 0.8327645\ttest: 0.8100114\tbest: 0.8117179 (267)\ttotal: 14.6s\tremaining: 10.3s\n",
      "293:\tlearn: 0.8327645\ttest: 0.8100114\tbest: 0.8117179 (267)\ttotal: 14.6s\tremaining: 10.3s\n",
      "294:\tlearn: 0.8331437\ttest: 0.8100114\tbest: 0.8117179 (267)\ttotal: 14.7s\tremaining: 10.2s\n",
      "295:\tlearn: 0.8340918\ttest: 0.8100114\tbest: 0.8117179 (267)\ttotal: 14.8s\tremaining: 10.2s\n",
      "296:\tlearn: 0.8339022\ttest: 0.8105802\tbest: 0.8117179 (267)\ttotal: 14.8s\tremaining: 10.1s\n",
      "297:\tlearn: 0.8342814\ttest: 0.8105802\tbest: 0.8117179 (267)\ttotal: 14.8s\tremaining: 10.1s\n",
      "298:\tlearn: 0.8342814\ttest: 0.8105802\tbest: 0.8117179 (267)\ttotal: 14.9s\tremaining: 9.98s\n",
      "299:\tlearn: 0.8342814\ttest: 0.8105802\tbest: 0.8117179 (267)\ttotal: 14.9s\tremaining: 9.9s\n",
      "300:\tlearn: 0.8342814\ttest: 0.8105802\tbest: 0.8117179 (267)\ttotal: 14.9s\tremaining: 9.82s\n",
      "301:\tlearn: 0.8340918\ttest: 0.8105802\tbest: 0.8117179 (267)\ttotal: 14.9s\tremaining: 9.74s\n",
      "302:\tlearn: 0.8348502\ttest: 0.8100114\tbest: 0.8117179 (267)\ttotal: 14.9s\tremaining: 9.69s\n",
      "303:\tlearn: 0.8344710\ttest: 0.8100114\tbest: 0.8117179 (267)\ttotal: 15s\tremaining: 9.65s\n",
      "304:\tlearn: 0.8352294\ttest: 0.8094425\tbest: 0.8117179 (267)\ttotal: 15s\tremaining: 9.6s\n",
      "305:\tlearn: 0.8354190\ttest: 0.8094425\tbest: 0.8117179 (267)\ttotal: 15.1s\tremaining: 9.55s\n",
      "306:\tlearn: 0.8352294\ttest: 0.8094425\tbest: 0.8117179 (267)\ttotal: 15.1s\tremaining: 9.52s\n",
      "307:\tlearn: 0.8354190\ttest: 0.8094425\tbest: 0.8117179 (267)\ttotal: 15.1s\tremaining: 9.44s\n",
      "308:\tlearn: 0.8354190\ttest: 0.8094425\tbest: 0.8117179 (267)\ttotal: 15.2s\tremaining: 9.4s\n",
      "309:\tlearn: 0.8356086\ttest: 0.8094425\tbest: 0.8117179 (267)\ttotal: 15.2s\tremaining: 9.33s\n",
      "310:\tlearn: 0.8359879\ttest: 0.8094425\tbest: 0.8117179 (267)\ttotal: 15.3s\tremaining: 9.29s\n",
      "311:\tlearn: 0.8363671\ttest: 0.8094425\tbest: 0.8117179 (267)\ttotal: 15.3s\tremaining: 9.23s\n",
      "312:\tlearn: 0.8363671\ttest: 0.8094425\tbest: 0.8117179 (267)\ttotal: 15.3s\tremaining: 9.15s\n",
      "313:\tlearn: 0.8363671\ttest: 0.8094425\tbest: 0.8117179 (267)\ttotal: 15.4s\tremaining: 9.11s\n",
      "314:\tlearn: 0.8369359\ttest: 0.8094425\tbest: 0.8117179 (267)\ttotal: 15.4s\tremaining: 9.06s\n",
      "315:\tlearn: 0.8373151\ttest: 0.8094425\tbest: 0.8117179 (267)\ttotal: 15.5s\tremaining: 9.03s\n",
      "316:\tlearn: 0.8375047\ttest: 0.8100114\tbest: 0.8117179 (267)\ttotal: 15.6s\tremaining: 8.98s\n",
      "317:\tlearn: 0.8375047\ttest: 0.8100114\tbest: 0.8117179 (267)\ttotal: 15.6s\tremaining: 8.94s\n",
      "318:\tlearn: 0.8376943\ttest: 0.8100114\tbest: 0.8117179 (267)\ttotal: 15.7s\tremaining: 8.89s\n",
      "319:\tlearn: 0.8376943\ttest: 0.8100114\tbest: 0.8117179 (267)\ttotal: 15.7s\tremaining: 8.81s\n",
      "320:\tlearn: 0.8384528\ttest: 0.8100114\tbest: 0.8117179 (267)\ttotal: 15.7s\tremaining: 8.77s\n",
      "321:\tlearn: 0.8380736\ttest: 0.8105802\tbest: 0.8117179 (267)\ttotal: 15.7s\tremaining: 8.7s\n",
      "322:\tlearn: 0.8382632\ttest: 0.8100114\tbest: 0.8117179 (267)\ttotal: 15.8s\tremaining: 8.65s\n",
      "323:\tlearn: 0.8380736\ttest: 0.8100114\tbest: 0.8117179 (267)\ttotal: 15.9s\tremaining: 8.61s\n",
      "324:\tlearn: 0.8380736\ttest: 0.8100114\tbest: 0.8117179 (267)\ttotal: 15.9s\tremaining: 8.55s\n",
      "325:\tlearn: 0.8382632\ttest: 0.8100114\tbest: 0.8117179 (267)\ttotal: 15.9s\tremaining: 8.48s\n",
      "326:\tlearn: 0.8382632\ttest: 0.8100114\tbest: 0.8117179 (267)\ttotal: 15.9s\tremaining: 8.44s\n",
      "327:\tlearn: 0.8384528\ttest: 0.8100114\tbest: 0.8117179 (267)\ttotal: 16s\tremaining: 8.39s\n",
      "328:\tlearn: 0.8384528\ttest: 0.8100114\tbest: 0.8117179 (267)\ttotal: 16s\tremaining: 8.34s\n",
      "329:\tlearn: 0.8384528\ttest: 0.8100114\tbest: 0.8117179 (267)\ttotal: 16.1s\tremaining: 8.28s\n",
      "330:\tlearn: 0.8384528\ttest: 0.8105802\tbest: 0.8117179 (267)\ttotal: 16.1s\tremaining: 8.24s\n",
      "331:\tlearn: 0.8384528\ttest: 0.8100114\tbest: 0.8117179 (267)\ttotal: 16.2s\tremaining: 8.19s\n",
      "332:\tlearn: 0.8384528\ttest: 0.8105802\tbest: 0.8117179 (267)\ttotal: 16.2s\tremaining: 8.14s\n",
      "333:\tlearn: 0.8384528\ttest: 0.8105802\tbest: 0.8117179 (267)\ttotal: 16.3s\tremaining: 8.1s\n",
      "334:\tlearn: 0.8386424\ttest: 0.8105802\tbest: 0.8117179 (267)\ttotal: 16.4s\tremaining: 8.06s\n",
      "335:\tlearn: 0.8388320\ttest: 0.8100114\tbest: 0.8117179 (267)\ttotal: 16.4s\tremaining: 8.02s\n",
      "336:\tlearn: 0.8397801\ttest: 0.8105802\tbest: 0.8117179 (267)\ttotal: 16.5s\tremaining: 7.97s\n",
      "337:\tlearn: 0.8399697\ttest: 0.8105802\tbest: 0.8117179 (267)\ttotal: 16.5s\tremaining: 7.92s\n",
      "338:\tlearn: 0.8397801\ttest: 0.8105802\tbest: 0.8117179 (267)\ttotal: 16.5s\tremaining: 7.86s\n",
      "339:\tlearn: 0.8397801\ttest: 0.8105802\tbest: 0.8117179 (267)\ttotal: 16.6s\tremaining: 7.79s\n",
      "340:\tlearn: 0.8397801\ttest: 0.8105802\tbest: 0.8117179 (267)\ttotal: 16.6s\tremaining: 7.72s\n",
      "341:\tlearn: 0.8397801\ttest: 0.8105802\tbest: 0.8117179 (267)\ttotal: 16.6s\tremaining: 7.66s\n",
      "342:\tlearn: 0.8397801\ttest: 0.8105802\tbest: 0.8117179 (267)\ttotal: 16.6s\tremaining: 7.61s\n",
      "343:\tlearn: 0.8401593\ttest: 0.8105802\tbest: 0.8117179 (267)\ttotal: 16.7s\tremaining: 7.57s\n",
      "344:\tlearn: 0.8401593\ttest: 0.8105802\tbest: 0.8117179 (267)\ttotal: 16.7s\tremaining: 7.5s\n",
      "345:\tlearn: 0.8401593\ttest: 0.8105802\tbest: 0.8117179 (267)\ttotal: 16.8s\tremaining: 7.46s\n",
      "346:\tlearn: 0.8399697\ttest: 0.8105802\tbest: 0.8117179 (267)\ttotal: 16.8s\tremaining: 7.42s\n",
      "347:\tlearn: 0.8397801\ttest: 0.8105802\tbest: 0.8117179 (267)\ttotal: 16.9s\tremaining: 7.37s\n",
      "348:\tlearn: 0.8401593\ttest: 0.8111490\tbest: 0.8117179 (267)\ttotal: 16.9s\tremaining: 7.33s\n",
      "349:\tlearn: 0.8401593\ttest: 0.8100114\tbest: 0.8117179 (267)\ttotal: 17s\tremaining: 7.29s\n",
      "350:\tlearn: 0.8405385\ttest: 0.8105802\tbest: 0.8117179 (267)\ttotal: 17.1s\tremaining: 7.25s\n",
      "351:\tlearn: 0.8405385\ttest: 0.8105802\tbest: 0.8117179 (267)\ttotal: 17.1s\tremaining: 7.18s\n",
      "352:\tlearn: 0.8407281\ttest: 0.8111490\tbest: 0.8117179 (267)\ttotal: 17.1s\tremaining: 7.14s\n",
      "353:\tlearn: 0.8409177\ttest: 0.8117179\tbest: 0.8117179 (267)\ttotal: 17.2s\tremaining: 7.09s\n",
      "354:\tlearn: 0.8409177\ttest: 0.8117179\tbest: 0.8117179 (267)\ttotal: 17.3s\tremaining: 7.05s\n",
      "355:\tlearn: 0.8411073\ttest: 0.8111490\tbest: 0.8117179 (267)\ttotal: 17.3s\tremaining: 7s\n",
      "356:\tlearn: 0.8407281\ttest: 0.8111490\tbest: 0.8117179 (267)\ttotal: 17.4s\tremaining: 6.96s\n",
      "357:\tlearn: 0.8409177\ttest: 0.8111490\tbest: 0.8117179 (267)\ttotal: 17.4s\tremaining: 6.91s\n",
      "358:\tlearn: 0.8411073\ttest: 0.8111490\tbest: 0.8117179 (267)\ttotal: 17.5s\tremaining: 6.87s\n",
      "359:\tlearn: 0.8411073\ttest: 0.8105802\tbest: 0.8117179 (267)\ttotal: 17.5s\tremaining: 6.82s\n",
      "360:\tlearn: 0.8411073\ttest: 0.8105802\tbest: 0.8117179 (267)\ttotal: 17.5s\tremaining: 6.76s\n",
      "361:\tlearn: 0.8411073\ttest: 0.8105802\tbest: 0.8117179 (267)\ttotal: 17.6s\tremaining: 6.69s\n",
      "362:\tlearn: 0.8411073\ttest: 0.8105802\tbest: 0.8117179 (267)\ttotal: 17.6s\tremaining: 6.66s\n",
      "363:\tlearn: 0.8411073\ttest: 0.8105802\tbest: 0.8117179 (267)\ttotal: 17.6s\tremaining: 6.59s\n",
      "364:\tlearn: 0.8416761\ttest: 0.8105802\tbest: 0.8117179 (267)\ttotal: 17.7s\tremaining: 6.55s\n",
      "365:\tlearn: 0.8416761\ttest: 0.8105802\tbest: 0.8117179 (267)\ttotal: 17.7s\tremaining: 6.49s\n",
      "366:\tlearn: 0.8416761\ttest: 0.8105802\tbest: 0.8117179 (267)\ttotal: 17.7s\tremaining: 6.43s\n",
      "367:\tlearn: 0.8416761\ttest: 0.8105802\tbest: 0.8117179 (267)\ttotal: 17.7s\tremaining: 6.36s\n",
      "368:\tlearn: 0.8416761\ttest: 0.8105802\tbest: 0.8117179 (267)\ttotal: 17.8s\tremaining: 6.32s\n",
      "369:\tlearn: 0.8412969\ttest: 0.8105802\tbest: 0.8117179 (267)\ttotal: 17.9s\tremaining: 6.27s\n",
      "370:\tlearn: 0.8412969\ttest: 0.8105802\tbest: 0.8117179 (267)\ttotal: 17.9s\tremaining: 6.23s\n",
      "371:\tlearn: 0.8414865\ttest: 0.8105802\tbest: 0.8117179 (267)\ttotal: 18s\tremaining: 6.18s\n",
      "372:\tlearn: 0.8414865\ttest: 0.8105802\tbest: 0.8117179 (267)\ttotal: 18s\tremaining: 6.14s\n",
      "373:\tlearn: 0.8418658\ttest: 0.8105802\tbest: 0.8117179 (267)\ttotal: 18.1s\tremaining: 6.09s\n",
      "374:\tlearn: 0.8418658\ttest: 0.8105802\tbest: 0.8117179 (267)\ttotal: 18.1s\tremaining: 6.03s\n",
      "375:\tlearn: 0.8418658\ttest: 0.8105802\tbest: 0.8117179 (267)\ttotal: 18.1s\tremaining: 5.98s\n",
      "376:\tlearn: 0.8418658\ttest: 0.8105802\tbest: 0.8117179 (267)\ttotal: 18.2s\tremaining: 5.94s\n",
      "377:\tlearn: 0.8418658\ttest: 0.8105802\tbest: 0.8117179 (267)\ttotal: 18.3s\tremaining: 5.89s\n",
      "378:\tlearn: 0.8418658\ttest: 0.8105802\tbest: 0.8117179 (267)\ttotal: 18.3s\tremaining: 5.84s\n",
      "379:\tlearn: 0.8418658\ttest: 0.8105802\tbest: 0.8117179 (267)\ttotal: 18.3s\tremaining: 5.77s\n",
      "380:\tlearn: 0.8418658\ttest: 0.8105802\tbest: 0.8117179 (267)\ttotal: 18.3s\tremaining: 5.72s\n",
      "381:\tlearn: 0.8418658\ttest: 0.8105802\tbest: 0.8117179 (267)\ttotal: 18.4s\tremaining: 5.68s\n",
      "382:\tlearn: 0.8418658\ttest: 0.8105802\tbest: 0.8117179 (267)\ttotal: 18.4s\tremaining: 5.62s\n",
      "383:\tlearn: 0.8422450\ttest: 0.8100114\tbest: 0.8117179 (267)\ttotal: 18.5s\tremaining: 5.57s\n",
      "384:\tlearn: 0.8424346\ttest: 0.8100114\tbest: 0.8117179 (267)\ttotal: 18.5s\tremaining: 5.51s\n",
      "385:\tlearn: 0.8424346\ttest: 0.8100114\tbest: 0.8117179 (267)\ttotal: 18.5s\tremaining: 5.45s\n",
      "386:\tlearn: 0.8428138\ttest: 0.8094425\tbest: 0.8117179 (267)\ttotal: 18.5s\tremaining: 5.41s\n"
     ]
    },
    {
     "name": "stdout",
     "output_type": "stream",
     "text": [
      "387:\tlearn: 0.8428138\ttest: 0.8094425\tbest: 0.8117179 (267)\ttotal: 18.5s\tremaining: 5.35s\n",
      "388:\tlearn: 0.8430034\ttest: 0.8094425\tbest: 0.8117179 (267)\ttotal: 18.6s\tremaining: 5.3s\n",
      "389:\tlearn: 0.8430034\ttest: 0.8100114\tbest: 0.8117179 (267)\ttotal: 18.6s\tremaining: 5.24s\n",
      "390:\tlearn: 0.8430034\ttest: 0.8094425\tbest: 0.8117179 (267)\ttotal: 18.6s\tremaining: 5.2s\n",
      "391:\tlearn: 0.8431930\ttest: 0.8094425\tbest: 0.8117179 (267)\ttotal: 18.7s\tremaining: 5.14s\n",
      "392:\tlearn: 0.8428138\ttest: 0.8094425\tbest: 0.8117179 (267)\ttotal: 18.7s\tremaining: 5.1s\n",
      "393:\tlearn: 0.8428138\ttest: 0.8100114\tbest: 0.8117179 (267)\ttotal: 18.8s\tremaining: 5.05s\n",
      "394:\tlearn: 0.8431930\ttest: 0.8100114\tbest: 0.8117179 (267)\ttotal: 18.8s\tremaining: 5.01s\n",
      "395:\tlearn: 0.8431930\ttest: 0.8105802\tbest: 0.8117179 (267)\ttotal: 18.9s\tremaining: 4.96s\n",
      "396:\tlearn: 0.8431930\ttest: 0.8105802\tbest: 0.8117179 (267)\ttotal: 19s\tremaining: 4.92s\n",
      "397:\tlearn: 0.8430034\ttest: 0.8105802\tbest: 0.8117179 (267)\ttotal: 19s\tremaining: 4.88s\n",
      "398:\tlearn: 0.8428138\ttest: 0.8100114\tbest: 0.8117179 (267)\ttotal: 19.1s\tremaining: 4.83s\n",
      "399:\tlearn: 0.8428138\ttest: 0.8100114\tbest: 0.8117179 (267)\ttotal: 19.2s\tremaining: 4.79s\n",
      "400:\tlearn: 0.8430034\ttest: 0.8094425\tbest: 0.8117179 (267)\ttotal: 19.2s\tremaining: 4.75s\n",
      "401:\tlearn: 0.8428138\ttest: 0.8094425\tbest: 0.8117179 (267)\ttotal: 19.2s\tremaining: 4.69s\n",
      "402:\tlearn: 0.8428138\ttest: 0.8100114\tbest: 0.8117179 (267)\ttotal: 19.3s\tremaining: 4.65s\n",
      "403:\tlearn: 0.8428138\ttest: 0.8100114\tbest: 0.8117179 (267)\ttotal: 19.3s\tremaining: 4.59s\n",
      "404:\tlearn: 0.8428138\ttest: 0.8100114\tbest: 0.8117179 (267)\ttotal: 19.4s\tremaining: 4.55s\n",
      "405:\tlearn: 0.8431930\ttest: 0.8094425\tbest: 0.8117179 (267)\ttotal: 19.4s\tremaining: 4.5s\n",
      "406:\tlearn: 0.8431930\ttest: 0.8094425\tbest: 0.8117179 (267)\ttotal: 19.5s\tremaining: 4.45s\n",
      "407:\tlearn: 0.8431930\ttest: 0.8094425\tbest: 0.8117179 (267)\ttotal: 19.5s\tremaining: 4.4s\n",
      "408:\tlearn: 0.8431930\ttest: 0.8094425\tbest: 0.8117179 (267)\ttotal: 19.6s\tremaining: 4.35s\n",
      "409:\tlearn: 0.8437619\ttest: 0.8094425\tbest: 0.8117179 (267)\ttotal: 19.6s\tremaining: 4.31s\n",
      "410:\tlearn: 0.8439515\ttest: 0.8100114\tbest: 0.8117179 (267)\ttotal: 19.7s\tremaining: 4.26s\n",
      "411:\tlearn: 0.8435722\ttest: 0.8100114\tbest: 0.8117179 (267)\ttotal: 19.8s\tremaining: 4.22s\n",
      "412:\tlearn: 0.8435722\ttest: 0.8100114\tbest: 0.8117179 (267)\ttotal: 19.8s\tremaining: 4.17s\n",
      "413:\tlearn: 0.8439515\ttest: 0.8100114\tbest: 0.8117179 (267)\ttotal: 19.8s\tremaining: 4.12s\n",
      "414:\tlearn: 0.8439515\ttest: 0.8100114\tbest: 0.8117179 (267)\ttotal: 19.8s\tremaining: 4.06s\n",
      "415:\tlearn: 0.8443307\ttest: 0.8100114\tbest: 0.8117179 (267)\ttotal: 19.9s\tremaining: 4.02s\n",
      "416:\tlearn: 0.8437619\ttest: 0.8100114\tbest: 0.8117179 (267)\ttotal: 19.9s\tremaining: 3.97s\n",
      "417:\tlearn: 0.8441411\ttest: 0.8105802\tbest: 0.8117179 (267)\ttotal: 20s\tremaining: 3.92s\n",
      "418:\tlearn: 0.8441411\ttest: 0.8105802\tbest: 0.8117179 (267)\ttotal: 20s\tremaining: 3.87s\n",
      "419:\tlearn: 0.8450891\ttest: 0.8100114\tbest: 0.8117179 (267)\ttotal: 20.1s\tremaining: 3.82s\n",
      "420:\tlearn: 0.8448995\ttest: 0.8100114\tbest: 0.8117179 (267)\ttotal: 20.1s\tremaining: 3.77s\n",
      "421:\tlearn: 0.8447099\ttest: 0.8100114\tbest: 0.8117179 (267)\ttotal: 20.1s\tremaining: 3.72s\n",
      "422:\tlearn: 0.8450891\ttest: 0.8100114\tbest: 0.8117179 (267)\ttotal: 20.2s\tremaining: 3.67s\n",
      "423:\tlearn: 0.8450891\ttest: 0.8094425\tbest: 0.8117179 (267)\ttotal: 20.3s\tremaining: 3.63s\n",
      "424:\tlearn: 0.8448995\ttest: 0.8094425\tbest: 0.8117179 (267)\ttotal: 20.3s\tremaining: 3.59s\n",
      "425:\tlearn: 0.8448995\ttest: 0.8094425\tbest: 0.8117179 (267)\ttotal: 20.3s\tremaining: 3.53s\n",
      "426:\tlearn: 0.8450891\ttest: 0.8094425\tbest: 0.8117179 (267)\ttotal: 20.4s\tremaining: 3.48s\n",
      "427:\tlearn: 0.8450891\ttest: 0.8094425\tbest: 0.8117179 (267)\ttotal: 20.4s\tremaining: 3.43s\n",
      "428:\tlearn: 0.8450891\ttest: 0.8094425\tbest: 0.8117179 (267)\ttotal: 20.4s\tremaining: 3.38s\n",
      "429:\tlearn: 0.8452787\ttest: 0.8100114\tbest: 0.8117179 (267)\ttotal: 20.5s\tremaining: 3.34s\n",
      "430:\tlearn: 0.8452787\ttest: 0.8100114\tbest: 0.8117179 (267)\ttotal: 20.6s\tremaining: 3.29s\n",
      "431:\tlearn: 0.8452787\ttest: 0.8100114\tbest: 0.8117179 (267)\ttotal: 20.6s\tremaining: 3.24s\n",
      "432:\tlearn: 0.8454683\ttest: 0.8100114\tbest: 0.8117179 (267)\ttotal: 20.6s\tremaining: 3.19s\n",
      "433:\tlearn: 0.8454683\ttest: 0.8100114\tbest: 0.8117179 (267)\ttotal: 20.6s\tremaining: 3.14s\n",
      "434:\tlearn: 0.8456579\ttest: 0.8094425\tbest: 0.8117179 (267)\ttotal: 20.7s\tremaining: 3.09s\n",
      "435:\tlearn: 0.8456579\ttest: 0.8094425\tbest: 0.8117179 (267)\ttotal: 20.7s\tremaining: 3.04s\n",
      "436:\tlearn: 0.8456579\ttest: 0.8094425\tbest: 0.8117179 (267)\ttotal: 20.7s\tremaining: 2.98s\n",
      "437:\tlearn: 0.8458476\ttest: 0.8100114\tbest: 0.8117179 (267)\ttotal: 20.8s\tremaining: 2.94s\n",
      "438:\tlearn: 0.8456579\ttest: 0.8100114\tbest: 0.8117179 (267)\ttotal: 20.8s\tremaining: 2.89s\n",
      "439:\tlearn: 0.8456579\ttest: 0.8100114\tbest: 0.8117179 (267)\ttotal: 20.8s\tremaining: 2.83s\n",
      "440:\tlearn: 0.8458476\ttest: 0.8094425\tbest: 0.8117179 (267)\ttotal: 20.8s\tremaining: 2.79s\n",
      "441:\tlearn: 0.8460372\ttest: 0.8094425\tbest: 0.8117179 (267)\ttotal: 20.9s\tremaining: 2.74s\n",
      "442:\tlearn: 0.8456579\ttest: 0.8094425\tbest: 0.8117179 (267)\ttotal: 21s\tremaining: 2.7s\n",
      "443:\tlearn: 0.8452787\ttest: 0.8094425\tbest: 0.8117179 (267)\ttotal: 21s\tremaining: 2.65s\n",
      "444:\tlearn: 0.8454683\ttest: 0.8094425\tbest: 0.8117179 (267)\ttotal: 21.1s\tremaining: 2.6s\n",
      "445:\tlearn: 0.8458476\ttest: 0.8094425\tbest: 0.8117179 (267)\ttotal: 21.1s\tremaining: 2.56s\n",
      "446:\tlearn: 0.8458476\ttest: 0.8094425\tbest: 0.8117179 (267)\ttotal: 21.2s\tremaining: 2.51s\n",
      "447:\tlearn: 0.8458476\ttest: 0.8094425\tbest: 0.8117179 (267)\ttotal: 21.2s\tremaining: 2.46s\n",
      "448:\tlearn: 0.8462268\ttest: 0.8088737\tbest: 0.8117179 (267)\ttotal: 21.3s\tremaining: 2.42s\n",
      "449:\tlearn: 0.8462268\ttest: 0.8088737\tbest: 0.8117179 (267)\ttotal: 21.3s\tremaining: 2.37s\n",
      "450:\tlearn: 0.8462268\ttest: 0.8088737\tbest: 0.8117179 (267)\ttotal: 21.4s\tremaining: 2.32s\n",
      "451:\tlearn: 0.8466060\ttest: 0.8088737\tbest: 0.8117179 (267)\ttotal: 21.4s\tremaining: 2.27s\n",
      "452:\tlearn: 0.8467956\ttest: 0.8094425\tbest: 0.8117179 (267)\ttotal: 21.5s\tremaining: 2.23s\n",
      "453:\tlearn: 0.8469852\ttest: 0.8094425\tbest: 0.8117179 (267)\ttotal: 21.5s\tremaining: 2.18s\n",
      "454:\tlearn: 0.8471748\ttest: 0.8094425\tbest: 0.8117179 (267)\ttotal: 21.6s\tremaining: 2.14s\n",
      "455:\tlearn: 0.8473644\ttest: 0.8088737\tbest: 0.8117179 (267)\ttotal: 21.7s\tremaining: 2.09s\n",
      "456:\tlearn: 0.8471748\ttest: 0.8088737\tbest: 0.8117179 (267)\ttotal: 21.7s\tremaining: 2.04s\n",
      "457:\tlearn: 0.8471748\ttest: 0.8100114\tbest: 0.8117179 (267)\ttotal: 21.8s\tremaining: 2s\n",
      "458:\tlearn: 0.8473644\ttest: 0.8100114\tbest: 0.8117179 (267)\ttotal: 21.8s\tremaining: 1.95s\n",
      "459:\tlearn: 0.8473644\ttest: 0.8100114\tbest: 0.8117179 (267)\ttotal: 21.8s\tremaining: 1.9s\n",
      "460:\tlearn: 0.8473644\ttest: 0.8100114\tbest: 0.8117179 (267)\ttotal: 21.9s\tremaining: 1.85s\n",
      "461:\tlearn: 0.8477436\ttest: 0.8100114\tbest: 0.8117179 (267)\ttotal: 22s\tremaining: 1.81s\n",
      "462:\tlearn: 0.8477436\ttest: 0.8100114\tbest: 0.8117179 (267)\ttotal: 22s\tremaining: 1.76s\n",
      "463:\tlearn: 0.8475540\ttest: 0.8100114\tbest: 0.8117179 (267)\ttotal: 22.1s\tremaining: 1.71s\n",
      "464:\tlearn: 0.8473644\ttest: 0.8100114\tbest: 0.8117179 (267)\ttotal: 22.1s\tremaining: 1.66s\n",
      "465:\tlearn: 0.8471748\ttest: 0.8100114\tbest: 0.8117179 (267)\ttotal: 22.2s\tremaining: 1.62s\n",
      "466:\tlearn: 0.8475540\ttest: 0.8100114\tbest: 0.8117179 (267)\ttotal: 22.3s\tremaining: 1.57s\n",
      "467:\tlearn: 0.8477436\ttest: 0.8100114\tbest: 0.8117179 (267)\ttotal: 22.3s\tremaining: 1.52s\n",
      "468:\tlearn: 0.8477436\ttest: 0.8100114\tbest: 0.8117179 (267)\ttotal: 22.4s\tremaining: 1.48s\n",
      "469:\tlearn: 0.8477436\ttest: 0.8094425\tbest: 0.8117179 (267)\ttotal: 22.4s\tremaining: 1.43s\n",
      "470:\tlearn: 0.8481229\ttest: 0.8100114\tbest: 0.8117179 (267)\ttotal: 22.5s\tremaining: 1.38s\n",
      "471:\tlearn: 0.8485021\ttest: 0.8100114\tbest: 0.8117179 (267)\ttotal: 22.5s\tremaining: 1.34s\n",
      "472:\tlearn: 0.8488813\ttest: 0.8100114\tbest: 0.8117179 (267)\ttotal: 22.6s\tremaining: 1.29s\n",
      "473:\tlearn: 0.8488813\ttest: 0.8100114\tbest: 0.8117179 (267)\ttotal: 22.6s\tremaining: 1.24s\n",
      "474:\tlearn: 0.8488813\ttest: 0.8100114\tbest: 0.8117179 (267)\ttotal: 22.6s\tremaining: 1.19s\n",
      "475:\tlearn: 0.8488813\ttest: 0.8100114\tbest: 0.8117179 (267)\ttotal: 22.7s\tremaining: 1.15s\n",
      "476:\tlearn: 0.8488813\ttest: 0.8094425\tbest: 0.8117179 (267)\ttotal: 22.8s\tremaining: 1.1s\n",
      "477:\tlearn: 0.8483125\ttest: 0.8094425\tbest: 0.8117179 (267)\ttotal: 22.9s\tremaining: 1.05s\n",
      "478:\tlearn: 0.8483125\ttest: 0.8094425\tbest: 0.8117179 (267)\ttotal: 22.9s\tremaining: 1s\n"
     ]
    },
    {
     "name": "stdout",
     "output_type": "stream",
     "text": [
      "479:\tlearn: 0.8492605\ttest: 0.8088737\tbest: 0.8117179 (267)\ttotal: 22.9s\tremaining: 955ms\n",
      "480:\tlearn: 0.8492605\ttest: 0.8088737\tbest: 0.8117179 (267)\ttotal: 22.9s\tremaining: 906ms\n",
      "481:\tlearn: 0.8494501\ttest: 0.8088737\tbest: 0.8117179 (267)\ttotal: 22.9s\tremaining: 857ms\n",
      "482:\tlearn: 0.8498294\ttest: 0.8100114\tbest: 0.8117179 (267)\ttotal: 23s\tremaining: 810ms\n",
      "483:\tlearn: 0.8498294\ttest: 0.8100114\tbest: 0.8117179 (267)\ttotal: 23.1s\tremaining: 763ms\n",
      "484:\tlearn: 0.8498294\ttest: 0.8094425\tbest: 0.8117179 (267)\ttotal: 23.1s\tremaining: 715ms\n",
      "485:\tlearn: 0.8496397\ttest: 0.8088737\tbest: 0.8117179 (267)\ttotal: 23.2s\tremaining: 669ms\n",
      "486:\tlearn: 0.8492605\ttest: 0.8088737\tbest: 0.8117179 (267)\ttotal: 23.3s\tremaining: 622ms\n",
      "487:\tlearn: 0.8496397\ttest: 0.8088737\tbest: 0.8117179 (267)\ttotal: 23.4s\tremaining: 575ms\n",
      "488:\tlearn: 0.8500190\ttest: 0.8088737\tbest: 0.8117179 (267)\ttotal: 23.5s\tremaining: 528ms\n",
      "489:\tlearn: 0.8502086\ttest: 0.8094425\tbest: 0.8117179 (267)\ttotal: 23.6s\tremaining: 481ms\n",
      "490:\tlearn: 0.8503982\ttest: 0.8088737\tbest: 0.8117179 (267)\ttotal: 23.6s\tremaining: 433ms\n",
      "491:\tlearn: 0.8505878\ttest: 0.8094425\tbest: 0.8117179 (267)\ttotal: 23.7s\tremaining: 385ms\n",
      "492:\tlearn: 0.8503982\ttest: 0.8088737\tbest: 0.8117179 (267)\ttotal: 23.8s\tremaining: 337ms\n",
      "493:\tlearn: 0.8503982\ttest: 0.8088737\tbest: 0.8117179 (267)\ttotal: 23.8s\tremaining: 289ms\n",
      "494:\tlearn: 0.8502086\ttest: 0.8088737\tbest: 0.8117179 (267)\ttotal: 23.9s\tremaining: 241ms\n",
      "495:\tlearn: 0.8502086\ttest: 0.8088737\tbest: 0.8117179 (267)\ttotal: 23.9s\tremaining: 193ms\n",
      "496:\tlearn: 0.8503982\ttest: 0.8088737\tbest: 0.8117179 (267)\ttotal: 24s\tremaining: 145ms\n",
      "497:\tlearn: 0.8505878\ttest: 0.8083049\tbest: 0.8117179 (267)\ttotal: 24s\tremaining: 96.6ms\n",
      "498:\tlearn: 0.8503982\ttest: 0.8083049\tbest: 0.8117179 (267)\ttotal: 24.1s\tremaining: 48.2ms\n",
      "499:\tlearn: 0.8502086\ttest: 0.8083049\tbest: 0.8117179 (267)\ttotal: 24.1s\tremaining: 0us\n",
      "\n",
      "bestTest = 0.8117178612\n",
      "bestIteration = 267\n",
      "\n",
      "Shrink model to first 268 iterations.\n"
     ]
    },
    {
     "data": {
      "text/plain": [
       "<catboost.core.CatBoostClassifier at 0x28a3a696948>"
      ]
     },
     "execution_count": 73,
     "metadata": {},
     "output_type": "execute_result"
    }
   ],
   "source": [
    "cbm.fit(X_train,\n",
    "        y_train,\n",
    "        cat_features=cat_att,\n",
    "        eval_set=(X_test, y_test))"
   ]
  },
  {
   "cell_type": "code",
   "execution_count": 74,
   "metadata": {},
   "outputs": [
    {
     "data": {
      "text/plain": [
       "{'learn': {'Accuracy': 0.8505877891543421,\n",
       "  'Logloss': 0.3300755673837881,\n",
       "  'AUC': 0.9205301010219934},\n",
       " 'validation': {'Accuracy': 0.8117178612059158,\n",
       "  'Logloss': 0.41188354709963904,\n",
       "  'AUC': 0.8490105193732346}}"
      ]
     },
     "execution_count": 74,
     "metadata": {},
     "output_type": "execute_result"
    }
   ],
   "source": [
    "cbm.get_best_score()"
   ]
  },
  {
   "cell_type": "code",
   "execution_count": 75,
   "metadata": {},
   "outputs": [
    {
     "name": "stdout",
     "output_type": "stream",
     "text": [
      "Train Acc: 0.819\n",
      "Test Acc: 0.812\n"
     ]
    }
   ],
   "source": [
    "cbm_accuracy_train = cbm.score(X_train, y_train)\n",
    "cbm_accuracy_test = cbm.score(X_test, y_test)\n",
    "print('Train Acc: %.3f' % cbm_accuracy_train)\n",
    "print('Test Acc: %.3f' % cbm_accuracy_test)"
   ]
  },
  {
   "cell_type": "markdown",
   "metadata": {},
   "source": [
    "**Hyperparamter Optimization**\n",
    "\n",
    "We will now implement a function optimizer using Hyperopt aiming at identifying the hyperparamters that yield the lowest **Logloss** and highest **Accuracy**:\n",
    "\n",
    "The template of the optimization function used below was obtained in the following link:\n",
    "\n",
    "https://colab.research.google.com/drive/1Lte4Pb4lw_w7OGp2wqwS5a50ZgBIcW6j#scrollTo=qZJ28r0Bj5fO"
   ]
  },
  {
   "cell_type": "code",
   "execution_count": 76,
   "metadata": {},
   "outputs": [],
   "source": [
    "D_train = pool(X_train, y_train, cat_features=cat_att)\n",
    "D_test = pool(X_test, y_test, cat_features=cat_att)"
   ]
  },
  {
   "cell_type": "code",
   "execution_count": 77,
   "metadata": {},
   "outputs": [
    {
     "name": "stdout",
     "output_type": "stream",
     "text": [
      "                                                      \n",
      "CatBoost objective call #1 cur_best_loss=    inf\n",
      "                                                                                \n",
      "CatBoost objective call #2 cur_best_loss=0.40744\n",
      "                                                                                \n",
      "CatBoost objective call #3 cur_best_loss=0.40744\n",
      "                                                                                \n",
      "CatBoost objective call #4 cur_best_loss=0.40744\n",
      "                                                                                \n",
      "CatBoost objective call #5 cur_best_loss=0.40744\n",
      "                                                                                \n",
      "CatBoost objective call #6 cur_best_loss=0.40744\n",
      "                                                                                \n",
      "CatBoost objective call #7 cur_best_loss=0.40744\n",
      "                                                                                \n",
      "CatBoost objective call #8 cur_best_loss=0.40744\n",
      "                                                                                \n",
      "CatBoost objective call #9 cur_best_loss=0.40744\n",
      "                                                                                \n",
      "CatBoost objective call #10 cur_best_loss=0.40744\n",
      "                                                                                 \n",
      "CatBoost objective call #11 cur_best_loss=0.40744\n",
      "                                                                                 \n",
      "CatBoost objective call #12 cur_best_loss=0.40744\n",
      "                                                                                 \n",
      "CatBoost objective call #13 cur_best_loss=0.40744\n",
      "                                                                                 \n",
      "CatBoost objective call #14 cur_best_loss=0.40744\n",
      "                                                                                 \n",
      "CatBoost objective call #15 cur_best_loss=0.40744\n",
      "100%|██████████| 15/15 [05:46<00:00, 23.12s/trial, best loss: 0.4074358929622229]\n",
      "--------------------------------------------------\n",
      "The best params:\n",
      "{'depth': 6.0, 'l2_leaf_reg': 3.245075257601327, 'learning_rate': 0.06570568502510547, 'one_hot_max_size': 3.0}\n",
      "\n",
      "\n",
      "\n"
     ]
    }
   ],
   "source": [
    "# number of random sampled hyperparameters\n",
    "N_HYPEROPT_PROBES = 15\n",
    "\n",
    "# the sampling aplgorithm \n",
    "HYPEROPT_ALGO = tpe.suggest \n",
    "\n",
    "def get_catboost_params(space):\n",
    "    params = dict()\n",
    "    params['learning_rate'] = space['learning_rate']\n",
    "    params['depth'] = int(space['depth'])\n",
    "    params['l2_leaf_reg'] = space['l2_leaf_reg']\n",
    "    params['one_hot_max_size'] = space['one_hot_max_size']\n",
    "    return params\n",
    "\n",
    "# ---------------------------------------------------------------------\n",
    "\n",
    "obj_call_count = 0\n",
    "cur_best_loss = np.inf\n",
    "log_writer = open( 'catboost-hyperopt-log.txt', 'w' )\n",
    "\n",
    "\n",
    "def objective(space):\n",
    "    global obj_call_count, cur_best_loss\n",
    "\n",
    "    obj_call_count += 1\n",
    "\n",
    "    print('\\nCatBoost objective call #{} cur_best_loss={:7.5f}'.format(obj_call_count,cur_best_loss) )\n",
    "\n",
    "    params = get_catboost_params(space)\n",
    "  \n",
    "    model = CatBoostClassifier(iterations=500, \n",
    "                               learning_rate=params['learning_rate'], \n",
    "                               depth =int(params['depth']), \n",
    "                               eval_metric = \"Accuracy\",\n",
    "                               l2_leaf_reg=params['l2_leaf_reg'],\n",
    "                               bagging_temperature=1,\n",
    "                               one_hot_max_size=params['one_hot_max_size'],\n",
    "                               use_best_model=True)\n",
    "\n",
    "    model.fit(D_train, eval_set=D_test, silent=True)\n",
    "    val_loss = model.best_score_['validation']['Logloss']\n",
    "    \n",
    "    if val_loss<cur_best_loss:\n",
    "      cur_best_loss = val_loss\n",
    "\n",
    "    return{'loss':cur_best_loss, 'status': STATUS_OK}\n",
    "\n",
    "\n",
    "# --------------------------------------------------------------------------------\n",
    "\n",
    "space ={\n",
    "        'depth': hp.quniform(\"depth\", 4, 12, 1),\n",
    "        'learning_rate': hp.loguniform('learning_rate', -3.0, -0.7),\n",
    "        'l2_leaf_reg': hp.uniform('l2_leaf_reg', 1, 10),\n",
    "        'one_hot_max_size': hp.quniform(\"one_hot_max_size\", 0, 15, 1)\n",
    "       }\n",
    "\n",
    "\n",
    "trials = Trials()\n",
    "best = hyperopt.fmin(fn=objective,\n",
    "                     space=space,\n",
    "                     algo=HYPEROPT_ALGO,\n",
    "                     max_evals=N_HYPEROPT_PROBES,\n",
    "                     trials=trials)\n",
    "\n",
    "print('-'*50)\n",
    "print('The best params:')\n",
    "print( best )\n",
    "print('\\n\\n')"
   ]
  },
  {
   "cell_type": "markdown",
   "metadata": {},
   "source": [
    "Let's fit now a CatBoost model with the hyperparameters configuration recommended by Hyperopt:"
   ]
  },
  {
   "cell_type": "code",
   "execution_count": 78,
   "metadata": {},
   "outputs": [],
   "source": [
    "cbm_best = CatBoostClassifier(iterations=500,\n",
    "                              depth=best['depth'],\n",
    "                              learning_rate=best['learning_rate'],\n",
    "                              one_hot_max_size=best['one_hot_max_size'],\n",
    "                              l2_leaf_reg= best['l2_leaf_reg'],\n",
    "                              use_best_model=True,\n",
    "                              loss_function='Logloss',\n",
    "                              custom_metric=['Logloss', 'AUC:hints=skip_train~false'],\n",
    "                              eval_metric='Accuracy',\n",
    "                              random_seed=24,                              \n",
    "                              verbose=True)"
   ]
  },
  {
   "cell_type": "code",
   "execution_count": 79,
   "metadata": {},
   "outputs": [
    {
     "name": "stdout",
     "output_type": "stream",
     "text": [
      "0:\tlearn: 0.7385286\ttest: 0.7303754\tbest: 0.7303754 (0)\ttotal: 23.3ms\tremaining: 11.6s\n",
      "1:\tlearn: 0.7887751\ttest: 0.7997725\tbest: 0.7997725 (1)\ttotal: 59.5ms\tremaining: 14.8s\n",
      "2:\tlearn: 0.7912400\ttest: 0.7992036\tbest: 0.7997725 (1)\ttotal: 85ms\tremaining: 14.1s\n",
      "3:\tlearn: 0.7910504\ttest: 0.8003413\tbest: 0.8003413 (3)\ttotal: 124ms\tremaining: 15.4s\n",
      "4:\tlearn: 0.7912400\ttest: 0.8043231\tbest: 0.8043231 (4)\ttotal: 165ms\tremaining: 16.3s\n",
      "5:\tlearn: 0.7899128\ttest: 0.8065984\tbest: 0.8065984 (5)\ttotal: 206ms\tremaining: 17s\n",
      "6:\tlearn: 0.7933257\ttest: 0.8088737\tbest: 0.8088737 (6)\ttotal: 245ms\tremaining: 17.3s\n",
      "7:\tlearn: 0.7944634\ttest: 0.8071672\tbest: 0.8088737 (6)\ttotal: 276ms\tremaining: 17s\n",
      "8:\tlearn: 0.7931361\ttest: 0.8083049\tbest: 0.8088737 (6)\ttotal: 313ms\tremaining: 17.1s\n",
      "9:\tlearn: 0.7959803\ttest: 0.8094425\tbest: 0.8094425 (9)\ttotal: 358ms\tremaining: 17.5s\n",
      "10:\tlearn: 0.8001517\ttest: 0.8077361\tbest: 0.8094425 (9)\ttotal: 397ms\tremaining: 17.6s\n",
      "11:\tlearn: 0.8009101\ttest: 0.8105802\tbest: 0.8105802 (11)\ttotal: 436ms\tremaining: 17.7s\n",
      "12:\tlearn: 0.8022374\ttest: 0.8100114\tbest: 0.8105802 (11)\ttotal: 473ms\tremaining: 17.7s\n",
      "13:\tlearn: 0.8035647\ttest: 0.8088737\tbest: 0.8105802 (11)\ttotal: 509ms\tremaining: 17.7s\n",
      "14:\tlearn: 0.8048919\ttest: 0.8100114\tbest: 0.8105802 (11)\ttotal: 545ms\tremaining: 17.6s\n",
      "15:\tlearn: 0.8058400\ttest: 0.8122867\tbest: 0.8122867 (15)\ttotal: 570ms\tremaining: 17.2s\n",
      "16:\tlearn: 0.8052711\ttest: 0.8117179\tbest: 0.8122867 (15)\ttotal: 597ms\tremaining: 17s\n",
      "17:\tlearn: 0.8058400\ttest: 0.8100114\tbest: 0.8122867 (15)\ttotal: 636ms\tremaining: 17s\n",
      "18:\tlearn: 0.8060296\ttest: 0.8094425\tbest: 0.8122867 (15)\ttotal: 663ms\tremaining: 16.8s\n",
      "19:\tlearn: 0.8081153\ttest: 0.8105802\tbest: 0.8122867 (15)\ttotal: 700ms\tremaining: 16.8s\n",
      "20:\tlearn: 0.8084945\ttest: 0.8100114\tbest: 0.8122867 (15)\ttotal: 719ms\tremaining: 16.4s\n",
      "21:\tlearn: 0.8071672\ttest: 0.8105802\tbest: 0.8122867 (15)\ttotal: 743ms\tremaining: 16.2s\n",
      "22:\tlearn: 0.8079257\ttest: 0.8117179\tbest: 0.8122867 (15)\ttotal: 782ms\tremaining: 16.2s\n",
      "23:\tlearn: 0.8075465\ttest: 0.8117179\tbest: 0.8122867 (15)\ttotal: 814ms\tremaining: 16.1s\n",
      "24:\tlearn: 0.8073568\ttest: 0.8134243\tbest: 0.8134243 (24)\ttotal: 853ms\tremaining: 16.2s\n",
      "25:\tlearn: 0.8075465\ttest: 0.8117179\tbest: 0.8134243 (24)\ttotal: 875ms\tremaining: 16s\n",
      "26:\tlearn: 0.8073568\ttest: 0.8139932\tbest: 0.8139932 (26)\ttotal: 903ms\tremaining: 15.8s\n",
      "27:\tlearn: 0.8081153\ttest: 0.8117179\tbest: 0.8139932 (26)\ttotal: 933ms\tremaining: 15.7s\n",
      "28:\tlearn: 0.8073568\ttest: 0.8117179\tbest: 0.8139932 (26)\ttotal: 968ms\tremaining: 15.7s\n",
      "29:\tlearn: 0.8083049\ttest: 0.8105802\tbest: 0.8139932 (26)\ttotal: 1s\tremaining: 15.7s\n",
      "30:\tlearn: 0.8071672\ttest: 0.8117179\tbest: 0.8139932 (26)\ttotal: 1.03s\tremaining: 15.6s\n",
      "31:\tlearn: 0.8084945\ttest: 0.8122867\tbest: 0.8139932 (26)\ttotal: 1.05s\tremaining: 15.4s\n",
      "32:\tlearn: 0.8088737\ttest: 0.8122867\tbest: 0.8139932 (26)\ttotal: 1.09s\tremaining: 15.4s\n",
      "33:\tlearn: 0.8109594\ttest: 0.8128555\tbest: 0.8139932 (26)\ttotal: 1.12s\tremaining: 15.4s\n",
      "34:\tlearn: 0.8105802\ttest: 0.8128555\tbest: 0.8139932 (26)\ttotal: 1.14s\tremaining: 15.1s\n",
      "35:\tlearn: 0.8109594\ttest: 0.8134243\tbest: 0.8139932 (26)\ttotal: 1.17s\tremaining: 15s\n",
      "36:\tlearn: 0.8115283\ttest: 0.8139932\tbest: 0.8139932 (26)\ttotal: 1.21s\tremaining: 15.2s\n",
      "37:\tlearn: 0.8128555\ttest: 0.8145620\tbest: 0.8145620 (37)\ttotal: 1.22s\tremaining: 14.8s\n",
      "38:\tlearn: 0.8136140\ttest: 0.8151308\tbest: 0.8151308 (38)\ttotal: 1.25s\tremaining: 14.8s\n",
      "39:\tlearn: 0.8139932\ttest: 0.8156997\tbest: 0.8156997 (39)\ttotal: 1.3s\tremaining: 14.9s\n",
      "40:\tlearn: 0.8139932\ttest: 0.8145620\tbest: 0.8156997 (39)\ttotal: 1.33s\tremaining: 14.9s\n",
      "41:\tlearn: 0.8139932\ttest: 0.8139932\tbest: 0.8156997 (39)\ttotal: 1.37s\tremaining: 15s\n",
      "42:\tlearn: 0.8138036\ttest: 0.8145620\tbest: 0.8156997 (39)\ttotal: 1.42s\tremaining: 15.1s\n",
      "43:\tlearn: 0.8143724\ttest: 0.8139932\tbest: 0.8156997 (39)\ttotal: 1.45s\tremaining: 15.1s\n",
      "44:\tlearn: 0.8136140\ttest: 0.8151308\tbest: 0.8156997 (39)\ttotal: 1.49s\tremaining: 15.1s\n",
      "45:\tlearn: 0.8149412\ttest: 0.8156997\tbest: 0.8156997 (39)\ttotal: 1.52s\tremaining: 15s\n",
      "46:\tlearn: 0.8147516\ttest: 0.8156997\tbest: 0.8156997 (39)\ttotal: 1.55s\tremaining: 14.9s\n",
      "47:\tlearn: 0.8141828\ttest: 0.8134243\tbest: 0.8156997 (39)\ttotal: 1.57s\tremaining: 14.8s\n",
      "48:\tlearn: 0.8153204\ttest: 0.8139932\tbest: 0.8156997 (39)\ttotal: 1.6s\tremaining: 14.7s\n",
      "49:\tlearn: 0.8153204\ttest: 0.8134243\tbest: 0.8156997 (39)\ttotal: 1.62s\tremaining: 14.6s\n",
      "50:\tlearn: 0.8160789\ttest: 0.8122867\tbest: 0.8156997 (39)\ttotal: 1.64s\tremaining: 14.4s\n",
      "51:\tlearn: 0.8155100\ttest: 0.8122867\tbest: 0.8156997 (39)\ttotal: 1.67s\tremaining: 14.4s\n",
      "52:\tlearn: 0.8158893\ttest: 0.8128555\tbest: 0.8156997 (39)\ttotal: 1.7s\tremaining: 14.4s\n",
      "53:\tlearn: 0.8164581\ttest: 0.8128555\tbest: 0.8156997 (39)\ttotal: 1.73s\tremaining: 14.3s\n",
      "54:\tlearn: 0.8168373\ttest: 0.8134243\tbest: 0.8156997 (39)\ttotal: 1.77s\tremaining: 14.3s\n",
      "55:\tlearn: 0.8166477\ttest: 0.8134243\tbest: 0.8156997 (39)\ttotal: 1.81s\tremaining: 14.4s\n",
      "56:\tlearn: 0.8172165\ttest: 0.8134243\tbest: 0.8156997 (39)\ttotal: 1.84s\tremaining: 14.3s\n",
      "57:\tlearn: 0.8174061\ttest: 0.8134243\tbest: 0.8156997 (39)\ttotal: 1.87s\tremaining: 14.3s\n",
      "58:\tlearn: 0.8181646\ttest: 0.8139932\tbest: 0.8156997 (39)\ttotal: 1.91s\tremaining: 14.3s\n",
      "59:\tlearn: 0.8179750\ttest: 0.8134243\tbest: 0.8156997 (39)\ttotal: 1.93s\tremaining: 14.2s\n",
      "60:\tlearn: 0.8181646\ttest: 0.8139932\tbest: 0.8156997 (39)\ttotal: 1.97s\tremaining: 14.1s\n",
      "61:\tlearn: 0.8185438\ttest: 0.8151308\tbest: 0.8156997 (39)\ttotal: 2s\tremaining: 14.1s\n",
      "62:\tlearn: 0.8170269\ttest: 0.8139932\tbest: 0.8156997 (39)\ttotal: 2.02s\tremaining: 14s\n",
      "63:\tlearn: 0.8174061\ttest: 0.8151308\tbest: 0.8156997 (39)\ttotal: 2.05s\tremaining: 13.9s\n",
      "64:\tlearn: 0.8179750\ttest: 0.8139932\tbest: 0.8156997 (39)\ttotal: 2.06s\tremaining: 13.8s\n",
      "65:\tlearn: 0.8183542\ttest: 0.8145620\tbest: 0.8156997 (39)\ttotal: 2.1s\tremaining: 13.8s\n",
      "66:\tlearn: 0.8183542\ttest: 0.8145620\tbest: 0.8156997 (39)\ttotal: 2.11s\tremaining: 13.6s\n",
      "67:\tlearn: 0.8181646\ttest: 0.8156997\tbest: 0.8156997 (39)\ttotal: 2.13s\tremaining: 13.6s\n",
      "68:\tlearn: 0.8181646\ttest: 0.8134243\tbest: 0.8156997 (39)\ttotal: 2.17s\tremaining: 13.6s\n",
      "69:\tlearn: 0.8181646\ttest: 0.8134243\tbest: 0.8156997 (39)\ttotal: 2.22s\tremaining: 13.6s\n",
      "70:\tlearn: 0.8181646\ttest: 0.8139932\tbest: 0.8156997 (39)\ttotal: 2.26s\tremaining: 13.7s\n",
      "71:\tlearn: 0.8187334\ttest: 0.8139932\tbest: 0.8156997 (39)\ttotal: 2.3s\tremaining: 13.7s\n",
      "72:\tlearn: 0.8189230\ttest: 0.8156997\tbest: 0.8156997 (39)\ttotal: 2.34s\tremaining: 13.7s\n",
      "73:\tlearn: 0.8185438\ttest: 0.8139932\tbest: 0.8156997 (39)\ttotal: 2.37s\tremaining: 13.7s\n",
      "74:\tlearn: 0.8189230\ttest: 0.8145620\tbest: 0.8156997 (39)\ttotal: 2.41s\tremaining: 13.7s\n",
      "75:\tlearn: 0.8193022\ttest: 0.8139932\tbest: 0.8156997 (39)\ttotal: 2.44s\tremaining: 13.6s\n",
      "76:\tlearn: 0.8194918\ttest: 0.8151308\tbest: 0.8156997 (39)\ttotal: 2.46s\tremaining: 13.5s\n",
      "77:\tlearn: 0.8196815\ttest: 0.8128555\tbest: 0.8156997 (39)\ttotal: 2.48s\tremaining: 13.4s\n",
      "78:\tlearn: 0.8194918\ttest: 0.8122867\tbest: 0.8156997 (39)\ttotal: 2.5s\tremaining: 13.3s\n",
      "79:\tlearn: 0.8194918\ttest: 0.8122867\tbest: 0.8156997 (39)\ttotal: 2.51s\tremaining: 13.2s\n",
      "80:\tlearn: 0.8193022\ttest: 0.8122867\tbest: 0.8156997 (39)\ttotal: 2.54s\tremaining: 13.1s\n",
      "81:\tlearn: 0.8194918\ttest: 0.8122867\tbest: 0.8156997 (39)\ttotal: 2.56s\tremaining: 13.1s\n",
      "82:\tlearn: 0.8194918\ttest: 0.8122867\tbest: 0.8156997 (39)\ttotal: 2.57s\tremaining: 12.9s\n",
      "83:\tlearn: 0.8194918\ttest: 0.8122867\tbest: 0.8156997 (39)\ttotal: 2.62s\tremaining: 13s\n",
      "84:\tlearn: 0.8198711\ttest: 0.8122867\tbest: 0.8156997 (39)\ttotal: 2.63s\tremaining: 12.9s\n",
      "85:\tlearn: 0.8196815\ttest: 0.8122867\tbest: 0.8156997 (39)\ttotal: 2.65s\tremaining: 12.7s\n",
      "86:\tlearn: 0.8198711\ttest: 0.8122867\tbest: 0.8156997 (39)\ttotal: 2.65s\tremaining: 12.6s\n",
      "87:\tlearn: 0.8200607\ttest: 0.8122867\tbest: 0.8156997 (39)\ttotal: 2.67s\tremaining: 12.5s\n",
      "88:\tlearn: 0.8200607\ttest: 0.8122867\tbest: 0.8156997 (39)\ttotal: 2.67s\tremaining: 12.3s\n",
      "89:\tlearn: 0.8198711\ttest: 0.8134243\tbest: 0.8156997 (39)\ttotal: 2.69s\tremaining: 12.2s\n",
      "90:\tlearn: 0.8200607\ttest: 0.8134243\tbest: 0.8156997 (39)\ttotal: 2.73s\tremaining: 12.3s\n",
      "91:\tlearn: 0.8200607\ttest: 0.8134243\tbest: 0.8156997 (39)\ttotal: 2.75s\tremaining: 12.2s\n",
      "92:\tlearn: 0.8198711\ttest: 0.8134243\tbest: 0.8156997 (39)\ttotal: 2.79s\tremaining: 12.2s\n",
      "93:\tlearn: 0.8198711\ttest: 0.8134243\tbest: 0.8156997 (39)\ttotal: 2.79s\tremaining: 12.1s\n",
      "94:\tlearn: 0.8196815\ttest: 0.8134243\tbest: 0.8156997 (39)\ttotal: 2.82s\tremaining: 12s\n"
     ]
    },
    {
     "name": "stdout",
     "output_type": "stream",
     "text": [
      "95:\tlearn: 0.8202503\ttest: 0.8134243\tbest: 0.8156997 (39)\ttotal: 2.86s\tremaining: 12s\n",
      "96:\tlearn: 0.8206295\ttest: 0.8134243\tbest: 0.8156997 (39)\ttotal: 2.89s\tremaining: 12s\n",
      "97:\tlearn: 0.8206295\ttest: 0.8134243\tbest: 0.8156997 (39)\ttotal: 2.91s\tremaining: 11.9s\n",
      "98:\tlearn: 0.8213879\ttest: 0.8139932\tbest: 0.8156997 (39)\ttotal: 2.94s\tremaining: 11.9s\n",
      "99:\tlearn: 0.8213879\ttest: 0.8128555\tbest: 0.8156997 (39)\ttotal: 2.96s\tremaining: 11.8s\n",
      "100:\tlearn: 0.8211983\ttest: 0.8139932\tbest: 0.8156997 (39)\ttotal: 3s\tremaining: 11.8s\n",
      "101:\tlearn: 0.8219568\ttest: 0.8139932\tbest: 0.8156997 (39)\ttotal: 3.04s\tremaining: 11.9s\n",
      "102:\tlearn: 0.8219568\ttest: 0.8139932\tbest: 0.8156997 (39)\ttotal: 3.07s\tremaining: 11.8s\n",
      "103:\tlearn: 0.8215776\ttest: 0.8134243\tbest: 0.8156997 (39)\ttotal: 3.11s\tremaining: 11.9s\n",
      "104:\tlearn: 0.8215776\ttest: 0.8134243\tbest: 0.8156997 (39)\ttotal: 3.14s\tremaining: 11.8s\n",
      "105:\tlearn: 0.8215776\ttest: 0.8139932\tbest: 0.8156997 (39)\ttotal: 3.17s\tremaining: 11.8s\n",
      "106:\tlearn: 0.8219568\ttest: 0.8128555\tbest: 0.8156997 (39)\ttotal: 3.22s\tremaining: 11.8s\n",
      "107:\tlearn: 0.8219568\ttest: 0.8134243\tbest: 0.8156997 (39)\ttotal: 3.26s\tremaining: 11.8s\n",
      "108:\tlearn: 0.8217672\ttest: 0.8134243\tbest: 0.8156997 (39)\ttotal: 3.28s\tremaining: 11.8s\n",
      "109:\tlearn: 0.8223360\ttest: 0.8134243\tbest: 0.8156997 (39)\ttotal: 3.3s\tremaining: 11.7s\n",
      "110:\tlearn: 0.8229048\ttest: 0.8134243\tbest: 0.8156997 (39)\ttotal: 3.33s\tremaining: 11.7s\n",
      "111:\tlearn: 0.8229048\ttest: 0.8134243\tbest: 0.8156997 (39)\ttotal: 3.37s\tremaining: 11.7s\n",
      "112:\tlearn: 0.8244217\ttest: 0.8128555\tbest: 0.8156997 (39)\ttotal: 3.4s\tremaining: 11.7s\n",
      "113:\tlearn: 0.8248009\ttest: 0.8128555\tbest: 0.8156997 (39)\ttotal: 3.44s\tremaining: 11.6s\n",
      "114:\tlearn: 0.8244217\ttest: 0.8134243\tbest: 0.8156997 (39)\ttotal: 3.46s\tremaining: 11.6s\n",
      "115:\tlearn: 0.8240425\ttest: 0.8122867\tbest: 0.8156997 (39)\ttotal: 3.5s\tremaining: 11.6s\n",
      "116:\tlearn: 0.8240425\ttest: 0.8122867\tbest: 0.8156997 (39)\ttotal: 3.5s\tremaining: 11.5s\n",
      "117:\tlearn: 0.8240425\ttest: 0.8117179\tbest: 0.8156997 (39)\ttotal: 3.54s\tremaining: 11.4s\n",
      "118:\tlearn: 0.8246113\ttest: 0.8122867\tbest: 0.8156997 (39)\ttotal: 3.58s\tremaining: 11.5s\n",
      "119:\tlearn: 0.8249905\ttest: 0.8122867\tbest: 0.8156997 (39)\ttotal: 3.6s\tremaining: 11.4s\n",
      "120:\tlearn: 0.8246113\ttest: 0.8122867\tbest: 0.8156997 (39)\ttotal: 3.63s\tremaining: 11.4s\n",
      "121:\tlearn: 0.8244217\ttest: 0.8122867\tbest: 0.8156997 (39)\ttotal: 3.67s\tremaining: 11.4s\n",
      "122:\tlearn: 0.8249905\ttest: 0.8128555\tbest: 0.8156997 (39)\ttotal: 3.71s\tremaining: 11.4s\n",
      "123:\tlearn: 0.8251801\ttest: 0.8128555\tbest: 0.8156997 (39)\ttotal: 3.74s\tremaining: 11.4s\n",
      "124:\tlearn: 0.8248009\ttest: 0.8128555\tbest: 0.8156997 (39)\ttotal: 3.75s\tremaining: 11.3s\n",
      "125:\tlearn: 0.8253697\ttest: 0.8128555\tbest: 0.8156997 (39)\ttotal: 3.78s\tremaining: 11.2s\n",
      "126:\tlearn: 0.8249905\ttest: 0.8128555\tbest: 0.8156997 (39)\ttotal: 3.79s\tremaining: 11.1s\n",
      "127:\tlearn: 0.8251801\ttest: 0.8128555\tbest: 0.8156997 (39)\ttotal: 3.82s\tremaining: 11.1s\n",
      "128:\tlearn: 0.8257490\ttest: 0.8122867\tbest: 0.8156997 (39)\ttotal: 3.87s\tremaining: 11.1s\n",
      "129:\tlearn: 0.8263178\ttest: 0.8139932\tbest: 0.8156997 (39)\ttotal: 3.91s\tremaining: 11.1s\n",
      "130:\tlearn: 0.8263178\ttest: 0.8134243\tbest: 0.8156997 (39)\ttotal: 3.92s\tremaining: 11s\n",
      "131:\tlearn: 0.8263178\ttest: 0.8134243\tbest: 0.8156997 (39)\ttotal: 3.94s\tremaining: 11s\n",
      "132:\tlearn: 0.8261282\ttest: 0.8134243\tbest: 0.8156997 (39)\ttotal: 3.96s\tremaining: 10.9s\n",
      "133:\tlearn: 0.8257490\ttest: 0.8134243\tbest: 0.8156997 (39)\ttotal: 4s\tremaining: 10.9s\n",
      "134:\tlearn: 0.8257490\ttest: 0.8134243\tbest: 0.8156997 (39)\ttotal: 4.03s\tremaining: 10.9s\n",
      "135:\tlearn: 0.8257490\ttest: 0.8139932\tbest: 0.8156997 (39)\ttotal: 4.05s\tremaining: 10.8s\n",
      "136:\tlearn: 0.8263178\ttest: 0.8134243\tbest: 0.8156997 (39)\ttotal: 4.09s\tremaining: 10.8s\n",
      "137:\tlearn: 0.8261282\ttest: 0.8134243\tbest: 0.8156997 (39)\ttotal: 4.12s\tremaining: 10.8s\n",
      "138:\tlearn: 0.8261282\ttest: 0.8134243\tbest: 0.8156997 (39)\ttotal: 4.14s\tremaining: 10.7s\n",
      "139:\tlearn: 0.8272658\ttest: 0.8151308\tbest: 0.8156997 (39)\ttotal: 4.17s\tremaining: 10.7s\n",
      "140:\tlearn: 0.8272658\ttest: 0.8151308\tbest: 0.8156997 (39)\ttotal: 4.2s\tremaining: 10.7s\n",
      "141:\tlearn: 0.8272658\ttest: 0.8145620\tbest: 0.8156997 (39)\ttotal: 4.22s\tremaining: 10.6s\n",
      "142:\tlearn: 0.8270762\ttest: 0.8139932\tbest: 0.8156997 (39)\ttotal: 4.25s\tremaining: 10.6s\n",
      "143:\tlearn: 0.8274554\ttest: 0.8139932\tbest: 0.8156997 (39)\ttotal: 4.26s\tremaining: 10.5s\n",
      "144:\tlearn: 0.8276451\ttest: 0.8139932\tbest: 0.8156997 (39)\ttotal: 4.29s\tremaining: 10.5s\n",
      "145:\tlearn: 0.8278347\ttest: 0.8139932\tbest: 0.8156997 (39)\ttotal: 4.31s\tremaining: 10.5s\n",
      "146:\tlearn: 0.8280243\ttest: 0.8145620\tbest: 0.8156997 (39)\ttotal: 4.34s\tremaining: 10.4s\n",
      "147:\tlearn: 0.8282139\ttest: 0.8145620\tbest: 0.8156997 (39)\ttotal: 4.36s\tremaining: 10.4s\n",
      "148:\tlearn: 0.8282139\ttest: 0.8145620\tbest: 0.8156997 (39)\ttotal: 4.38s\tremaining: 10.3s\n",
      "149:\tlearn: 0.8282139\ttest: 0.8151308\tbest: 0.8156997 (39)\ttotal: 4.41s\tremaining: 10.3s\n",
      "150:\tlearn: 0.8289723\ttest: 0.8156997\tbest: 0.8156997 (39)\ttotal: 4.44s\tremaining: 10.3s\n",
      "151:\tlearn: 0.8291619\ttest: 0.8156997\tbest: 0.8156997 (39)\ttotal: 4.47s\tremaining: 10.2s\n",
      "152:\tlearn: 0.8304892\ttest: 0.8162685\tbest: 0.8162685 (152)\ttotal: 4.51s\tremaining: 10.2s\n",
      "153:\tlearn: 0.8301100\ttest: 0.8151308\tbest: 0.8162685 (152)\ttotal: 4.53s\tremaining: 10.2s\n",
      "154:\tlearn: 0.8304892\ttest: 0.8156997\tbest: 0.8162685 (152)\ttotal: 4.57s\tremaining: 10.2s\n",
      "155:\tlearn: 0.8306788\ttest: 0.8156997\tbest: 0.8162685 (152)\ttotal: 4.6s\tremaining: 10.1s\n",
      "156:\tlearn: 0.8316268\ttest: 0.8156997\tbest: 0.8162685 (152)\ttotal: 4.62s\tremaining: 10.1s\n",
      "157:\tlearn: 0.8316268\ttest: 0.8156997\tbest: 0.8162685 (152)\ttotal: 4.64s\tremaining: 10s\n",
      "158:\tlearn: 0.8318165\ttest: 0.8156997\tbest: 0.8162685 (152)\ttotal: 4.66s\tremaining: 9.98s\n",
      "159:\tlearn: 0.8318165\ttest: 0.8156997\tbest: 0.8162685 (152)\ttotal: 4.68s\tremaining: 9.94s\n",
      "160:\tlearn: 0.8316268\ttest: 0.8156997\tbest: 0.8162685 (152)\ttotal: 4.69s\tremaining: 9.88s\n",
      "161:\tlearn: 0.8316268\ttest: 0.8156997\tbest: 0.8162685 (152)\ttotal: 4.7s\tremaining: 9.81s\n",
      "162:\tlearn: 0.8316268\ttest: 0.8156997\tbest: 0.8162685 (152)\ttotal: 4.74s\tremaining: 9.79s\n",
      "163:\tlearn: 0.8316268\ttest: 0.8156997\tbest: 0.8162685 (152)\ttotal: 4.76s\tremaining: 9.75s\n",
      "164:\tlearn: 0.8316268\ttest: 0.8162685\tbest: 0.8162685 (152)\ttotal: 4.78s\tremaining: 9.71s\n",
      "165:\tlearn: 0.8314372\ttest: 0.8162685\tbest: 0.8162685 (152)\ttotal: 4.79s\tremaining: 9.65s\n",
      "166:\tlearn: 0.8312476\ttest: 0.8156997\tbest: 0.8162685 (152)\ttotal: 4.81s\tremaining: 9.6s\n",
      "167:\tlearn: 0.8310580\ttest: 0.8156997\tbest: 0.8162685 (152)\ttotal: 4.84s\tremaining: 9.56s\n",
      "168:\tlearn: 0.8312476\ttest: 0.8174061\tbest: 0.8174061 (168)\ttotal: 4.87s\tremaining: 9.54s\n",
      "169:\tlearn: 0.8314372\ttest: 0.8168373\tbest: 0.8174061 (168)\ttotal: 4.88s\tremaining: 9.48s\n",
      "170:\tlearn: 0.8310580\ttest: 0.8156997\tbest: 0.8174061 (168)\ttotal: 4.92s\tremaining: 9.46s\n",
      "171:\tlearn: 0.8316268\ttest: 0.8162685\tbest: 0.8174061 (168)\ttotal: 4.96s\tremaining: 9.46s\n",
      "172:\tlearn: 0.8325749\ttest: 0.8168373\tbest: 0.8174061 (168)\ttotal: 5s\tremaining: 9.45s\n",
      "173:\tlearn: 0.8325749\ttest: 0.8168373\tbest: 0.8174061 (168)\ttotal: 5.02s\tremaining: 9.4s\n",
      "174:\tlearn: 0.8333333\ttest: 0.8174061\tbest: 0.8174061 (168)\ttotal: 5.06s\tremaining: 9.39s\n",
      "175:\tlearn: 0.8339022\ttest: 0.8168373\tbest: 0.8174061 (168)\ttotal: 5.07s\tremaining: 9.33s\n",
      "176:\tlearn: 0.8337126\ttest: 0.8168373\tbest: 0.8174061 (168)\ttotal: 5.1s\tremaining: 9.31s\n",
      "177:\tlearn: 0.8337126\ttest: 0.8168373\tbest: 0.8174061 (168)\ttotal: 5.12s\tremaining: 9.26s\n",
      "178:\tlearn: 0.8331437\ttest: 0.8162685\tbest: 0.8174061 (168)\ttotal: 5.15s\tremaining: 9.23s\n",
      "179:\tlearn: 0.8340918\ttest: 0.8156997\tbest: 0.8174061 (168)\ttotal: 5.18s\tremaining: 9.21s\n",
      "180:\tlearn: 0.8342814\ttest: 0.8156997\tbest: 0.8174061 (168)\ttotal: 5.22s\tremaining: 9.2s\n",
      "181:\tlearn: 0.8340918\ttest: 0.8156997\tbest: 0.8174061 (168)\ttotal: 5.25s\tremaining: 9.17s\n",
      "182:\tlearn: 0.8339022\ttest: 0.8145620\tbest: 0.8174061 (168)\ttotal: 5.26s\tremaining: 9.11s\n",
      "183:\tlearn: 0.8346606\ttest: 0.8151308\tbest: 0.8174061 (168)\ttotal: 5.27s\tremaining: 9.05s\n",
      "184:\tlearn: 0.8348502\ttest: 0.8151308\tbest: 0.8174061 (168)\ttotal: 5.28s\tremaining: 8.98s\n",
      "185:\tlearn: 0.8357983\ttest: 0.8151308\tbest: 0.8174061 (168)\ttotal: 5.31s\tremaining: 8.96s\n",
      "186:\tlearn: 0.8359879\ttest: 0.8151308\tbest: 0.8174061 (168)\ttotal: 5.34s\tremaining: 8.94s\n",
      "187:\tlearn: 0.8356086\ttest: 0.8151308\tbest: 0.8174061 (168)\ttotal: 5.37s\tremaining: 8.91s\n"
     ]
    },
    {
     "name": "stdout",
     "output_type": "stream",
     "text": [
      "188:\tlearn: 0.8359879\ttest: 0.8151308\tbest: 0.8174061 (168)\ttotal: 5.4s\tremaining: 8.88s\n",
      "189:\tlearn: 0.8361775\ttest: 0.8151308\tbest: 0.8174061 (168)\ttotal: 5.43s\tremaining: 8.86s\n",
      "190:\tlearn: 0.8361775\ttest: 0.8151308\tbest: 0.8174061 (168)\ttotal: 5.46s\tremaining: 8.83s\n",
      "191:\tlearn: 0.8365567\ttest: 0.8151308\tbest: 0.8174061 (168)\ttotal: 5.49s\tremaining: 8.8s\n",
      "192:\tlearn: 0.8361775\ttest: 0.8151308\tbest: 0.8174061 (168)\ttotal: 5.5s\tremaining: 8.76s\n",
      "193:\tlearn: 0.8363671\ttest: 0.8145620\tbest: 0.8174061 (168)\ttotal: 5.53s\tremaining: 8.73s\n",
      "194:\tlearn: 0.8369359\ttest: 0.8145620\tbest: 0.8174061 (168)\ttotal: 5.57s\tremaining: 8.71s\n",
      "195:\tlearn: 0.8373151\ttest: 0.8145620\tbest: 0.8174061 (168)\ttotal: 5.6s\tremaining: 8.69s\n",
      "196:\tlearn: 0.8369359\ttest: 0.8145620\tbest: 0.8174061 (168)\ttotal: 5.61s\tremaining: 8.63s\n",
      "197:\tlearn: 0.8369359\ttest: 0.8151308\tbest: 0.8174061 (168)\ttotal: 5.63s\tremaining: 8.59s\n",
      "198:\tlearn: 0.8367463\ttest: 0.8145620\tbest: 0.8174061 (168)\ttotal: 5.66s\tremaining: 8.56s\n",
      "199:\tlearn: 0.8367463\ttest: 0.8151308\tbest: 0.8174061 (168)\ttotal: 5.67s\tremaining: 8.51s\n",
      "200:\tlearn: 0.8373151\ttest: 0.8151308\tbest: 0.8174061 (168)\ttotal: 5.7s\tremaining: 8.48s\n",
      "201:\tlearn: 0.8369359\ttest: 0.8145620\tbest: 0.8174061 (168)\ttotal: 5.72s\tremaining: 8.44s\n",
      "202:\tlearn: 0.8371255\ttest: 0.8145620\tbest: 0.8174061 (168)\ttotal: 5.73s\tremaining: 8.38s\n",
      "203:\tlearn: 0.8375047\ttest: 0.8134243\tbest: 0.8174061 (168)\ttotal: 5.76s\tremaining: 8.35s\n",
      "204:\tlearn: 0.8376943\ttest: 0.8139932\tbest: 0.8174061 (168)\ttotal: 5.77s\tremaining: 8.31s\n",
      "205:\tlearn: 0.8376943\ttest: 0.8139932\tbest: 0.8174061 (168)\ttotal: 5.79s\tremaining: 8.27s\n",
      "206:\tlearn: 0.8380736\ttest: 0.8139932\tbest: 0.8174061 (168)\ttotal: 5.82s\tremaining: 8.24s\n",
      "207:\tlearn: 0.8378840\ttest: 0.8139932\tbest: 0.8174061 (168)\ttotal: 5.84s\tremaining: 8.2s\n",
      "208:\tlearn: 0.8378840\ttest: 0.8139932\tbest: 0.8174061 (168)\ttotal: 5.86s\tremaining: 8.15s\n",
      "209:\tlearn: 0.8376943\ttest: 0.8128555\tbest: 0.8174061 (168)\ttotal: 5.89s\tremaining: 8.13s\n",
      "210:\tlearn: 0.8380736\ttest: 0.8128555\tbest: 0.8174061 (168)\ttotal: 5.91s\tremaining: 8.1s\n",
      "211:\tlearn: 0.8382632\ttest: 0.8128555\tbest: 0.8174061 (168)\ttotal: 5.92s\tremaining: 8.04s\n",
      "212:\tlearn: 0.8386424\ttest: 0.8128555\tbest: 0.8174061 (168)\ttotal: 5.94s\tremaining: 8s\n",
      "213:\tlearn: 0.8392112\ttest: 0.8134243\tbest: 0.8174061 (168)\ttotal: 5.97s\tremaining: 7.98s\n",
      "214:\tlearn: 0.8394008\ttest: 0.8128555\tbest: 0.8174061 (168)\ttotal: 6s\tremaining: 7.96s\n",
      "215:\tlearn: 0.8394008\ttest: 0.8128555\tbest: 0.8174061 (168)\ttotal: 6.03s\tremaining: 7.93s\n",
      "216:\tlearn: 0.8397801\ttest: 0.8134243\tbest: 0.8174061 (168)\ttotal: 6.04s\tremaining: 7.88s\n",
      "217:\tlearn: 0.8399697\ttest: 0.8117179\tbest: 0.8174061 (168)\ttotal: 6.08s\tremaining: 7.86s\n",
      "218:\tlearn: 0.8397801\ttest: 0.8111490\tbest: 0.8174061 (168)\ttotal: 6.09s\tremaining: 7.82s\n",
      "219:\tlearn: 0.8405385\ttest: 0.8111490\tbest: 0.8174061 (168)\ttotal: 6.14s\tremaining: 7.81s\n",
      "220:\tlearn: 0.8409177\ttest: 0.8111490\tbest: 0.8174061 (168)\ttotal: 6.17s\tremaining: 7.8s\n",
      "221:\tlearn: 0.8407281\ttest: 0.8100114\tbest: 0.8174061 (168)\ttotal: 6.21s\tremaining: 7.78s\n",
      "222:\tlearn: 0.8411073\ttest: 0.8094425\tbest: 0.8174061 (168)\ttotal: 6.25s\tremaining: 7.76s\n",
      "223:\tlearn: 0.8412969\ttest: 0.8100114\tbest: 0.8174061 (168)\ttotal: 6.28s\tremaining: 7.73s\n",
      "224:\tlearn: 0.8409177\ttest: 0.8105802\tbest: 0.8174061 (168)\ttotal: 6.3s\tremaining: 7.7s\n",
      "225:\tlearn: 0.8411073\ttest: 0.8094425\tbest: 0.8174061 (168)\ttotal: 6.34s\tremaining: 7.68s\n",
      "226:\tlearn: 0.8412969\ttest: 0.8088737\tbest: 0.8174061 (168)\ttotal: 6.37s\tremaining: 7.66s\n",
      "227:\tlearn: 0.8412969\ttest: 0.8094425\tbest: 0.8174061 (168)\ttotal: 6.4s\tremaining: 7.63s\n",
      "228:\tlearn: 0.8418658\ttest: 0.8088737\tbest: 0.8174061 (168)\ttotal: 6.41s\tremaining: 7.58s\n",
      "229:\tlearn: 0.8424346\ttest: 0.8111490\tbest: 0.8174061 (168)\ttotal: 6.44s\tremaining: 7.56s\n",
      "230:\tlearn: 0.8420554\ttest: 0.8111490\tbest: 0.8174061 (168)\ttotal: 6.46s\tremaining: 7.53s\n",
      "231:\tlearn: 0.8424346\ttest: 0.8105802\tbest: 0.8174061 (168)\ttotal: 6.48s\tremaining: 7.48s\n",
      "232:\tlearn: 0.8426242\ttest: 0.8111490\tbest: 0.8174061 (168)\ttotal: 6.49s\tremaining: 7.44s\n",
      "233:\tlearn: 0.8428138\ttest: 0.8105802\tbest: 0.8174061 (168)\ttotal: 6.51s\tremaining: 7.41s\n",
      "234:\tlearn: 0.8431930\ttest: 0.8105802\tbest: 0.8174061 (168)\ttotal: 6.53s\tremaining: 7.37s\n",
      "235:\tlearn: 0.8431930\ttest: 0.8117179\tbest: 0.8174061 (168)\ttotal: 6.55s\tremaining: 7.33s\n",
      "236:\tlearn: 0.8435722\ttest: 0.8105802\tbest: 0.8174061 (168)\ttotal: 6.57s\tremaining: 7.29s\n",
      "237:\tlearn: 0.8435722\ttest: 0.8105802\tbest: 0.8174061 (168)\ttotal: 6.6s\tremaining: 7.26s\n",
      "238:\tlearn: 0.8435722\ttest: 0.8105802\tbest: 0.8174061 (168)\ttotal: 6.63s\tremaining: 7.24s\n",
      "239:\tlearn: 0.8433826\ttest: 0.8100114\tbest: 0.8174061 (168)\ttotal: 6.67s\tremaining: 7.22s\n",
      "240:\tlearn: 0.8431930\ttest: 0.8100114\tbest: 0.8174061 (168)\ttotal: 6.7s\tremaining: 7.2s\n",
      "241:\tlearn: 0.8431930\ttest: 0.8100114\tbest: 0.8174061 (168)\ttotal: 6.73s\tremaining: 7.18s\n",
      "242:\tlearn: 0.8441411\ttest: 0.8100114\tbest: 0.8174061 (168)\ttotal: 6.75s\tremaining: 7.14s\n",
      "243:\tlearn: 0.8445203\ttest: 0.8100114\tbest: 0.8174061 (168)\ttotal: 6.77s\tremaining: 7.1s\n",
      "244:\tlearn: 0.8454683\ttest: 0.8100114\tbest: 0.8174061 (168)\ttotal: 6.8s\tremaining: 7.08s\n",
      "245:\tlearn: 0.8447099\ttest: 0.8100114\tbest: 0.8174061 (168)\ttotal: 6.83s\tremaining: 7.05s\n",
      "246:\tlearn: 0.8450891\ttest: 0.8111490\tbest: 0.8174061 (168)\ttotal: 6.86s\tremaining: 7.03s\n",
      "247:\tlearn: 0.8454683\ttest: 0.8105802\tbest: 0.8174061 (168)\ttotal: 6.88s\tremaining: 6.99s\n",
      "248:\tlearn: 0.8456579\ttest: 0.8105802\tbest: 0.8174061 (168)\ttotal: 6.91s\tremaining: 6.97s\n",
      "249:\tlearn: 0.8464164\ttest: 0.8105802\tbest: 0.8174061 (168)\ttotal: 6.94s\tremaining: 6.94s\n",
      "250:\tlearn: 0.8466060\ttest: 0.8105802\tbest: 0.8174061 (168)\ttotal: 6.96s\tremaining: 6.9s\n",
      "251:\tlearn: 0.8467956\ttest: 0.8105802\tbest: 0.8174061 (168)\ttotal: 6.98s\tremaining: 6.87s\n",
      "252:\tlearn: 0.8473644\ttest: 0.8105802\tbest: 0.8174061 (168)\ttotal: 7.01s\tremaining: 6.84s\n",
      "253:\tlearn: 0.8471748\ttest: 0.8105802\tbest: 0.8174061 (168)\ttotal: 7.04s\tremaining: 6.82s\n",
      "254:\tlearn: 0.8473644\ttest: 0.8105802\tbest: 0.8174061 (168)\ttotal: 7.05s\tremaining: 6.77s\n",
      "255:\tlearn: 0.8473644\ttest: 0.8100114\tbest: 0.8174061 (168)\ttotal: 7.05s\tremaining: 6.72s\n",
      "256:\tlearn: 0.8473644\ttest: 0.8094425\tbest: 0.8174061 (168)\ttotal: 7.07s\tremaining: 6.69s\n",
      "257:\tlearn: 0.8473644\ttest: 0.8088737\tbest: 0.8174061 (168)\ttotal: 7.1s\tremaining: 6.66s\n",
      "258:\tlearn: 0.8473644\ttest: 0.8088737\tbest: 0.8174061 (168)\ttotal: 7.13s\tremaining: 6.64s\n",
      "259:\tlearn: 0.8477436\ttest: 0.8094425\tbest: 0.8174061 (168)\ttotal: 7.16s\tremaining: 6.61s\n",
      "260:\tlearn: 0.8473644\ttest: 0.8105802\tbest: 0.8174061 (168)\ttotal: 7.19s\tremaining: 6.59s\n",
      "261:\tlearn: 0.8475540\ttest: 0.8100114\tbest: 0.8174061 (168)\ttotal: 7.23s\tremaining: 6.57s\n",
      "262:\tlearn: 0.8486917\ttest: 0.8111490\tbest: 0.8174061 (168)\ttotal: 7.25s\tremaining: 6.54s\n",
      "263:\tlearn: 0.8488813\ttest: 0.8111490\tbest: 0.8174061 (168)\ttotal: 7.26s\tremaining: 6.49s\n",
      "264:\tlearn: 0.8490709\ttest: 0.8117179\tbest: 0.8174061 (168)\ttotal: 7.29s\tremaining: 6.47s\n",
      "265:\tlearn: 0.8494501\ttest: 0.8117179\tbest: 0.8174061 (168)\ttotal: 7.32s\tremaining: 6.44s\n",
      "266:\tlearn: 0.8494501\ttest: 0.8122867\tbest: 0.8174061 (168)\ttotal: 7.34s\tremaining: 6.41s\n",
      "267:\tlearn: 0.8494501\ttest: 0.8117179\tbest: 0.8174061 (168)\ttotal: 7.37s\tremaining: 6.38s\n",
      "268:\tlearn: 0.8490709\ttest: 0.8117179\tbest: 0.8174061 (168)\ttotal: 7.39s\tremaining: 6.35s\n",
      "269:\tlearn: 0.8496397\ttest: 0.8122867\tbest: 0.8174061 (168)\ttotal: 7.42s\tremaining: 6.32s\n",
      "270:\tlearn: 0.8496397\ttest: 0.8122867\tbest: 0.8174061 (168)\ttotal: 7.44s\tremaining: 6.28s\n",
      "271:\tlearn: 0.8496397\ttest: 0.8128555\tbest: 0.8174061 (168)\ttotal: 7.45s\tremaining: 6.25s\n",
      "272:\tlearn: 0.8496397\ttest: 0.8134243\tbest: 0.8174061 (168)\ttotal: 7.47s\tremaining: 6.21s\n",
      "273:\tlearn: 0.8500190\ttest: 0.8128555\tbest: 0.8174061 (168)\ttotal: 7.5s\tremaining: 6.19s\n",
      "274:\tlearn: 0.8502086\ttest: 0.8128555\tbest: 0.8174061 (168)\ttotal: 7.54s\tremaining: 6.17s\n",
      "275:\tlearn: 0.8502086\ttest: 0.8122867\tbest: 0.8174061 (168)\ttotal: 7.55s\tremaining: 6.13s\n",
      "276:\tlearn: 0.8509670\ttest: 0.8134243\tbest: 0.8174061 (168)\ttotal: 7.57s\tremaining: 6.09s\n",
      "277:\tlearn: 0.8505878\ttest: 0.8134243\tbest: 0.8174061 (168)\ttotal: 7.59s\tremaining: 6.06s\n",
      "278:\tlearn: 0.8507774\ttest: 0.8134243\tbest: 0.8174061 (168)\ttotal: 7.61s\tremaining: 6.03s\n",
      "279:\tlearn: 0.8507774\ttest: 0.8139932\tbest: 0.8174061 (168)\ttotal: 7.64s\tremaining: 6s\n",
      "280:\tlearn: 0.8507774\ttest: 0.8139932\tbest: 0.8174061 (168)\ttotal: 7.67s\tremaining: 5.98s\n",
      "281:\tlearn: 0.8507774\ttest: 0.8139932\tbest: 0.8174061 (168)\ttotal: 7.71s\tremaining: 5.96s\n",
      "282:\tlearn: 0.8509670\ttest: 0.8139932\tbest: 0.8174061 (168)\ttotal: 7.74s\tremaining: 5.93s\n"
     ]
    },
    {
     "name": "stdout",
     "output_type": "stream",
     "text": [
      "283:\tlearn: 0.8505878\ttest: 0.8139932\tbest: 0.8174061 (168)\ttotal: 7.77s\tremaining: 5.91s\n",
      "284:\tlearn: 0.8511566\ttest: 0.8134243\tbest: 0.8174061 (168)\ttotal: 7.8s\tremaining: 5.89s\n",
      "285:\tlearn: 0.8511566\ttest: 0.8134243\tbest: 0.8174061 (168)\ttotal: 7.82s\tremaining: 5.85s\n",
      "286:\tlearn: 0.8509670\ttest: 0.8128555\tbest: 0.8174061 (168)\ttotal: 7.85s\tremaining: 5.83s\n",
      "287:\tlearn: 0.8509670\ttest: 0.8128555\tbest: 0.8174061 (168)\ttotal: 7.88s\tremaining: 5.8s\n",
      "288:\tlearn: 0.8509670\ttest: 0.8128555\tbest: 0.8174061 (168)\ttotal: 7.91s\tremaining: 5.78s\n",
      "289:\tlearn: 0.8513462\ttest: 0.8128555\tbest: 0.8174061 (168)\ttotal: 7.93s\tremaining: 5.74s\n",
      "290:\tlearn: 0.8515358\ttest: 0.8122867\tbest: 0.8174061 (168)\ttotal: 7.95s\tremaining: 5.71s\n",
      "291:\tlearn: 0.8521047\ttest: 0.8128555\tbest: 0.8174061 (168)\ttotal: 7.98s\tremaining: 5.69s\n",
      "292:\tlearn: 0.8519151\ttest: 0.8128555\tbest: 0.8174061 (168)\ttotal: 8.01s\tremaining: 5.66s\n",
      "293:\tlearn: 0.8511566\ttest: 0.8134243\tbest: 0.8174061 (168)\ttotal: 8.03s\tremaining: 5.63s\n",
      "294:\tlearn: 0.8521047\ttest: 0.8122867\tbest: 0.8174061 (168)\ttotal: 8.05s\tremaining: 5.59s\n",
      "295:\tlearn: 0.8519151\ttest: 0.8122867\tbest: 0.8174061 (168)\ttotal: 8.07s\tremaining: 5.56s\n",
      "296:\tlearn: 0.8524839\ttest: 0.8122867\tbest: 0.8174061 (168)\ttotal: 8.1s\tremaining: 5.53s\n",
      "297:\tlearn: 0.8526735\ttest: 0.8122867\tbest: 0.8174061 (168)\ttotal: 8.1s\tremaining: 5.49s\n",
      "298:\tlearn: 0.8532423\ttest: 0.8128555\tbest: 0.8174061 (168)\ttotal: 8.13s\tremaining: 5.47s\n",
      "299:\tlearn: 0.8540008\ttest: 0.8134243\tbest: 0.8174061 (168)\ttotal: 8.16s\tremaining: 5.44s\n",
      "300:\tlearn: 0.8541904\ttest: 0.8128555\tbest: 0.8174061 (168)\ttotal: 8.17s\tremaining: 5.4s\n",
      "301:\tlearn: 0.8541904\ttest: 0.8128555\tbest: 0.8174061 (168)\ttotal: 8.2s\tremaining: 5.38s\n",
      "302:\tlearn: 0.8538111\ttest: 0.8128555\tbest: 0.8174061 (168)\ttotal: 8.23s\tremaining: 5.35s\n",
      "303:\tlearn: 0.8545696\ttest: 0.8134243\tbest: 0.8174061 (168)\ttotal: 8.26s\tremaining: 5.33s\n",
      "304:\tlearn: 0.8549488\ttest: 0.8134243\tbest: 0.8174061 (168)\ttotal: 8.29s\tremaining: 5.3s\n",
      "305:\tlearn: 0.8543800\ttest: 0.8139932\tbest: 0.8174061 (168)\ttotal: 8.32s\tremaining: 5.28s\n",
      "306:\tlearn: 0.8543800\ttest: 0.8128555\tbest: 0.8174061 (168)\ttotal: 8.36s\tremaining: 5.26s\n",
      "307:\tlearn: 0.8547592\ttest: 0.8111490\tbest: 0.8174061 (168)\ttotal: 8.4s\tremaining: 5.24s\n",
      "308:\tlearn: 0.8549488\ttest: 0.8111490\tbest: 0.8174061 (168)\ttotal: 8.43s\tremaining: 5.21s\n",
      "309:\tlearn: 0.8553280\ttest: 0.8094425\tbest: 0.8174061 (168)\ttotal: 8.46s\tremaining: 5.19s\n",
      "310:\tlearn: 0.8553280\ttest: 0.8077361\tbest: 0.8174061 (168)\ttotal: 8.5s\tremaining: 5.16s\n",
      "311:\tlearn: 0.8553280\ttest: 0.8094425\tbest: 0.8174061 (168)\ttotal: 8.53s\tremaining: 5.14s\n",
      "312:\tlearn: 0.8557072\ttest: 0.8094425\tbest: 0.8174061 (168)\ttotal: 8.57s\tremaining: 5.12s\n",
      "313:\tlearn: 0.8558969\ttest: 0.8100114\tbest: 0.8174061 (168)\ttotal: 8.6s\tremaining: 5.09s\n",
      "314:\tlearn: 0.8562761\ttest: 0.8083049\tbest: 0.8174061 (168)\ttotal: 8.63s\tremaining: 5.07s\n",
      "315:\tlearn: 0.8560865\ttest: 0.8083049\tbest: 0.8174061 (168)\ttotal: 8.65s\tremaining: 5.04s\n",
      "316:\tlearn: 0.8570345\ttest: 0.8077361\tbest: 0.8174061 (168)\ttotal: 8.67s\tremaining: 5.01s\n",
      "317:\tlearn: 0.8572241\ttest: 0.8088737\tbest: 0.8174061 (168)\ttotal: 8.7s\tremaining: 4.98s\n",
      "318:\tlearn: 0.8577929\ttest: 0.8083049\tbest: 0.8174061 (168)\ttotal: 8.73s\tremaining: 4.95s\n",
      "319:\tlearn: 0.8576033\ttest: 0.8088737\tbest: 0.8174061 (168)\ttotal: 8.77s\tremaining: 4.93s\n",
      "320:\tlearn: 0.8581722\ttest: 0.8088737\tbest: 0.8174061 (168)\ttotal: 8.8s\tremaining: 4.9s\n",
      "321:\tlearn: 0.8581722\ttest: 0.8088737\tbest: 0.8174061 (168)\ttotal: 8.82s\tremaining: 4.88s\n",
      "322:\tlearn: 0.8587410\ttest: 0.8088737\tbest: 0.8174061 (168)\ttotal: 8.86s\tremaining: 4.85s\n",
      "323:\tlearn: 0.8587410\ttest: 0.8094425\tbest: 0.8174061 (168)\ttotal: 8.89s\tremaining: 4.83s\n",
      "324:\tlearn: 0.8589306\ttest: 0.8100114\tbest: 0.8174061 (168)\ttotal: 8.9s\tremaining: 4.79s\n",
      "325:\tlearn: 0.8585514\ttest: 0.8088737\tbest: 0.8174061 (168)\ttotal: 8.92s\tremaining: 4.76s\n",
      "326:\tlearn: 0.8585514\ttest: 0.8088737\tbest: 0.8174061 (168)\ttotal: 8.95s\tremaining: 4.74s\n",
      "327:\tlearn: 0.8587410\ttest: 0.8083049\tbest: 0.8174061 (168)\ttotal: 8.97s\tremaining: 4.7s\n",
      "328:\tlearn: 0.8591202\ttest: 0.8083049\tbest: 0.8174061 (168)\ttotal: 8.99s\tremaining: 4.67s\n",
      "329:\tlearn: 0.8591202\ttest: 0.8083049\tbest: 0.8174061 (168)\ttotal: 9.02s\tremaining: 4.65s\n",
      "330:\tlearn: 0.8593098\ttest: 0.8083049\tbest: 0.8174061 (168)\ttotal: 9.05s\tremaining: 4.62s\n",
      "331:\tlearn: 0.8593098\ttest: 0.8083049\tbest: 0.8174061 (168)\ttotal: 9.07s\tremaining: 4.59s\n",
      "332:\tlearn: 0.8600683\ttest: 0.8083049\tbest: 0.8174061 (168)\ttotal: 9.09s\tremaining: 4.56s\n",
      "333:\tlearn: 0.8600683\ttest: 0.8083049\tbest: 0.8174061 (168)\ttotal: 9.12s\tremaining: 4.53s\n",
      "334:\tlearn: 0.8600683\ttest: 0.8088737\tbest: 0.8174061 (168)\ttotal: 9.13s\tremaining: 4.5s\n",
      "335:\tlearn: 0.8598786\ttest: 0.8088737\tbest: 0.8174061 (168)\ttotal: 9.14s\tremaining: 4.46s\n",
      "336:\tlearn: 0.8594994\ttest: 0.8094425\tbest: 0.8174061 (168)\ttotal: 9.16s\tremaining: 4.43s\n",
      "337:\tlearn: 0.8598786\ttest: 0.8100114\tbest: 0.8174061 (168)\ttotal: 9.17s\tremaining: 4.39s\n",
      "338:\tlearn: 0.8602579\ttest: 0.8100114\tbest: 0.8174061 (168)\ttotal: 9.2s\tremaining: 4.37s\n",
      "339:\tlearn: 0.8602579\ttest: 0.8100114\tbest: 0.8174061 (168)\ttotal: 9.23s\tremaining: 4.35s\n",
      "340:\tlearn: 0.8604475\ttest: 0.8100114\tbest: 0.8174061 (168)\ttotal: 9.27s\tremaining: 4.32s\n",
      "341:\tlearn: 0.8612059\ttest: 0.8094425\tbest: 0.8174061 (168)\ttotal: 9.3s\tremaining: 4.3s\n",
      "342:\tlearn: 0.8612059\ttest: 0.8094425\tbest: 0.8174061 (168)\ttotal: 9.32s\tremaining: 4.27s\n",
      "343:\tlearn: 0.8612059\ttest: 0.8094425\tbest: 0.8174061 (168)\ttotal: 9.37s\tremaining: 4.25s\n",
      "344:\tlearn: 0.8615851\ttest: 0.8094425\tbest: 0.8174061 (168)\ttotal: 9.4s\tremaining: 4.22s\n",
      "345:\tlearn: 0.8610163\ttest: 0.8094425\tbest: 0.8174061 (168)\ttotal: 9.43s\tremaining: 4.2s\n",
      "346:\tlearn: 0.8623436\ttest: 0.8100114\tbest: 0.8174061 (168)\ttotal: 9.44s\tremaining: 4.16s\n",
      "347:\tlearn: 0.8619644\ttest: 0.8100114\tbest: 0.8174061 (168)\ttotal: 9.47s\tremaining: 4.14s\n",
      "348:\tlearn: 0.8619644\ttest: 0.8100114\tbest: 0.8174061 (168)\ttotal: 9.5s\tremaining: 4.11s\n",
      "349:\tlearn: 0.8621540\ttest: 0.8100114\tbest: 0.8174061 (168)\ttotal: 9.53s\tremaining: 4.08s\n",
      "350:\tlearn: 0.8621540\ttest: 0.8100114\tbest: 0.8174061 (168)\ttotal: 9.56s\tremaining: 4.06s\n",
      "351:\tlearn: 0.8629124\ttest: 0.8100114\tbest: 0.8174061 (168)\ttotal: 9.6s\tremaining: 4.03s\n",
      "352:\tlearn: 0.8629124\ttest: 0.8094425\tbest: 0.8174061 (168)\ttotal: 9.63s\tremaining: 4.01s\n",
      "353:\tlearn: 0.8631020\ttest: 0.8094425\tbest: 0.8174061 (168)\ttotal: 9.65s\tremaining: 3.98s\n",
      "354:\tlearn: 0.8629124\ttest: 0.8094425\tbest: 0.8174061 (168)\ttotal: 9.68s\tremaining: 3.95s\n",
      "355:\tlearn: 0.8627228\ttest: 0.8100114\tbest: 0.8174061 (168)\ttotal: 9.71s\tremaining: 3.92s\n",
      "356:\tlearn: 0.8625332\ttest: 0.8100114\tbest: 0.8174061 (168)\ttotal: 9.74s\tremaining: 3.9s\n",
      "357:\tlearn: 0.8625332\ttest: 0.8100114\tbest: 0.8174061 (168)\ttotal: 9.75s\tremaining: 3.87s\n",
      "358:\tlearn: 0.8627228\ttest: 0.8100114\tbest: 0.8174061 (168)\ttotal: 9.78s\tremaining: 3.84s\n",
      "359:\tlearn: 0.8632916\ttest: 0.8100114\tbest: 0.8174061 (168)\ttotal: 9.81s\tremaining: 3.81s\n",
      "360:\tlearn: 0.8636708\ttest: 0.8100114\tbest: 0.8174061 (168)\ttotal: 9.83s\tremaining: 3.79s\n",
      "361:\tlearn: 0.8638604\ttest: 0.8100114\tbest: 0.8174061 (168)\ttotal: 9.86s\tremaining: 3.76s\n",
      "362:\tlearn: 0.8646189\ttest: 0.8094425\tbest: 0.8174061 (168)\ttotal: 9.89s\tremaining: 3.73s\n",
      "363:\tlearn: 0.8644293\ttest: 0.8094425\tbest: 0.8174061 (168)\ttotal: 9.93s\tremaining: 3.71s\n",
      "364:\tlearn: 0.8648085\ttest: 0.8088737\tbest: 0.8174061 (168)\ttotal: 9.94s\tremaining: 3.68s\n",
      "365:\tlearn: 0.8648085\ttest: 0.8088737\tbest: 0.8174061 (168)\ttotal: 9.96s\tremaining: 3.65s\n",
      "366:\tlearn: 0.8649981\ttest: 0.8088737\tbest: 0.8174061 (168)\ttotal: 9.99s\tremaining: 3.62s\n",
      "367:\tlearn: 0.8649981\ttest: 0.8088737\tbest: 0.8174061 (168)\ttotal: 10s\tremaining: 3.6s\n",
      "368:\tlearn: 0.8651877\ttest: 0.8077361\tbest: 0.8174061 (168)\ttotal: 10.1s\tremaining: 3.57s\n",
      "369:\tlearn: 0.8653773\ttest: 0.8088737\tbest: 0.8174061 (168)\ttotal: 10.1s\tremaining: 3.54s\n",
      "370:\tlearn: 0.8649981\ttest: 0.8071672\tbest: 0.8174061 (168)\ttotal: 10.1s\tremaining: 3.51s\n",
      "371:\tlearn: 0.8653773\ttest: 0.8077361\tbest: 0.8174061 (168)\ttotal: 10.1s\tremaining: 3.49s\n",
      "372:\tlearn: 0.8649981\ttest: 0.8077361\tbest: 0.8174061 (168)\ttotal: 10.2s\tremaining: 3.46s\n",
      "373:\tlearn: 0.8651877\ttest: 0.8071672\tbest: 0.8174061 (168)\ttotal: 10.2s\tremaining: 3.43s\n",
      "374:\tlearn: 0.8655669\ttest: 0.8083049\tbest: 0.8174061 (168)\ttotal: 10.2s\tremaining: 3.4s\n",
      "375:\tlearn: 0.8659462\ttest: 0.8083049\tbest: 0.8174061 (168)\ttotal: 10.2s\tremaining: 3.38s\n",
      "376:\tlearn: 0.8663254\ttest: 0.8083049\tbest: 0.8174061 (168)\ttotal: 10.3s\tremaining: 3.35s\n",
      "377:\tlearn: 0.8659462\ttest: 0.8071672\tbest: 0.8174061 (168)\ttotal: 10.3s\tremaining: 3.32s\n"
     ]
    },
    {
     "name": "stdout",
     "output_type": "stream",
     "text": [
      "378:\tlearn: 0.8659462\ttest: 0.8071672\tbest: 0.8174061 (168)\ttotal: 10.3s\tremaining: 3.29s\n",
      "379:\tlearn: 0.8661358\ttest: 0.8077361\tbest: 0.8174061 (168)\ttotal: 10.3s\tremaining: 3.26s\n",
      "380:\tlearn: 0.8663254\ttest: 0.8083049\tbest: 0.8174061 (168)\ttotal: 10.4s\tremaining: 3.24s\n",
      "381:\tlearn: 0.8661358\ttest: 0.8083049\tbest: 0.8174061 (168)\ttotal: 10.4s\tremaining: 3.21s\n",
      "382:\tlearn: 0.8665150\ttest: 0.8094425\tbest: 0.8174061 (168)\ttotal: 10.4s\tremaining: 3.18s\n",
      "383:\tlearn: 0.8663254\ttest: 0.8088737\tbest: 0.8174061 (168)\ttotal: 10.4s\tremaining: 3.15s\n",
      "384:\tlearn: 0.8667046\ttest: 0.8088737\tbest: 0.8174061 (168)\ttotal: 10.4s\tremaining: 3.12s\n",
      "385:\tlearn: 0.8672734\ttest: 0.8088737\tbest: 0.8174061 (168)\ttotal: 10.5s\tremaining: 3.1s\n",
      "386:\tlearn: 0.8670838\ttest: 0.8077361\tbest: 0.8174061 (168)\ttotal: 10.5s\tremaining: 3.06s\n",
      "387:\tlearn: 0.8670838\ttest: 0.8077361\tbest: 0.8174061 (168)\ttotal: 10.5s\tremaining: 3.04s\n",
      "388:\tlearn: 0.8670838\ttest: 0.8077361\tbest: 0.8174061 (168)\ttotal: 10.6s\tremaining: 3.01s\n",
      "389:\tlearn: 0.8674630\ttest: 0.8083049\tbest: 0.8174061 (168)\ttotal: 10.6s\tremaining: 2.98s\n",
      "390:\tlearn: 0.8676526\ttest: 0.8083049\tbest: 0.8174061 (168)\ttotal: 10.6s\tremaining: 2.96s\n",
      "391:\tlearn: 0.8674630\ttest: 0.8083049\tbest: 0.8174061 (168)\ttotal: 10.6s\tremaining: 2.93s\n",
      "392:\tlearn: 0.8672734\ttest: 0.8088737\tbest: 0.8174061 (168)\ttotal: 10.7s\tremaining: 2.9s\n",
      "393:\tlearn: 0.8676526\ttest: 0.8094425\tbest: 0.8174061 (168)\ttotal: 10.7s\tremaining: 2.87s\n",
      "394:\tlearn: 0.8680319\ttest: 0.8088737\tbest: 0.8174061 (168)\ttotal: 10.7s\tremaining: 2.85s\n",
      "395:\tlearn: 0.8676526\ttest: 0.8088737\tbest: 0.8174061 (168)\ttotal: 10.8s\tremaining: 2.82s\n",
      "396:\tlearn: 0.8678422\ttest: 0.8088737\tbest: 0.8174061 (168)\ttotal: 10.8s\tremaining: 2.8s\n",
      "397:\tlearn: 0.8678422\ttest: 0.8088737\tbest: 0.8174061 (168)\ttotal: 10.8s\tremaining: 2.77s\n",
      "398:\tlearn: 0.8682215\ttest: 0.8088737\tbest: 0.8174061 (168)\ttotal: 10.8s\tremaining: 2.74s\n",
      "399:\tlearn: 0.8682215\ttest: 0.8088737\tbest: 0.8174061 (168)\ttotal: 10.9s\tremaining: 2.71s\n",
      "400:\tlearn: 0.8687903\ttest: 0.8088737\tbest: 0.8174061 (168)\ttotal: 10.9s\tremaining: 2.69s\n",
      "401:\tlearn: 0.8689799\ttest: 0.8088737\tbest: 0.8174061 (168)\ttotal: 10.9s\tremaining: 2.66s\n",
      "402:\tlearn: 0.8697383\ttest: 0.8094425\tbest: 0.8174061 (168)\ttotal: 10.9s\tremaining: 2.63s\n",
      "403:\tlearn: 0.8699279\ttest: 0.8094425\tbest: 0.8174061 (168)\ttotal: 11s\tremaining: 2.61s\n",
      "404:\tlearn: 0.8703072\ttest: 0.8100114\tbest: 0.8174061 (168)\ttotal: 11s\tremaining: 2.58s\n",
      "405:\tlearn: 0.8706864\ttest: 0.8094425\tbest: 0.8174061 (168)\ttotal: 11s\tremaining: 2.56s\n",
      "406:\tlearn: 0.8708760\ttest: 0.8100114\tbest: 0.8174061 (168)\ttotal: 11.1s\tremaining: 2.53s\n",
      "407:\tlearn: 0.8710656\ttest: 0.8094425\tbest: 0.8174061 (168)\ttotal: 11.1s\tremaining: 2.5s\n",
      "408:\tlearn: 0.8718240\ttest: 0.8094425\tbest: 0.8174061 (168)\ttotal: 11.1s\tremaining: 2.48s\n",
      "409:\tlearn: 0.8718240\ttest: 0.8094425\tbest: 0.8174061 (168)\ttotal: 11.1s\tremaining: 2.45s\n",
      "410:\tlearn: 0.8725825\ttest: 0.8094425\tbest: 0.8174061 (168)\ttotal: 11.2s\tremaining: 2.42s\n",
      "411:\tlearn: 0.8720137\ttest: 0.8083049\tbest: 0.8174061 (168)\ttotal: 11.2s\tremaining: 2.39s\n",
      "412:\tlearn: 0.8718240\ttest: 0.8083049\tbest: 0.8174061 (168)\ttotal: 11.2s\tremaining: 2.36s\n",
      "413:\tlearn: 0.8722033\ttest: 0.8083049\tbest: 0.8174061 (168)\ttotal: 11.2s\tremaining: 2.33s\n",
      "414:\tlearn: 0.8720137\ttest: 0.8083049\tbest: 0.8174061 (168)\ttotal: 11.3s\tremaining: 2.31s\n",
      "415:\tlearn: 0.8718240\ttest: 0.8083049\tbest: 0.8174061 (168)\ttotal: 11.3s\tremaining: 2.28s\n",
      "416:\tlearn: 0.8718240\ttest: 0.8077361\tbest: 0.8174061 (168)\ttotal: 11.3s\tremaining: 2.25s\n",
      "417:\tlearn: 0.8718240\ttest: 0.8077361\tbest: 0.8174061 (168)\ttotal: 11.4s\tremaining: 2.23s\n",
      "418:\tlearn: 0.8720137\ttest: 0.8088737\tbest: 0.8174061 (168)\ttotal: 11.4s\tremaining: 2.2s\n",
      "419:\tlearn: 0.8725825\ttest: 0.8094425\tbest: 0.8174061 (168)\ttotal: 11.4s\tremaining: 2.17s\n",
      "420:\tlearn: 0.8725825\ttest: 0.8083049\tbest: 0.8174061 (168)\ttotal: 11.4s\tremaining: 2.14s\n",
      "421:\tlearn: 0.8723929\ttest: 0.8088737\tbest: 0.8174061 (168)\ttotal: 11.4s\tremaining: 2.12s\n",
      "422:\tlearn: 0.8722033\ttest: 0.8083049\tbest: 0.8174061 (168)\ttotal: 11.5s\tremaining: 2.09s\n",
      "423:\tlearn: 0.8722033\ttest: 0.8083049\tbest: 0.8174061 (168)\ttotal: 11.5s\tremaining: 2.06s\n",
      "424:\tlearn: 0.8716344\ttest: 0.8071672\tbest: 0.8174061 (168)\ttotal: 11.5s\tremaining: 2.03s\n",
      "425:\tlearn: 0.8725825\ttest: 0.8071672\tbest: 0.8174061 (168)\ttotal: 11.6s\tremaining: 2.01s\n",
      "426:\tlearn: 0.8723929\ttest: 0.8077361\tbest: 0.8174061 (168)\ttotal: 11.6s\tremaining: 1.98s\n",
      "427:\tlearn: 0.8725825\ttest: 0.8071672\tbest: 0.8174061 (168)\ttotal: 11.6s\tremaining: 1.96s\n",
      "428:\tlearn: 0.8727721\ttest: 0.8083049\tbest: 0.8174061 (168)\ttotal: 11.7s\tremaining: 1.93s\n",
      "429:\tlearn: 0.8725825\ttest: 0.8083049\tbest: 0.8174061 (168)\ttotal: 11.7s\tremaining: 1.9s\n",
      "430:\tlearn: 0.8725825\ttest: 0.8083049\tbest: 0.8174061 (168)\ttotal: 11.7s\tremaining: 1.87s\n",
      "431:\tlearn: 0.8729617\ttest: 0.8083049\tbest: 0.8174061 (168)\ttotal: 11.7s\tremaining: 1.85s\n",
      "432:\tlearn: 0.8733409\ttest: 0.8071672\tbest: 0.8174061 (168)\ttotal: 11.8s\tremaining: 1.82s\n",
      "433:\tlearn: 0.8735305\ttest: 0.8071672\tbest: 0.8174061 (168)\ttotal: 11.8s\tremaining: 1.79s\n",
      "434:\tlearn: 0.8740994\ttest: 0.8077361\tbest: 0.8174061 (168)\ttotal: 11.8s\tremaining: 1.77s\n",
      "435:\tlearn: 0.8744786\ttest: 0.8077361\tbest: 0.8174061 (168)\ttotal: 11.8s\tremaining: 1.74s\n",
      "436:\tlearn: 0.8748578\ttest: 0.8077361\tbest: 0.8174061 (168)\ttotal: 11.9s\tremaining: 1.71s\n",
      "437:\tlearn: 0.8750474\ttest: 0.8077361\tbest: 0.8174061 (168)\ttotal: 11.9s\tremaining: 1.69s\n",
      "438:\tlearn: 0.8752370\ttest: 0.8071672\tbest: 0.8174061 (168)\ttotal: 11.9s\tremaining: 1.66s\n",
      "439:\tlearn: 0.8754266\ttest: 0.8071672\tbest: 0.8174061 (168)\ttotal: 12s\tremaining: 1.63s\n",
      "440:\tlearn: 0.8761851\ttest: 0.8071672\tbest: 0.8174061 (168)\ttotal: 12s\tremaining: 1.6s\n",
      "441:\tlearn: 0.8759954\ttest: 0.8077361\tbest: 0.8174061 (168)\ttotal: 12s\tremaining: 1.57s\n",
      "442:\tlearn: 0.8758058\ttest: 0.8065984\tbest: 0.8174061 (168)\ttotal: 12s\tremaining: 1.54s\n",
      "443:\tlearn: 0.8763747\ttest: 0.8077361\tbest: 0.8174061 (168)\ttotal: 12s\tremaining: 1.52s\n",
      "444:\tlearn: 0.8758058\ttest: 0.8065984\tbest: 0.8174061 (168)\ttotal: 12s\tremaining: 1.49s\n",
      "445:\tlearn: 0.8763747\ttest: 0.8083049\tbest: 0.8174061 (168)\ttotal: 12.1s\tremaining: 1.46s\n",
      "446:\tlearn: 0.8763747\ttest: 0.8077361\tbest: 0.8174061 (168)\ttotal: 12.1s\tremaining: 1.43s\n",
      "447:\tlearn: 0.8767539\ttest: 0.8077361\tbest: 0.8174061 (168)\ttotal: 12.1s\tremaining: 1.41s\n",
      "448:\tlearn: 0.8765643\ttest: 0.8077361\tbest: 0.8174061 (168)\ttotal: 12.2s\tremaining: 1.38s\n",
      "449:\tlearn: 0.8767539\ttest: 0.8077361\tbest: 0.8174061 (168)\ttotal: 12.2s\tremaining: 1.35s\n",
      "450:\tlearn: 0.8765643\ttest: 0.8083049\tbest: 0.8174061 (168)\ttotal: 12.2s\tremaining: 1.33s\n",
      "451:\tlearn: 0.8773227\ttest: 0.8071672\tbest: 0.8174061 (168)\ttotal: 12.3s\tremaining: 1.3s\n",
      "452:\tlearn: 0.8771331\ttest: 0.8083049\tbest: 0.8174061 (168)\ttotal: 12.3s\tremaining: 1.28s\n",
      "453:\tlearn: 0.8769435\ttest: 0.8077361\tbest: 0.8174061 (168)\ttotal: 12.3s\tremaining: 1.25s\n",
      "454:\tlearn: 0.8773227\ttest: 0.8071672\tbest: 0.8174061 (168)\ttotal: 12.3s\tremaining: 1.22s\n",
      "455:\tlearn: 0.8775123\ttest: 0.8071672\tbest: 0.8174061 (168)\ttotal: 12.4s\tremaining: 1.19s\n",
      "456:\tlearn: 0.8777019\ttest: 0.8083049\tbest: 0.8174061 (168)\ttotal: 12.4s\tremaining: 1.17s\n",
      "457:\tlearn: 0.8778915\ttest: 0.8077361\tbest: 0.8174061 (168)\ttotal: 12.4s\tremaining: 1.14s\n",
      "458:\tlearn: 0.8778915\ttest: 0.8083049\tbest: 0.8174061 (168)\ttotal: 12.5s\tremaining: 1.11s\n",
      "459:\tlearn: 0.8778915\ttest: 0.8083049\tbest: 0.8174061 (168)\ttotal: 12.5s\tremaining: 1.08s\n",
      "460:\tlearn: 0.8775123\ttest: 0.8088737\tbest: 0.8174061 (168)\ttotal: 12.5s\tremaining: 1.06s\n",
      "461:\tlearn: 0.8773227\ttest: 0.8077361\tbest: 0.8174061 (168)\ttotal: 12.5s\tremaining: 1.03s\n",
      "462:\tlearn: 0.8769435\ttest: 0.8077361\tbest: 0.8174061 (168)\ttotal: 12.6s\tremaining: 1s\n",
      "463:\tlearn: 0.8773227\ttest: 0.8071672\tbest: 0.8174061 (168)\ttotal: 12.6s\tremaining: 978ms\n",
      "464:\tlearn: 0.8773227\ttest: 0.8071672\tbest: 0.8174061 (168)\ttotal: 12.6s\tremaining: 950ms\n",
      "465:\tlearn: 0.8773227\ttest: 0.8071672\tbest: 0.8174061 (168)\ttotal: 12.7s\tremaining: 924ms\n",
      "466:\tlearn: 0.8775123\ttest: 0.8065984\tbest: 0.8174061 (168)\ttotal: 12.7s\tremaining: 897ms\n",
      "467:\tlearn: 0.8773227\ttest: 0.8065984\tbest: 0.8174061 (168)\ttotal: 12.7s\tremaining: 870ms\n",
      "468:\tlearn: 0.8775123\ttest: 0.8060296\tbest: 0.8174061 (168)\ttotal: 12.8s\tremaining: 843ms\n",
      "469:\tlearn: 0.8780812\ttest: 0.8077361\tbest: 0.8174061 (168)\ttotal: 12.8s\tremaining: 816ms\n",
      "470:\tlearn: 0.8778915\ttest: 0.8071672\tbest: 0.8174061 (168)\ttotal: 12.8s\tremaining: 789ms\n",
      "471:\tlearn: 0.8778915\ttest: 0.8065984\tbest: 0.8174061 (168)\ttotal: 12.8s\tremaining: 761ms\n",
      "472:\tlearn: 0.8778915\ttest: 0.8071672\tbest: 0.8174061 (168)\ttotal: 12.9s\tremaining: 734ms\n"
     ]
    },
    {
     "name": "stdout",
     "output_type": "stream",
     "text": [
      "473:\tlearn: 0.8782708\ttest: 0.8065984\tbest: 0.8174061 (168)\ttotal: 12.9s\tremaining: 707ms\n",
      "474:\tlearn: 0.8777019\ttest: 0.8065984\tbest: 0.8174061 (168)\ttotal: 12.9s\tremaining: 681ms\n",
      "475:\tlearn: 0.8777019\ttest: 0.8065984\tbest: 0.8174061 (168)\ttotal: 12.9s\tremaining: 653ms\n",
      "476:\tlearn: 0.8780812\ttest: 0.8060296\tbest: 0.8174061 (168)\ttotal: 13s\tremaining: 626ms\n",
      "477:\tlearn: 0.8782708\ttest: 0.8060296\tbest: 0.8174061 (168)\ttotal: 13s\tremaining: 598ms\n",
      "478:\tlearn: 0.8782708\ttest: 0.8060296\tbest: 0.8174061 (168)\ttotal: 13s\tremaining: 571ms\n",
      "479:\tlearn: 0.8782708\ttest: 0.8065984\tbest: 0.8174061 (168)\ttotal: 13.1s\tremaining: 544ms\n",
      "480:\tlearn: 0.8790292\ttest: 0.8077361\tbest: 0.8174061 (168)\ttotal: 13.1s\tremaining: 517ms\n",
      "481:\tlearn: 0.8790292\ttest: 0.8077361\tbest: 0.8174061 (168)\ttotal: 13.1s\tremaining: 490ms\n",
      "482:\tlearn: 0.8786500\ttest: 0.8071672\tbest: 0.8174061 (168)\ttotal: 13.2s\tremaining: 463ms\n",
      "483:\tlearn: 0.8792188\ttest: 0.8071672\tbest: 0.8174061 (168)\ttotal: 13.2s\tremaining: 436ms\n",
      "484:\tlearn: 0.8794084\ttest: 0.8071672\tbest: 0.8174061 (168)\ttotal: 13.2s\tremaining: 409ms\n",
      "485:\tlearn: 0.8797876\ttest: 0.8071672\tbest: 0.8174061 (168)\ttotal: 13.2s\tremaining: 381ms\n",
      "486:\tlearn: 0.8797876\ttest: 0.8071672\tbest: 0.8174061 (168)\ttotal: 13.2s\tremaining: 354ms\n",
      "487:\tlearn: 0.8799772\ttest: 0.8071672\tbest: 0.8174061 (168)\ttotal: 13.3s\tremaining: 327ms\n",
      "488:\tlearn: 0.8799772\ttest: 0.8071672\tbest: 0.8174061 (168)\ttotal: 13.3s\tremaining: 299ms\n",
      "489:\tlearn: 0.8799772\ttest: 0.8065984\tbest: 0.8174061 (168)\ttotal: 13.3s\tremaining: 272ms\n",
      "490:\tlearn: 0.8799772\ttest: 0.8065984\tbest: 0.8174061 (168)\ttotal: 13.3s\tremaining: 244ms\n",
      "491:\tlearn: 0.8799772\ttest: 0.8065984\tbest: 0.8174061 (168)\ttotal: 13.4s\tremaining: 217ms\n",
      "492:\tlearn: 0.8797876\ttest: 0.8065984\tbest: 0.8174061 (168)\ttotal: 13.4s\tremaining: 190ms\n",
      "493:\tlearn: 0.8797876\ttest: 0.8065984\tbest: 0.8174061 (168)\ttotal: 13.4s\tremaining: 163ms\n",
      "494:\tlearn: 0.8801669\ttest: 0.8071672\tbest: 0.8174061 (168)\ttotal: 13.4s\tremaining: 135ms\n",
      "495:\tlearn: 0.8797876\ttest: 0.8071672\tbest: 0.8174061 (168)\ttotal: 13.4s\tremaining: 108ms\n",
      "496:\tlearn: 0.8792188\ttest: 0.8071672\tbest: 0.8174061 (168)\ttotal: 13.4s\tremaining: 81.2ms\n",
      "497:\tlearn: 0.8792188\ttest: 0.8071672\tbest: 0.8174061 (168)\ttotal: 13.5s\tremaining: 54.1ms\n",
      "498:\tlearn: 0.8799772\ttest: 0.8071672\tbest: 0.8174061 (168)\ttotal: 13.5s\tremaining: 27.1ms\n",
      "499:\tlearn: 0.8797876\ttest: 0.8060296\tbest: 0.8174061 (168)\ttotal: 13.5s\tremaining: 0us\n",
      "\n",
      "bestTest = 0.8174061433\n",
      "bestIteration = 168\n",
      "\n",
      "Shrink model to first 169 iterations.\n"
     ]
    },
    {
     "data": {
      "text/plain": [
       "<catboost.core.CatBoostClassifier at 0x28a3a59e788>"
      ]
     },
     "execution_count": 79,
     "metadata": {},
     "output_type": "execute_result"
    }
   ],
   "source": [
    "cbm_best.fit(X_train,\n",
    "             y_train,\n",
    "             cat_features=cat_att,\n",
    "             eval_set=D_test)"
   ]
  },
  {
   "cell_type": "code",
   "execution_count": 80,
   "metadata": {},
   "outputs": [
    {
     "data": {
      "text/plain": [
       "{'learn': {'Accuracy': 0.8801668562760713,\n",
       "  'Logloss': 0.28368547685913187,\n",
       "  'AUC': 0.9468061211068177},\n",
       " 'validation': {'Accuracy': 0.8174061433447098,\n",
       "  'Logloss': 0.4102177766200479,\n",
       "  'AUC': 0.8499890076213825}}"
      ]
     },
     "execution_count": 80,
     "metadata": {},
     "output_type": "execute_result"
    }
   ],
   "source": [
    "cbm_best.best_score_"
   ]
  },
  {
   "cell_type": "code",
   "execution_count": 81,
   "metadata": {},
   "outputs": [
    {
     "name": "stdout",
     "output_type": "stream",
     "text": [
      "Best Iteration:  168\n",
      "{'learn': {'Accuracy': 0.8801668562760713, 'Logloss': 0.28368547685913187, 'AUC': 0.9468061211068177}, 'validation': {'Accuracy': 0.8174061433447098, 'Logloss': 0.4102177766200479, 'AUC': 0.8499890076213825}}\n"
     ]
    }
   ],
   "source": [
    "print('Best Iteration: ', cbm_best.get_best_iteration())\n",
    "best_scores = cbm_best.get_best_score()\n",
    "print(best_scores)"
   ]
  },
  {
   "cell_type": "code",
   "execution_count": 82,
   "metadata": {},
   "outputs": [
    {
     "name": "stdout",
     "output_type": "stream",
     "text": [
      "Train Acc: 0.828\n",
      "Test Acc: 0.817\n",
      "Train AUC: 0.947\n",
      "Test AUC: 0.850\n"
     ]
    }
   ],
   "source": [
    "cbm_best_accuracy_train = cbm_best.score(X_train, y_train)\n",
    "cbm_best_accuracy_test = cbm_best.score(X_test, y_test)\n",
    "print('Train Acc: %.3f' % cbm_best_accuracy_train)\n",
    "print('Test Acc: %.3f' % cbm_best_accuracy_test)\n",
    "\n",
    "cbm_best_auc_train = best_scores['learn']['AUC']\n",
    "cbm_best_auc_test = best_scores['validation']['AUC']\n",
    "print('Train AUC: %.3f' % cbm_best_auc_train)\n",
    "print('Test AUC: %.3f' % cbm_best_auc_test)"
   ]
  },
  {
   "cell_type": "code",
   "execution_count": 83,
   "metadata": {},
   "outputs": [
    {
     "data": {
      "text/plain": [
       "0.9468061211068177"
      ]
     },
     "execution_count": 83,
     "metadata": {},
     "output_type": "execute_result"
    }
   ],
   "source": [
    "best_scores['learn']['AUC']"
   ]
  },
  {
   "cell_type": "code",
   "execution_count": 84,
   "metadata": {},
   "outputs": [
    {
     "data": {
      "text/plain": [
       "array([[3564.,  305.],\n",
       "       [ 601.,  804.]])"
      ]
     },
     "execution_count": 84,
     "metadata": {},
     "output_type": "execute_result"
    }
   ],
   "source": [
    "get_confusion_matrix(cbm_best, D_train)"
   ]
  },
  {
   "cell_type": "code",
   "execution_count": 85,
   "metadata": {},
   "outputs": [
    {
     "data": {
      "text/plain": [
       "array([[1165.,  129.],\n",
       "       [ 192.,  272.]])"
      ]
     },
     "execution_count": 85,
     "metadata": {},
     "output_type": "execute_result"
    }
   ],
   "source": [
    "get_confusion_matrix(cbm_best, D_test)"
   ]
  },
  {
   "cell_type": "markdown",
   "metadata": {},
   "source": [
    "**Feature Importance Analysis**"
   ]
  },
  {
   "cell_type": "code",
   "execution_count": 86,
   "metadata": {},
   "outputs": [
    {
     "data": {
      "text/html": [
       "<div>\n",
       "<style scoped>\n",
       "    .dataframe tbody tr th:only-of-type {\n",
       "        vertical-align: middle;\n",
       "    }\n",
       "\n",
       "    .dataframe tbody tr th {\n",
       "        vertical-align: top;\n",
       "    }\n",
       "\n",
       "    .dataframe thead th {\n",
       "        text-align: right;\n",
       "    }\n",
       "</style>\n",
       "<table border=\"1\" class=\"dataframe\">\n",
       "  <thead>\n",
       "    <tr style=\"text-align: right;\">\n",
       "      <th></th>\n",
       "      <th>Feature Id</th>\n",
       "      <th>Importances</th>\n",
       "    </tr>\n",
       "  </thead>\n",
       "  <tbody>\n",
       "    <tr>\n",
       "      <th>0</th>\n",
       "      <td>Contract</td>\n",
       "      <td>20.728631</td>\n",
       "    </tr>\n",
       "    <tr>\n",
       "      <th>1</th>\n",
       "      <td>tenure</td>\n",
       "      <td>11.625854</td>\n",
       "    </tr>\n",
       "    <tr>\n",
       "      <th>2</th>\n",
       "      <td>InternetService</td>\n",
       "      <td>10.890315</td>\n",
       "    </tr>\n",
       "    <tr>\n",
       "      <th>3</th>\n",
       "      <td>tenure_group</td>\n",
       "      <td>10.340728</td>\n",
       "    </tr>\n",
       "    <tr>\n",
       "      <th>4</th>\n",
       "      <td>MonthlyCharges</td>\n",
       "      <td>7.502085</td>\n",
       "    </tr>\n",
       "    <tr>\n",
       "      <th>5</th>\n",
       "      <td>PaymentMethod</td>\n",
       "      <td>6.686654</td>\n",
       "    </tr>\n",
       "    <tr>\n",
       "      <th>6</th>\n",
       "      <td>TotalCharges</td>\n",
       "      <td>5.189842</td>\n",
       "    </tr>\n",
       "    <tr>\n",
       "      <th>7</th>\n",
       "      <td>PaperlessBilling</td>\n",
       "      <td>4.563436</td>\n",
       "    </tr>\n",
       "    <tr>\n",
       "      <th>8</th>\n",
       "      <td>MultipleLines</td>\n",
       "      <td>4.183979</td>\n",
       "    </tr>\n",
       "    <tr>\n",
       "      <th>9</th>\n",
       "      <td>TechSupport</td>\n",
       "      <td>3.204279</td>\n",
       "    </tr>\n",
       "    <tr>\n",
       "      <th>10</th>\n",
       "      <td>StreamingMovies</td>\n",
       "      <td>2.398698</td>\n",
       "    </tr>\n",
       "    <tr>\n",
       "      <th>11</th>\n",
       "      <td>StreamingTV</td>\n",
       "      <td>2.309289</td>\n",
       "    </tr>\n",
       "    <tr>\n",
       "      <th>12</th>\n",
       "      <td>gender</td>\n",
       "      <td>2.275758</td>\n",
       "    </tr>\n",
       "    <tr>\n",
       "      <th>13</th>\n",
       "      <td>OnlineSecurity</td>\n",
       "      <td>1.997161</td>\n",
       "    </tr>\n",
       "    <tr>\n",
       "      <th>14</th>\n",
       "      <td>OnlineBackup</td>\n",
       "      <td>1.746260</td>\n",
       "    </tr>\n",
       "    <tr>\n",
       "      <th>15</th>\n",
       "      <td>SeniorCitizen</td>\n",
       "      <td>1.610388</td>\n",
       "    </tr>\n",
       "    <tr>\n",
       "      <th>16</th>\n",
       "      <td>Dependents</td>\n",
       "      <td>1.133656</td>\n",
       "    </tr>\n",
       "    <tr>\n",
       "      <th>17</th>\n",
       "      <td>Partner</td>\n",
       "      <td>0.968104</td>\n",
       "    </tr>\n",
       "    <tr>\n",
       "      <th>18</th>\n",
       "      <td>DeviceProtection</td>\n",
       "      <td>0.417478</td>\n",
       "    </tr>\n",
       "    <tr>\n",
       "      <th>19</th>\n",
       "      <td>PhoneService</td>\n",
       "      <td>0.227405</td>\n",
       "    </tr>\n",
       "  </tbody>\n",
       "</table>\n",
       "</div>"
      ],
      "text/plain": [
       "          Feature Id  Importances\n",
       "0           Contract    20.728631\n",
       "1             tenure    11.625854\n",
       "2    InternetService    10.890315\n",
       "3       tenure_group    10.340728\n",
       "4     MonthlyCharges     7.502085\n",
       "5      PaymentMethod     6.686654\n",
       "6       TotalCharges     5.189842\n",
       "7   PaperlessBilling     4.563436\n",
       "8      MultipleLines     4.183979\n",
       "9        TechSupport     3.204279\n",
       "10   StreamingMovies     2.398698\n",
       "11       StreamingTV     2.309289\n",
       "12            gender     2.275758\n",
       "13    OnlineSecurity     1.997161\n",
       "14      OnlineBackup     1.746260\n",
       "15     SeniorCitizen     1.610388\n",
       "16        Dependents     1.133656\n",
       "17           Partner     0.968104\n",
       "18  DeviceProtection     0.417478\n",
       "19      PhoneService     0.227405"
      ]
     },
     "execution_count": 86,
     "metadata": {},
     "output_type": "execute_result"
    }
   ],
   "source": [
    "feature_importance_df = cbm_best.get_feature_importance(prettified=True)\n",
    "feature_importance_df"
   ]
  },
  {
   "cell_type": "code",
   "execution_count": 87,
   "metadata": {},
   "outputs": [
    {
     "data": {
      "text/plain": [
       "Text(0.5, 1.0, 'Top 10 CatBoost Features Importance')"
      ]
     },
     "execution_count": 87,
     "metadata": {},
     "output_type": "execute_result"
    },
    {
     "data": {
      "image/png": "[encoded data removed]",
      "text/plain": [
       "<Figure size 1080x720 with 1 Axes>"
      ]
     },
     "metadata": {
      "needs_background": "light"
     },
     "output_type": "display_data"
    }
   ],
   "source": [
    "plt.figure(figsize=(15,10))\n",
    "sns.barplot(x='Feature Id',\n",
    "            y='Importances',\n",
    "            data=feature_importance_df[:10])\n",
    "plt.title('Top 10 CatBoost Features Importance')"
   ]
  },
  {
   "cell_type": "markdown",
   "metadata": {},
   "source": [
    "### 6.4 XGBoost"
   ]
  },
  {
   "cell_type": "markdown",
   "metadata": {},
   "source": [
    "XGBoost is an optimized distributed gradient boosting library designed to be highly efficient, flexible and portable. It implements machine learning algorithms under the Gradient Boosting framework. XGBoost provides a parallel tree boosting (also known as GBDT, GBM) that solve many data science problems in a fast and accurate way. "
   ]
  },
  {
   "cell_type": "code",
   "execution_count": 88,
   "metadata": {},
   "outputs": [],
   "source": [
    "one_hot_cols = pd.get_dummies(X_train).columns.tolist()\n",
    "X_tr = pd.DataFrame(X_train_prepared, columns=one_hot_cols)\n",
    "X_te = pd.DataFrame(X_test_prepared, columns=one_hot_cols)"
   ]
  },
  {
   "cell_type": "code",
   "execution_count": 89,
   "metadata": {},
   "outputs": [
    {
     "data": {
      "text/plain": [
       "XGBClassifier(base_score=0.5, booster='gbtree', colsample_bylevel=1,\n",
       "              colsample_bynode=1, colsample_bytree=1, gamma=0, gpu_id=-1,\n",
       "              importance_type='gain', interaction_constraints='',\n",
       "              learning_rate=0.1, max_delta_step=0, max_depth=5,\n",
       "              min_child_weight=1, missing=nan, monotone_constraints='()',\n",
       "              n_estimators=100, n_jobs=-1, num_parallel_tree=1,\n",
       "              objective='binary:logistic', random_state=0, reg_alpha=0,\n",
       "              reg_lambda=1, scale_pos_weight=1, subsample=1,\n",
       "              tree_method='exact', validate_parameters=1, verbosity=None)"
      ]
     },
     "execution_count": 89,
     "metadata": {},
     "output_type": "execute_result"
    }
   ],
   "source": [
    "xgb = XGBClassifier(max_depth=5,\n",
    "                    learning_rate=0.1,\n",
    "                    objective='binary:logistic',\n",
    "                    n_jobs=-1)\n",
    "xgb.fit(X_tr, y_train)"
   ]
  },
  {
   "cell_type": "code",
   "execution_count": 90,
   "metadata": {},
   "outputs": [
    {
     "name": "stdout",
     "output_type": "stream",
     "text": [
      "Accuracy of XGB Classifier on training set: 0.855\n",
      "Accuracy of XGB Classifier on test set: 0.816\n"
     ]
    }
   ],
   "source": [
    "print('Accuracy of XGB Classifier on training set: {:.3f}'.\n",
    "      format(xgb.score(X_tr, y_train)))\n",
    "print('Accuracy of XGB Classifier on test set: {:.3f}'.\n",
    "      format(xgb.score(X_te, y_test)))"
   ]
  },
  {
   "cell_type": "code",
   "execution_count": 91,
   "metadata": {},
   "outputs": [
    {
     "name": "stdout",
     "output_type": "stream",
     "text": [
      "Cross-Validation Training Set Results:\n",
      "      Avg CV AUC: 0.836\n",
      "      Avg CV Acc: 0.794\n",
      "Avg CV Precision: 0.642\n",
      "   Avg CV Recall: 0.513\n",
      "\n",
      " Cross Validation Test Set Results:\n",
      "      Avg CV AUC: 0.821\n",
      "      Avg CV Acc: 0.790\n",
      "Avg CV Precision: 0.633\n",
      "   Avg CV Recall: 0.515\n"
     ]
    },
    {
     "data": {
      "text/plain": [
       "(0.8208430213143348, 0.7900997150997151, 0.63252232083473, 0.5151238896680692)"
      ]
     },
     "execution_count": 91,
     "metadata": {},
     "output_type": "execute_result"
    }
   ],
   "source": [
    "print('Cross-Validation Training Set Results:')\n",
    "cv_model_scores(xgb, X_tr, y_train)\n",
    "print('\\n Cross Validation Test Set Results:')\n",
    "cv_model_scores(xgb, X_te, y_test)"
   ]
  },
  {
   "cell_type": "markdown",
   "metadata": {},
   "source": [
    "**Hyperparamter Optimization**\n",
    "\n",
    "We will now implement a function optimizer using Hyperopt aiming at identifying the hyperparamters that yield the lowest **Logloss** and highest **Accuracy**:"
   ]
  },
  {
   "cell_type": "code",
   "execution_count": 92,
   "metadata": {},
   "outputs": [],
   "source": [
    "# Setting up the space dictionary\n",
    "\n",
    "space = {'max_depth': hp.quniform('max_depth', 2, 10, 2),\n",
    "         'nthread': hp.randint('nthread', 10),\n",
    "         'eta': hp.uniform('eta', 0, 1.0) # learning rate\n",
    "}"
   ]
  },
  {
   "cell_type": "code",
   "execution_count": 93,
   "metadata": {},
   "outputs": [],
   "source": [
    "def objective(params):\n",
    "    params = {'max_depth': int(params['max_depth']),\n",
    "              'nthread': params['nthread'],\n",
    "              'eta': params['eta']}\n",
    "    xgb_clf = XGBClassifier(**params) \n",
    "    best_score = cross_val_score(xgb_clf, X_tr, y_train, \n",
    "                                 scoring='accuracy', cv=5, n_jobs=-1).mean()\n",
    "    loss = 1 - best_score\n",
    "    return loss"
   ]
  },
  {
   "cell_type": "code",
   "execution_count": 94,
   "metadata": {},
   "outputs": [
    {
     "name": "stdout",
     "output_type": "stream",
     "text": [
      "100%|██████████| 20/20 [00:57<00:00,  2.86s/trial, best loss: 0.1981447341205248]\n",
      "{'eta': 0.08441494262485238, 'max_depth': 2.0, 'nthread': 3}\n"
     ]
    }
   ],
   "source": [
    "# Run the algorithm\n",
    "best = fmin(fn=objective,\n",
    "            space=space, \n",
    "            max_evals=20, \n",
    "            rstate=np.random.RandomState(24), \n",
    "            algo=tpe.suggest)\n",
    "print(best)"
   ]
  },
  {
   "cell_type": "code",
   "execution_count": 95,
   "metadata": {},
   "outputs": [
    {
     "data": {
      "text/plain": [
       "XGBClassifier(base_score=0.5, booster='gbtree', colsample_bylevel=1,\n",
       "              colsample_bynode=1, colsample_bytree=1, eta=0.08441494262485238,\n",
       "              gamma=0, gpu_id=-1, importance_type='gain',\n",
       "              interaction_constraints='', learning_rate=0.0844149441,\n",
       "              max_delta_step=0, max_depth=2, min_child_weight=1, missing=nan,\n",
       "              monotone_constraints='()', n_estimators=100, n_jobs=3, nthread=3,\n",
       "              num_parallel_tree=1, objective='binary:logistic', random_state=0,\n",
       "              reg_alpha=0, reg_lambda=1, scale_pos_weight=1, subsample=1,\n",
       "              tree_method='exact', validate_parameters=1, verbosity=None)"
      ]
     },
     "execution_count": 95,
     "metadata": {},
     "output_type": "execute_result"
    }
   ],
   "source": [
    "best_xgb = XGBClassifier(eta=best['eta'],\n",
    "                         max_depth=int(best['max_depth']),\n",
    "                         nthread=best['nthread'])\n",
    "best_xgb.fit(X_tr, y_train)"
   ]
  },
  {
   "cell_type": "code",
   "execution_count": 96,
   "metadata": {},
   "outputs": [
    {
     "name": "stdout",
     "output_type": "stream",
     "text": [
      "Accuracy of XGB Classifier on training set: 0.813\n",
      "Accuracy of XGB Classifier on test set: 0.814\n"
     ]
    }
   ],
   "source": [
    "best_xgb_tr_acc = best_xgb.score(X_tr, y_train)\n",
    "best_xgb_te_acc = best_xgb.score(X_te, y_test)\n",
    "\n",
    "print('Accuracy of XGB Classifier on training set: {:.3f}'.\n",
    "      format(best_xgb_tr_acc))\n",
    "print('Accuracy of XGB Classifier on test set: {:.3f}'.\n",
    "      format(best_xgb_te_acc))"
   ]
  },
  {
   "cell_type": "code",
   "execution_count": 97,
   "metadata": {},
   "outputs": [
    {
     "name": "stdout",
     "output_type": "stream",
     "text": [
      "Cross-Validation Training Set Results:\n",
      "      Avg CV AUC: 0.847\n",
      "      Avg CV Acc: 0.802\n",
      "Avg CV Precision: 0.670\n",
      "   Avg CV Recall: 0.507\n",
      "\n",
      " Cross Validation Test Set Results:\n",
      "      Avg CV AUC: 0.843\n",
      "      Avg CV Acc: 0.801\n",
      "Avg CV Precision: 0.658\n",
      "   Avg CV Recall: 0.524\n"
     ]
    }
   ],
   "source": [
    "print('Cross-Validation Training Set Results:')\n",
    "xgb_tr_auc, xgb_tr_acc, xgb_tr_pre, xgb_tr_rec = cv_model_scores(best_xgb, X_tr, y_train)\n",
    "print('\\n Cross Validation Test Set Results:')\n",
    "xgb_te_auc, xgb_te_acc, xgb_te_pre, xgb_te_rec = cv_model_scores(best_xgb, X_te, y_test)"
   ]
  },
  {
   "cell_type": "markdown",
   "metadata": {},
   "source": [
    "Let's now take a look at XGBoost's interpretation of the most important features used in the model."
   ]
  },
  {
   "cell_type": "code",
   "execution_count": 98,
   "metadata": {},
   "outputs": [
    {
     "data": {
      "text/plain": [
       "<matplotlib.axes._subplots.AxesSubplot at 0x28a3bc2fc48>"
      ]
     },
     "execution_count": 98,
     "metadata": {},
     "output_type": "execute_result"
    },
    {
     "data": {
      "image/png": "[encoded data removed]",
      "text/plain": [
       "<Figure size 576x576 with 1 Axes>"
      ]
     },
     "metadata": {
      "needs_background": "light"
     },
     "output_type": "display_data"
    }
   ],
   "source": [
    "fig, ax = plt.subplots(figsize=(8,8))\n",
    "plot_importance(best_xgb, ax=ax)"
   ]
  },
  {
   "cell_type": "markdown",
   "metadata": {},
   "source": [
    "We can see that according to our XGB model, the most important variables to predict churn rates are:\n",
    "* Tenure\n",
    "* Monthly Charges\n",
    "* Total Charges"
   ]
  },
  {
   "cell_type": "markdown",
   "metadata": {},
   "source": [
    "Let's have a look at the confusion matrix:"
   ]
  },
  {
   "cell_type": "code",
   "execution_count": 130,
   "metadata": {},
   "outputs": [
    {
     "name": "stdout",
     "output_type": "stream",
     "text": [
      "[[3530  339]\n",
      " [ 645  760]]\n"
     ]
    },
    {
     "data": {
      "image/png": "[encoded data removed]",
      "text/plain": [
       "<Figure size 432x288 with 2 Axes>"
      ]
     },
     "metadata": {
      "needs_background": "light"
     },
     "output_type": "display_data"
    }
   ],
   "source": [
    "y_pred = best_xgb.predict(X_tr)\n",
    "conf_mat = confusion_matrix(y_train, y_pred)\n",
    "print(conf_mat)\n",
    "confusion_matrix_ = pd.crosstab(y_train, y_pred, rownames=['Actual'], colnames=['Predicted'])\n",
    "sns.heatmap(confusion_matrix_, annot=True, fmt=\"d\")\n",
    "plt.show()"
   ]
  },
  {
   "cell_type": "code",
   "execution_count": 131,
   "metadata": {},
   "outputs": [
    {
     "name": "stdout",
     "output_type": "stream",
     "text": [
      "[[1180  114]\n",
      " [ 213  251]]\n"
     ]
    },
    {
     "data": {
      "image/png": "[encoded data removed]",
      "text/plain": [
       "<Figure size 432x288 with 2 Axes>"
      ]
     },
     "metadata": {
      "needs_background": "light"
     },
     "output_type": "display_data"
    }
   ],
   "source": [
    "y_pred_te = best_xgb.predict(X_te)\n",
    "conf_mat_te = confusion_matrix(y_test, y_pred_te)\n",
    "print(conf_mat_te)\n",
    "confusion_matrix_te = pd.crosstab(y_test, y_pred_te, rownames=['Actual'], colnames=['Predicted'])\n",
    "sns.heatmap(confusion_matrix_te, annot=True, fmt=\"d\")\n",
    "plt.show()"
   ]
  },
  {
   "cell_type": "markdown",
   "metadata": {},
   "source": [
    "## 7. Final Results"
   ]
  },
  {
   "cell_type": "code",
   "execution_count": 99,
   "metadata": {},
   "outputs": [],
   "source": [
    "index_=['Naiva Bayes', \n",
    "        'Logistic Regression', \n",
    "        'Random Forest (Random Grid Search)',\n",
    "        'Support Vector Machine',\n",
    "        'CatBoost (HyperOpt)',\n",
    "        'XGBoost (HyperOpt)']\n",
    "\n",
    "all_models = {'Training Accuracy':np.round([nbm_tr_acc,\n",
    "                                            lgm_tr_acc,\n",
    "                                            rfm_tr_acc,\n",
    "                                            svm_tr_acc,\n",
    "                                            cbm_best_accuracy_train,\n",
    "                                            best_xgb_tr_acc], 3),\n",
    "              'Test Accuracy':np.round([nbm_te_acc,\n",
    "                                        lgm_te_acc,\n",
    "                                        rfm_te_acc,\n",
    "                                        svm_te_acc,\n",
    "                                        cbm_best_accuracy_test,\n",
    "                                        best_xgb_te_acc],3),\n",
    "              'Training AUC':np.round([nbm_tr_auc,\n",
    "                                       lgm_tr_auc,\n",
    "                                       rfm_tr_acc,\n",
    "                                       svm_tr_auc,\n",
    "                                       cbm_best_auc_train,\n",
    "                                       xgb_tr_auc], 3),\n",
    "              'Test AUC':np.round([nbm_te_auc,\n",
    "                                   lgm_te_auc,\n",
    "                                   rfm_te_auc,\n",
    "                                   svm_te_auc,\n",
    "                                   cbm_best_auc_test,\n",
    "                                   xgb_te_auc],3)\n",
    "    \n",
    "}"
   ]
  },
  {
   "cell_type": "code",
   "execution_count": 100,
   "metadata": {},
   "outputs": [
    {
     "data": {
      "text/html": [
       "<div>\n",
       "<style scoped>\n",
       "    .dataframe tbody tr th:only-of-type {\n",
       "        vertical-align: middle;\n",
       "    }\n",
       "\n",
       "    .dataframe tbody tr th {\n",
       "        vertical-align: top;\n",
       "    }\n",
       "\n",
       "    .dataframe thead th {\n",
       "        text-align: right;\n",
       "    }\n",
       "</style>\n",
       "<table border=\"1\" class=\"dataframe\">\n",
       "  <thead>\n",
       "    <tr style=\"text-align: right;\">\n",
       "      <th></th>\n",
       "      <th>Training Accuracy</th>\n",
       "      <th>Test Accuracy</th>\n",
       "      <th>Training AUC</th>\n",
       "      <th>Test AUC</th>\n",
       "    </tr>\n",
       "  </thead>\n",
       "  <tbody>\n",
       "    <tr>\n",
       "      <th>CatBoost (HyperOpt)</th>\n",
       "      <td>0.828</td>\n",
       "      <td>0.817</td>\n",
       "      <td>0.947</td>\n",
       "      <td>0.850</td>\n",
       "    </tr>\n",
       "    <tr>\n",
       "      <th>XGBoost (HyperOpt)</th>\n",
       "      <td>0.813</td>\n",
       "      <td>0.814</td>\n",
       "      <td>0.847</td>\n",
       "      <td>0.843</td>\n",
       "    </tr>\n",
       "    <tr>\n",
       "      <th>Logistic Regression</th>\n",
       "      <td>0.804</td>\n",
       "      <td>0.796</td>\n",
       "      <td>0.846</td>\n",
       "      <td>0.836</td>\n",
       "    </tr>\n",
       "    <tr>\n",
       "      <th>Random Forest (Random Grid Search)</th>\n",
       "      <td>0.781</td>\n",
       "      <td>0.796</td>\n",
       "      <td>0.781</td>\n",
       "      <td>0.822</td>\n",
       "    </tr>\n",
       "    <tr>\n",
       "      <th>Support Vector Machine</th>\n",
       "      <td>0.795</td>\n",
       "      <td>0.795</td>\n",
       "      <td>0.830</td>\n",
       "      <td>0.817</td>\n",
       "    </tr>\n",
       "    <tr>\n",
       "      <th>Naiva Bayes</th>\n",
       "      <td>0.747</td>\n",
       "      <td>0.743</td>\n",
       "      <td>0.831</td>\n",
       "      <td>0.824</td>\n",
       "    </tr>\n",
       "  </tbody>\n",
       "</table>\n",
       "</div>"
      ],
      "text/plain": [
       "                                    Training Accuracy  Test Accuracy  \\\n",
       "CatBoost (HyperOpt)                             0.828          0.817   \n",
       "XGBoost (HyperOpt)                              0.813          0.814   \n",
       "Logistic Regression                             0.804          0.796   \n",
       "Random Forest (Random Grid Search)              0.781          0.796   \n",
       "Support Vector Machine                          0.795          0.795   \n",
       "Naiva Bayes                                     0.747          0.743   \n",
       "\n",
       "                                    Training AUC  Test AUC  \n",
       "CatBoost (HyperOpt)                        0.947     0.850  \n",
       "XGBoost (HyperOpt)                         0.847     0.843  \n",
       "Logistic Regression                        0.846     0.836  \n",
       "Random Forest (Random Grid Search)         0.781     0.822  \n",
       "Support Vector Machine                     0.830     0.817  \n",
       "Naiva Bayes                                0.831     0.824  "
      ]
     },
     "execution_count": 100,
     "metadata": {},
     "output_type": "execute_result"
    }
   ],
   "source": [
    "final_results_df = pd.DataFrame(data=all_models, index=index_)\n",
    "final_results_df.sort_values(by='Test Accuracy', ascending=False)"
   ]
  },
  {
   "cell_type": "markdown",
   "metadata": {},
   "source": [
    "We can see that in terms of 'Accuracy' both the CatBoost and XGBoost performed well (as expected). However, looking at the AUC figures, we can see that the CatBoost algorithm overfitted quite a lot. Thus, the selected algorithm to predict customers likely to Churn, for this particular work, is the HyperOpt optimized **XGBoost** algorithm.\n",
    "\n",
    "Finally, the best way to use this model is assigning Churn Probability for each customer and build strategies on top of that. To get the churn probability from our model, the code below can be used."
   ]
  },
  {
   "cell_type": "code",
   "execution_count": 101,
   "metadata": {},
   "outputs": [
    {
     "data": {
      "text/plain": [
       "array([0.57711154, 0.27253523, 0.04791311, ..., 0.53535295, 0.6430056 ,\n",
       "       0.02817983], dtype=float32)"
      ]
     },
     "execution_count": 101,
     "metadata": {},
     "output_type": "execute_result"
    }
   ],
   "source": [
    "best_xgb.predict_proba(X_tr)[:,1]"
   ]
  }
 ],
 "metadata": {
  "kernelspec": {
   "display_name": "Python 3",
   "language": "python",
   "name": "python3"
  },
  "language_info": {
   "codemirror_mode": {
    "name": "ipython",
    "version": 3
   },
   "file_extension": ".py",
   "mimetype": "text/x-python",
   "name": "python",
   "nbconvert_exporter": "python",
   "pygments_lexer": "ipython3",
   "version": "3.7.7"
  }
 },
 "nbformat": 4,
 "nbformat_minor": 4
}
